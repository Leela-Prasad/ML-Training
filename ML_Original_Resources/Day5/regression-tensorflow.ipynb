{
 "cells": [
  {
   "cell_type": "markdown",
   "metadata": {
    "id": "FhGuhbZ6M5tl"
   },
   "source": [
    "##### Copyright 2018 The TensorFlow Authors."
   ]
  },
  {
   "cell_type": "code",
   "execution_count": null,
   "metadata": {
    "cellView": "form",
    "execution": {
     "iopub.execute_input": "2022-06-16T01:37:24.070144Z",
     "iopub.status.busy": "2022-06-16T01:37:24.069835Z",
     "iopub.status.idle": "2022-06-16T01:37:24.074571Z",
     "shell.execute_reply": "2022-06-16T01:37:24.073842Z"
    },
    "id": "AwOEIRJC6Une"
   },
   "outputs": [],
   "source": [
    "#@title Licensed under the Apache License, Version 2.0 (the \"License\");\n",
    "# you may not use this file except in compliance with the License.\n",
    "# You may obtain a copy of the License at\n",
    "#\n",
    "# https://www.apache.org/licenses/LICENSE-2.0\n",
    "#\n",
    "# Unless required by applicable law or agreed to in writing, software\n",
    "# distributed under the License is distributed on an \"AS IS\" BASIS,\n",
    "# WITHOUT WARRANTIES OR CONDITIONS OF ANY KIND, either express or implied.\n",
    "# See the License for the specific language governing permissions and\n",
    "# limitations under the License."
   ]
  },
  {
   "cell_type": "code",
   "execution_count": null,
   "metadata": {
    "cellView": "form",
    "execution": {
     "iopub.execute_input": "2022-06-16T01:37:24.078121Z",
     "iopub.status.busy": "2022-06-16T01:37:24.077858Z",
     "iopub.status.idle": "2022-06-16T01:37:24.081968Z",
     "shell.execute_reply": "2022-06-16T01:37:24.081236Z"
    },
    "id": "KyPEtTqk6VdG"
   },
   "outputs": [],
   "source": [
    "#@title MIT License\n",
    "#\n",
    "# Copyright (c) 2017 François Chollet\n",
    "#\n",
    "# Permission is hereby granted, free of charge, to any person obtaining a\n",
    "# copy of this software and associated documentation files (the \"Software\"),\n",
    "# to deal in the Software without restriction, including without limitation\n",
    "# the rights to use, copy, modify, merge, publish, distribute, sublicense,\n",
    "# and/or sell copies of the Software, and to permit persons to whom the\n",
    "# Software is furnished to do so, subject to the following conditions:\n",
    "#\n",
    "# The above copyright notice and this permission notice shall be included in\n",
    "# all copies or substantial portions of the Software.\n",
    "#\n",
    "# THE SOFTWARE IS PROVIDED \"AS IS\", WITHOUT WARRANTY OF ANY KIND, EXPRESS OR\n",
    "# IMPLIED, INCLUDING BUT NOT LIMITED TO THE WARRANTIES OF MERCHANTABILITY,\n",
    "# FITNESS FOR A PARTICULAR PURPOSE AND NONINFRINGEMENT. IN NO EVENT SHALL\n",
    "# THE AUTHORS OR COPYRIGHT HOLDERS BE LIABLE FOR ANY CLAIM, DAMAGES OR OTHER\n",
    "# LIABILITY, WHETHER IN AN ACTION OF CONTRACT, TORT OR OTHERWISE, ARISING\n",
    "# FROM, OUT OF OR IN CONNECTION WITH THE SOFTWARE OR THE USE OR OTHER\n",
    "# DEALINGS IN THE SOFTWARE."
   ]
  },
  {
   "cell_type": "markdown",
   "metadata": {
    "id": "EIdT9iu_Z4Rb"
   },
   "source": [
    "# Basic regression: Predict fuel efficiency"
   ]
  },
  {
   "cell_type": "markdown",
   "metadata": {
    "id": "bBIlTPscrIT9"
   },
   "source": [
    "<table class=\"tfo-notebook-buttons\" align=\"left\">\n",
    "  <td>\n",
    "    <a target=\"_blank\" href=\"https://www.tensorflow.org/tutorials/keras/regression\"><img src=\"https://www.tensorflow.org/images/tf_logo_32px.png\" />View on TensorFlow.org</a>\n",
    "  </td>\n",
    "  <td>\n",
    "    <a target=\"_blank\" href=\"https://colab.research.google.com/github/tensorflow/docs/blob/master/site/en/tutorials/keras/regression.ipynb\"><img src=\"https://www.tensorflow.org/images/colab_logo_32px.png\" />Run in Google Colab</a>\n",
    "  </td>\n",
    "  <td>\n",
    "    <a target=\"_blank\" href=\"https://github.com/tensorflow/docs/blob/master/site/en/tutorials/keras/regression.ipynb\"><img src=\"https://www.tensorflow.org/images/GitHub-Mark-32px.png\" />View source on GitHub</a>\n",
    "  </td>\n",
    "  <td>\n",
    "    <a href=\"https://storage.googleapis.com/tensorflow_docs/docs/site/en/tutorials/keras/regression.ipynb\"><img src=\"https://www.tensorflow.org/images/download_logo_32px.png\" />Download notebook</a>\n",
    "  </td>\n",
    "</table>"
   ]
  },
  {
   "cell_type": "markdown",
   "metadata": {
    "id": "AHp3M9ZmrIxj"
   },
   "source": [
    "In a *regression* problem, the aim is to predict the output of a continuous value, like a price or a probability. Contrast this with a *classification* problem, where the aim is to select a class from a list of classes (for example, where a picture contains an apple or an orange, recognizing which fruit is in the picture).\n",
    "\n",
    "This tutorial uses the classic [Auto MPG](https://archive.ics.uci.edu/ml/datasets/auto+mpg) dataset and demonstrates how to build models to predict the fuel efficiency of the late-1970s and early 1980s automobiles. To do this, you will provide the models with a description of many automobiles from that time period. This description includes attributes like cylinders, displacement, horsepower, and weight.\n",
    "\n",
    "This example uses the Keras API. (Visit the Keras [tutorials](https://www.tensorflow.org/tutorials/keras) and [guides](https://www.tensorflow.org/guide/keras) to learn more.)"
   ]
  },
  {
   "cell_type": "code",
   "execution_count": null,
   "metadata": {
    "execution": {
     "iopub.execute_input": "2022-06-16T01:37:24.086270Z",
     "iopub.status.busy": "2022-06-16T01:37:24.085608Z",
     "iopub.status.idle": "2022-06-16T01:37:25.710165Z",
     "shell.execute_reply": "2022-06-16T01:37:25.709004Z"
    },
    "id": "moB4tpEHxKB3"
   },
   "outputs": [],
   "source": [
    "# Use seaborn for pairplot.\n",
    "!pip install -q seaborn"
   ]
  },
  {
   "cell_type": "code",
   "execution_count": null,
   "metadata": {},
   "outputs": [],
   "source": [
    "!pip install tensorflow"
   ]
  },
  {
   "cell_type": "code",
   "execution_count": 57,
   "metadata": {
    "execution": {
     "iopub.execute_input": "2022-06-16T01:37:25.714605Z",
     "iopub.status.busy": "2022-06-16T01:37:25.714327Z",
     "iopub.status.idle": "2022-06-16T01:37:27.086286Z",
     "shell.execute_reply": "2022-06-16T01:37:27.085246Z"
    },
    "id": "1rRo8oNqZ-Rj"
   },
   "outputs": [],
   "source": [
    "import matplotlib.pyplot as plt\n",
    "import numpy as np\n",
    "import pandas as pd\n",
    "import seaborn as sns\n",
    "\n",
    "# Make NumPy printouts easier to read.\n",
    "np.set_printoptions(precision=3, suppress=True)"
   ]
  },
  {
   "cell_type": "code",
   "execution_count": 58,
   "metadata": {
    "execution": {
     "iopub.execute_input": "2022-06-16T01:37:27.090725Z",
     "iopub.status.busy": "2022-06-16T01:37:27.090349Z",
     "iopub.status.idle": "2022-06-16T01:37:28.801639Z",
     "shell.execute_reply": "2022-06-16T01:37:28.800684Z"
    },
    "id": "9xQKvCJ85kCQ"
   },
   "outputs": [
    {
     "name": "stdout",
     "output_type": "stream",
     "text": [
      "2.9.1\n"
     ]
    }
   ],
   "source": [
    "import tensorflow as tf\n",
    "\n",
    "from tensorflow import keras\n",
    "from tensorflow.keras import layers\n",
    "\n",
    "print(tf.__version__)"
   ]
  },
  {
   "cell_type": "markdown",
   "metadata": {
    "id": "F_72b0LCNbjx"
   },
   "source": [
    "## The Auto MPG dataset\n",
    "\n",
    "The dataset is available from the [UCI Machine Learning Repository](https://archive.ics.uci.edu/ml/).\n"
   ]
  },
  {
   "cell_type": "markdown",
   "metadata": {
    "id": "gFh9ne3FZ-On"
   },
   "source": [
    "### Get the data\n",
    "First download and import the dataset using pandas:"
   ]
  },
  {
   "cell_type": "code",
   "execution_count": 59,
   "metadata": {
    "execution": {
     "iopub.execute_input": "2022-06-16T01:37:28.830423Z",
     "iopub.status.busy": "2022-06-16T01:37:28.829924Z",
     "iopub.status.idle": "2022-06-16T01:37:29.164726Z",
     "shell.execute_reply": "2022-06-16T01:37:29.163763Z"
    },
    "id": "CiX2FI4gZtTt"
   },
   "outputs": [],
   "source": [
    "url = 'http://archive.ics.uci.edu/ml/machine-learning-databases/auto-mpg/auto-mpg.data'\n",
    "column_names = ['MPG', 'Cylinders', 'Displacement', 'Horsepower', 'Weight',\n",
    "                'Acceleration', 'Model Year', 'Origin']\n",
    "\n",
    "raw_dataset = pd.read_csv(url, names=column_names,\n",
    "                          na_values='?', comment='\\t',\n",
    "                          sep=' ', skipinitialspace=True)"
   ]
  },
  {
   "cell_type": "code",
   "execution_count": 60,
   "metadata": {
    "execution": {
     "iopub.execute_input": "2022-06-16T01:37:29.168273Z",
     "iopub.status.busy": "2022-06-16T01:37:29.168002Z",
     "iopub.status.idle": "2022-06-16T01:37:29.187341Z",
     "shell.execute_reply": "2022-06-16T01:37:29.186598Z"
    },
    "id": "2oY3pMPagJrO"
   },
   "outputs": [
    {
     "data": {
      "text/html": [
       "<div>\n",
       "<style scoped>\n",
       "    .dataframe tbody tr th:only-of-type {\n",
       "        vertical-align: middle;\n",
       "    }\n",
       "\n",
       "    .dataframe tbody tr th {\n",
       "        vertical-align: top;\n",
       "    }\n",
       "\n",
       "    .dataframe thead th {\n",
       "        text-align: right;\n",
       "    }\n",
       "</style>\n",
       "<table border=\"1\" class=\"dataframe\">\n",
       "  <thead>\n",
       "    <tr style=\"text-align: right;\">\n",
       "      <th></th>\n",
       "      <th>MPG</th>\n",
       "      <th>Cylinders</th>\n",
       "      <th>Displacement</th>\n",
       "      <th>Horsepower</th>\n",
       "      <th>Weight</th>\n",
       "      <th>Acceleration</th>\n",
       "      <th>Model Year</th>\n",
       "      <th>Origin</th>\n",
       "    </tr>\n",
       "  </thead>\n",
       "  <tbody>\n",
       "    <tr>\n",
       "      <th>393</th>\n",
       "      <td>27.0</td>\n",
       "      <td>4</td>\n",
       "      <td>140.0</td>\n",
       "      <td>86.0</td>\n",
       "      <td>2790.0</td>\n",
       "      <td>15.6</td>\n",
       "      <td>82</td>\n",
       "      <td>1</td>\n",
       "    </tr>\n",
       "    <tr>\n",
       "      <th>394</th>\n",
       "      <td>44.0</td>\n",
       "      <td>4</td>\n",
       "      <td>97.0</td>\n",
       "      <td>52.0</td>\n",
       "      <td>2130.0</td>\n",
       "      <td>24.6</td>\n",
       "      <td>82</td>\n",
       "      <td>2</td>\n",
       "    </tr>\n",
       "    <tr>\n",
       "      <th>395</th>\n",
       "      <td>32.0</td>\n",
       "      <td>4</td>\n",
       "      <td>135.0</td>\n",
       "      <td>84.0</td>\n",
       "      <td>2295.0</td>\n",
       "      <td>11.6</td>\n",
       "      <td>82</td>\n",
       "      <td>1</td>\n",
       "    </tr>\n",
       "    <tr>\n",
       "      <th>396</th>\n",
       "      <td>28.0</td>\n",
       "      <td>4</td>\n",
       "      <td>120.0</td>\n",
       "      <td>79.0</td>\n",
       "      <td>2625.0</td>\n",
       "      <td>18.6</td>\n",
       "      <td>82</td>\n",
       "      <td>1</td>\n",
       "    </tr>\n",
       "    <tr>\n",
       "      <th>397</th>\n",
       "      <td>31.0</td>\n",
       "      <td>4</td>\n",
       "      <td>119.0</td>\n",
       "      <td>82.0</td>\n",
       "      <td>2720.0</td>\n",
       "      <td>19.4</td>\n",
       "      <td>82</td>\n",
       "      <td>1</td>\n",
       "    </tr>\n",
       "  </tbody>\n",
       "</table>\n",
       "</div>"
      ],
      "text/plain": [
       "      MPG  Cylinders  Displacement  Horsepower  Weight  Acceleration  \\\n",
       "393  27.0          4         140.0        86.0  2790.0          15.6   \n",
       "394  44.0          4          97.0        52.0  2130.0          24.6   \n",
       "395  32.0          4         135.0        84.0  2295.0          11.6   \n",
       "396  28.0          4         120.0        79.0  2625.0          18.6   \n",
       "397  31.0          4         119.0        82.0  2720.0          19.4   \n",
       "\n",
       "     Model Year  Origin  \n",
       "393          82       1  \n",
       "394          82       2  \n",
       "395          82       1  \n",
       "396          82       1  \n",
       "397          82       1  "
      ]
     },
     "execution_count": 60,
     "metadata": {},
     "output_type": "execute_result"
    }
   ],
   "source": [
    "dataset = raw_dataset.copy()\n",
    "dataset.tail()"
   ]
  },
  {
   "cell_type": "markdown",
   "metadata": {
    "id": "3MWuJTKEDM-f"
   },
   "source": [
    "### Clean the data\n",
    "\n",
    "The dataset contains a few unknown values:"
   ]
  },
  {
   "cell_type": "code",
   "execution_count": 61,
   "metadata": {
    "execution": {
     "iopub.execute_input": "2022-06-16T01:37:29.191332Z",
     "iopub.status.busy": "2022-06-16T01:37:29.190679Z",
     "iopub.status.idle": "2022-06-16T01:37:29.197435Z",
     "shell.execute_reply": "2022-06-16T01:37:29.196626Z"
    },
    "id": "JEJHhN65a2VV"
   },
   "outputs": [
    {
     "data": {
      "text/plain": [
       "MPG             0\n",
       "Cylinders       0\n",
       "Displacement    0\n",
       "Horsepower      6\n",
       "Weight          0\n",
       "Acceleration    0\n",
       "Model Year      0\n",
       "Origin          0\n",
       "dtype: int64"
      ]
     },
     "execution_count": 61,
     "metadata": {},
     "output_type": "execute_result"
    }
   ],
   "source": [
    "dataset.isna().sum()"
   ]
  },
  {
   "cell_type": "markdown",
   "metadata": {
    "id": "9UPN0KBHa_WI"
   },
   "source": [
    "Drop those rows to keep this initial tutorial simple:"
   ]
  },
  {
   "cell_type": "code",
   "execution_count": 62,
   "metadata": {
    "execution": {
     "iopub.execute_input": "2022-06-16T01:37:29.201473Z",
     "iopub.status.busy": "2022-06-16T01:37:29.200779Z",
     "iopub.status.idle": "2022-06-16T01:37:29.205797Z",
     "shell.execute_reply": "2022-06-16T01:37:29.204988Z"
    },
    "id": "4ZUDosChC1UN"
   },
   "outputs": [],
   "source": [
    "dataset = dataset.dropna()"
   ]
  },
  {
   "cell_type": "markdown",
   "metadata": {
    "id": "8XKitwaH4v8h"
   },
   "source": [
    "The `\"Origin\"` column is categorical, not numeric. So the next step is to one-hot encode the values in the column with [pd.get_dummies](https://pandas.pydata.org/docs/reference/api/pandas.get_dummies.html).\n",
    "\n",
    "Note: You can set up the `tf.keras.Model` to do this kind of transformation for you but that's beyond the scope of this tutorial. Check out the [Classify structured data using Keras preprocessing layers](../structured_data/preprocessing_layers.ipynb) or [Load CSV data](../load_data/csv.ipynb) tutorials for examples."
   ]
  },
  {
   "cell_type": "code",
   "execution_count": 63,
   "metadata": {
    "execution": {
     "iopub.execute_input": "2022-06-16T01:37:29.209662Z",
     "iopub.status.busy": "2022-06-16T01:37:29.209010Z",
     "iopub.status.idle": "2022-06-16T01:37:29.214294Z",
     "shell.execute_reply": "2022-06-16T01:37:29.213499Z"
    },
    "id": "gWNTD2QjBWFJ"
   },
   "outputs": [],
   "source": [
    "dataset['Origin'] = dataset['Origin'].map({1: 'USA', 2: 'Europe', 3: 'Japan'})"
   ]
  },
  {
   "cell_type": "code",
   "execution_count": 64,
   "metadata": {
    "execution": {
     "iopub.execute_input": "2022-06-16T01:37:29.217643Z",
     "iopub.status.busy": "2022-06-16T01:37:29.217378Z",
     "iopub.status.idle": "2022-06-16T01:37:29.233790Z",
     "shell.execute_reply": "2022-06-16T01:37:29.232937Z"
    },
    "id": "ulXz4J7PAUzk"
   },
   "outputs": [
    {
     "data": {
      "text/html": [
       "<div>\n",
       "<style scoped>\n",
       "    .dataframe tbody tr th:only-of-type {\n",
       "        vertical-align: middle;\n",
       "    }\n",
       "\n",
       "    .dataframe tbody tr th {\n",
       "        vertical-align: top;\n",
       "    }\n",
       "\n",
       "    .dataframe thead th {\n",
       "        text-align: right;\n",
       "    }\n",
       "</style>\n",
       "<table border=\"1\" class=\"dataframe\">\n",
       "  <thead>\n",
       "    <tr style=\"text-align: right;\">\n",
       "      <th></th>\n",
       "      <th>MPG</th>\n",
       "      <th>Cylinders</th>\n",
       "      <th>Displacement</th>\n",
       "      <th>Horsepower</th>\n",
       "      <th>Weight</th>\n",
       "      <th>Acceleration</th>\n",
       "      <th>Model Year</th>\n",
       "      <th>Europe</th>\n",
       "      <th>Japan</th>\n",
       "      <th>USA</th>\n",
       "    </tr>\n",
       "  </thead>\n",
       "  <tbody>\n",
       "    <tr>\n",
       "      <th>393</th>\n",
       "      <td>27.0</td>\n",
       "      <td>4</td>\n",
       "      <td>140.0</td>\n",
       "      <td>86.0</td>\n",
       "      <td>2790.0</td>\n",
       "      <td>15.6</td>\n",
       "      <td>82</td>\n",
       "      <td>0</td>\n",
       "      <td>0</td>\n",
       "      <td>1</td>\n",
       "    </tr>\n",
       "    <tr>\n",
       "      <th>394</th>\n",
       "      <td>44.0</td>\n",
       "      <td>4</td>\n",
       "      <td>97.0</td>\n",
       "      <td>52.0</td>\n",
       "      <td>2130.0</td>\n",
       "      <td>24.6</td>\n",
       "      <td>82</td>\n",
       "      <td>1</td>\n",
       "      <td>0</td>\n",
       "      <td>0</td>\n",
       "    </tr>\n",
       "    <tr>\n",
       "      <th>395</th>\n",
       "      <td>32.0</td>\n",
       "      <td>4</td>\n",
       "      <td>135.0</td>\n",
       "      <td>84.0</td>\n",
       "      <td>2295.0</td>\n",
       "      <td>11.6</td>\n",
       "      <td>82</td>\n",
       "      <td>0</td>\n",
       "      <td>0</td>\n",
       "      <td>1</td>\n",
       "    </tr>\n",
       "    <tr>\n",
       "      <th>396</th>\n",
       "      <td>28.0</td>\n",
       "      <td>4</td>\n",
       "      <td>120.0</td>\n",
       "      <td>79.0</td>\n",
       "      <td>2625.0</td>\n",
       "      <td>18.6</td>\n",
       "      <td>82</td>\n",
       "      <td>0</td>\n",
       "      <td>0</td>\n",
       "      <td>1</td>\n",
       "    </tr>\n",
       "    <tr>\n",
       "      <th>397</th>\n",
       "      <td>31.0</td>\n",
       "      <td>4</td>\n",
       "      <td>119.0</td>\n",
       "      <td>82.0</td>\n",
       "      <td>2720.0</td>\n",
       "      <td>19.4</td>\n",
       "      <td>82</td>\n",
       "      <td>0</td>\n",
       "      <td>0</td>\n",
       "      <td>1</td>\n",
       "    </tr>\n",
       "  </tbody>\n",
       "</table>\n",
       "</div>"
      ],
      "text/plain": [
       "      MPG  Cylinders  Displacement  Horsepower  Weight  Acceleration  \\\n",
       "393  27.0          4         140.0        86.0  2790.0          15.6   \n",
       "394  44.0          4          97.0        52.0  2130.0          24.6   \n",
       "395  32.0          4         135.0        84.0  2295.0          11.6   \n",
       "396  28.0          4         120.0        79.0  2625.0          18.6   \n",
       "397  31.0          4         119.0        82.0  2720.0          19.4   \n",
       "\n",
       "     Model Year  Europe  Japan  USA  \n",
       "393          82       0      0    1  \n",
       "394          82       1      0    0  \n",
       "395          82       0      0    1  \n",
       "396          82       0      0    1  \n",
       "397          82       0      0    1  "
      ]
     },
     "execution_count": 64,
     "metadata": {},
     "output_type": "execute_result"
    }
   ],
   "source": [
    "dataset = pd.get_dummies(dataset, columns=['Origin'], prefix='', prefix_sep='')\n",
    "dataset.tail()"
   ]
  },
  {
   "cell_type": "markdown",
   "metadata": {
    "id": "Cuym4yvk76vU"
   },
   "source": [
    "### Split the data into training and test sets\n",
    "\n",
    "Now, split the dataset into a training set and a test set. You will use the test set in the final evaluation of your models."
   ]
  },
  {
   "cell_type": "code",
   "execution_count": 65,
   "metadata": {
    "execution": {
     "iopub.execute_input": "2022-06-16T01:37:29.237842Z",
     "iopub.status.busy": "2022-06-16T01:37:29.237194Z",
     "iopub.status.idle": "2022-06-16T01:37:29.242481Z",
     "shell.execute_reply": "2022-06-16T01:37:29.241715Z"
    },
    "id": "qn-IGhUE7_1H"
   },
   "outputs": [],
   "source": [
    "train_dataset = dataset.sample(frac=0.8, random_state=0)\n",
    "test_dataset = dataset.drop(train_dataset.index)"
   ]
  },
  {
   "cell_type": "markdown",
   "metadata": {
    "id": "J4ubs136WLNp"
   },
   "source": [
    "### Inspect the data\n",
    "\n",
    "Review the joint distribution of a few pairs of columns from the training set.\n",
    "\n",
    "The top row suggests that the fuel efficiency (MPG) is a function of all the other parameters. The other rows indicate they are functions of each other."
   ]
  },
  {
   "cell_type": "code",
   "execution_count": 66,
   "metadata": {
    "execution": {
     "iopub.execute_input": "2022-06-16T01:37:29.245887Z",
     "iopub.status.busy": "2022-06-16T01:37:29.245630Z",
     "iopub.status.idle": "2022-06-16T01:37:32.018030Z",
     "shell.execute_reply": "2022-06-16T01:37:32.017178Z"
    },
    "id": "oRKO_x8gWKv-"
   },
   "outputs": [
    {
     "data": {
      "text/plain": [
       "<seaborn.axisgrid.PairGrid at 0x2df53c2c520>"
      ]
     },
     "execution_count": 66,
     "metadata": {},
     "output_type": "execute_result"
    },
    {
     "data": {
      "image/png": "[encoded data removed]",
      "text/plain": [
       "<Figure size 720x720 with 20 Axes>"
      ]
     },
     "metadata": {
      "needs_background": "light"
     },
     "output_type": "display_data"
    }
   ],
   "source": [
    "sns.pairplot(train_dataset[['MPG', 'Cylinders', 'Displacement', 'Weight']], diag_kind='kde')"
   ]
  },
  {
   "cell_type": "markdown",
   "metadata": {
    "id": "gavKO_6DWRMP"
   },
   "source": [
    "Let's also check the overall statistics. Note how each feature covers a very different range:"
   ]
  },
  {
   "cell_type": "code",
   "execution_count": 67,
   "metadata": {
    "execution": {
     "iopub.execute_input": "2022-06-16T01:37:32.022713Z",
     "iopub.status.busy": "2022-06-16T01:37:32.022445Z",
     "iopub.status.idle": "2022-06-16T01:37:32.060971Z",
     "shell.execute_reply": "2022-06-16T01:37:32.060147Z"
    },
    "id": "yi2FzC3T21jR"
   },
   "outputs": [
    {
     "data": {
      "text/html": [
       "<div>\n",
       "<style scoped>\n",
       "    .dataframe tbody tr th:only-of-type {\n",
       "        vertical-align: middle;\n",
       "    }\n",
       "\n",
       "    .dataframe tbody tr th {\n",
       "        vertical-align: top;\n",
       "    }\n",
       "\n",
       "    .dataframe thead th {\n",
       "        text-align: right;\n",
       "    }\n",
       "</style>\n",
       "<table border=\"1\" class=\"dataframe\">\n",
       "  <thead>\n",
       "    <tr style=\"text-align: right;\">\n",
       "      <th></th>\n",
       "      <th>count</th>\n",
       "      <th>mean</th>\n",
       "      <th>std</th>\n",
       "      <th>min</th>\n",
       "      <th>25%</th>\n",
       "      <th>50%</th>\n",
       "      <th>75%</th>\n",
       "      <th>max</th>\n",
       "    </tr>\n",
       "  </thead>\n",
       "  <tbody>\n",
       "    <tr>\n",
       "      <th>MPG</th>\n",
       "      <td>314.0</td>\n",
       "      <td>23.310510</td>\n",
       "      <td>7.728652</td>\n",
       "      <td>10.0</td>\n",
       "      <td>17.00</td>\n",
       "      <td>22.0</td>\n",
       "      <td>28.95</td>\n",
       "      <td>46.6</td>\n",
       "    </tr>\n",
       "    <tr>\n",
       "      <th>Cylinders</th>\n",
       "      <td>314.0</td>\n",
       "      <td>5.477707</td>\n",
       "      <td>1.699788</td>\n",
       "      <td>3.0</td>\n",
       "      <td>4.00</td>\n",
       "      <td>4.0</td>\n",
       "      <td>8.00</td>\n",
       "      <td>8.0</td>\n",
       "    </tr>\n",
       "    <tr>\n",
       "      <th>Displacement</th>\n",
       "      <td>314.0</td>\n",
       "      <td>195.318471</td>\n",
       "      <td>104.331589</td>\n",
       "      <td>68.0</td>\n",
       "      <td>105.50</td>\n",
       "      <td>151.0</td>\n",
       "      <td>265.75</td>\n",
       "      <td>455.0</td>\n",
       "    </tr>\n",
       "    <tr>\n",
       "      <th>Horsepower</th>\n",
       "      <td>314.0</td>\n",
       "      <td>104.869427</td>\n",
       "      <td>38.096214</td>\n",
       "      <td>46.0</td>\n",
       "      <td>76.25</td>\n",
       "      <td>94.5</td>\n",
       "      <td>128.00</td>\n",
       "      <td>225.0</td>\n",
       "    </tr>\n",
       "    <tr>\n",
       "      <th>Weight</th>\n",
       "      <td>314.0</td>\n",
       "      <td>2990.251592</td>\n",
       "      <td>843.898596</td>\n",
       "      <td>1649.0</td>\n",
       "      <td>2256.50</td>\n",
       "      <td>2822.5</td>\n",
       "      <td>3608.00</td>\n",
       "      <td>5140.0</td>\n",
       "    </tr>\n",
       "    <tr>\n",
       "      <th>Acceleration</th>\n",
       "      <td>314.0</td>\n",
       "      <td>15.559236</td>\n",
       "      <td>2.789230</td>\n",
       "      <td>8.0</td>\n",
       "      <td>13.80</td>\n",
       "      <td>15.5</td>\n",
       "      <td>17.20</td>\n",
       "      <td>24.8</td>\n",
       "    </tr>\n",
       "    <tr>\n",
       "      <th>Model Year</th>\n",
       "      <td>314.0</td>\n",
       "      <td>75.898089</td>\n",
       "      <td>3.675642</td>\n",
       "      <td>70.0</td>\n",
       "      <td>73.00</td>\n",
       "      <td>76.0</td>\n",
       "      <td>79.00</td>\n",
       "      <td>82.0</td>\n",
       "    </tr>\n",
       "    <tr>\n",
       "      <th>Europe</th>\n",
       "      <td>314.0</td>\n",
       "      <td>0.178344</td>\n",
       "      <td>0.383413</td>\n",
       "      <td>0.0</td>\n",
       "      <td>0.00</td>\n",
       "      <td>0.0</td>\n",
       "      <td>0.00</td>\n",
       "      <td>1.0</td>\n",
       "    </tr>\n",
       "    <tr>\n",
       "      <th>Japan</th>\n",
       "      <td>314.0</td>\n",
       "      <td>0.197452</td>\n",
       "      <td>0.398712</td>\n",
       "      <td>0.0</td>\n",
       "      <td>0.00</td>\n",
       "      <td>0.0</td>\n",
       "      <td>0.00</td>\n",
       "      <td>1.0</td>\n",
       "    </tr>\n",
       "    <tr>\n",
       "      <th>USA</th>\n",
       "      <td>314.0</td>\n",
       "      <td>0.624204</td>\n",
       "      <td>0.485101</td>\n",
       "      <td>0.0</td>\n",
       "      <td>0.00</td>\n",
       "      <td>1.0</td>\n",
       "      <td>1.00</td>\n",
       "      <td>1.0</td>\n",
       "    </tr>\n",
       "  </tbody>\n",
       "</table>\n",
       "</div>"
      ],
      "text/plain": [
       "              count         mean         std     min      25%     50%  \\\n",
       "MPG           314.0    23.310510    7.728652    10.0    17.00    22.0   \n",
       "Cylinders     314.0     5.477707    1.699788     3.0     4.00     4.0   \n",
       "Displacement  314.0   195.318471  104.331589    68.0   105.50   151.0   \n",
       "Horsepower    314.0   104.869427   38.096214    46.0    76.25    94.5   \n",
       "Weight        314.0  2990.251592  843.898596  1649.0  2256.50  2822.5   \n",
       "Acceleration  314.0    15.559236    2.789230     8.0    13.80    15.5   \n",
       "Model Year    314.0    75.898089    3.675642    70.0    73.00    76.0   \n",
       "Europe        314.0     0.178344    0.383413     0.0     0.00     0.0   \n",
       "Japan         314.0     0.197452    0.398712     0.0     0.00     0.0   \n",
       "USA           314.0     0.624204    0.485101     0.0     0.00     1.0   \n",
       "\n",
       "                  75%     max  \n",
       "MPG             28.95    46.6  \n",
       "Cylinders        8.00     8.0  \n",
       "Displacement   265.75   455.0  \n",
       "Horsepower     128.00   225.0  \n",
       "Weight        3608.00  5140.0  \n",
       "Acceleration    17.20    24.8  \n",
       "Model Year      79.00    82.0  \n",
       "Europe           0.00     1.0  \n",
       "Japan            0.00     1.0  \n",
       "USA              1.00     1.0  "
      ]
     },
     "execution_count": 67,
     "metadata": {},
     "output_type": "execute_result"
    }
   ],
   "source": [
    "train_dataset.describe().transpose()"
   ]
  },
  {
   "cell_type": "markdown",
   "metadata": {
    "id": "Db7Auq1yXUvh"
   },
   "source": [
    "### Split features from labels\n",
    "\n",
    "Separate the target value—the \"label\"—from the features. This label is the value that you will train the model to predict."
   ]
  },
  {
   "cell_type": "code",
   "execution_count": 68,
   "metadata": {
    "execution": {
     "iopub.execute_input": "2022-06-16T01:37:32.064430Z",
     "iopub.status.busy": "2022-06-16T01:37:32.064147Z",
     "iopub.status.idle": "2022-06-16T01:37:32.069644Z",
     "shell.execute_reply": "2022-06-16T01:37:32.068859Z"
    },
    "id": "t2sluJdCW7jN"
   },
   "outputs": [],
   "source": [
    "train_features = train_dataset.copy()\n",
    "test_features = test_dataset.copy()\n",
    "\n",
    "train_labels = train_features.pop('MPG')\n",
    "test_labels = test_features.pop('MPG')"
   ]
  },
  {
   "cell_type": "markdown",
   "metadata": {
    "id": "mRklxK5s388r"
   },
   "source": [
    "## Normalization\n",
    "\n",
    "In the table of statistics it's easy to see how different the ranges of each feature are:"
   ]
  },
  {
   "cell_type": "code",
   "execution_count": 69,
   "metadata": {
    "execution": {
     "iopub.execute_input": "2022-06-16T01:37:32.073498Z",
     "iopub.status.busy": "2022-06-16T01:37:32.072790Z",
     "iopub.status.idle": "2022-06-16T01:37:32.103435Z",
     "shell.execute_reply": "2022-06-16T01:37:32.102654Z"
    },
    "id": "IcmY6lKKbkw8"
   },
   "outputs": [
    {
     "data": {
      "text/html": [
       "<div>\n",
       "<style scoped>\n",
       "    .dataframe tbody tr th:only-of-type {\n",
       "        vertical-align: middle;\n",
       "    }\n",
       "\n",
       "    .dataframe tbody tr th {\n",
       "        vertical-align: top;\n",
       "    }\n",
       "\n",
       "    .dataframe thead th {\n",
       "        text-align: right;\n",
       "    }\n",
       "</style>\n",
       "<table border=\"1\" class=\"dataframe\">\n",
       "  <thead>\n",
       "    <tr style=\"text-align: right;\">\n",
       "      <th></th>\n",
       "      <th>mean</th>\n",
       "      <th>std</th>\n",
       "    </tr>\n",
       "  </thead>\n",
       "  <tbody>\n",
       "    <tr>\n",
       "      <th>MPG</th>\n",
       "      <td>23.310510</td>\n",
       "      <td>7.728652</td>\n",
       "    </tr>\n",
       "    <tr>\n",
       "      <th>Cylinders</th>\n",
       "      <td>5.477707</td>\n",
       "      <td>1.699788</td>\n",
       "    </tr>\n",
       "    <tr>\n",
       "      <th>Displacement</th>\n",
       "      <td>195.318471</td>\n",
       "      <td>104.331589</td>\n",
       "    </tr>\n",
       "    <tr>\n",
       "      <th>Horsepower</th>\n",
       "      <td>104.869427</td>\n",
       "      <td>38.096214</td>\n",
       "    </tr>\n",
       "    <tr>\n",
       "      <th>Weight</th>\n",
       "      <td>2990.251592</td>\n",
       "      <td>843.898596</td>\n",
       "    </tr>\n",
       "    <tr>\n",
       "      <th>Acceleration</th>\n",
       "      <td>15.559236</td>\n",
       "      <td>2.789230</td>\n",
       "    </tr>\n",
       "    <tr>\n",
       "      <th>Model Year</th>\n",
       "      <td>75.898089</td>\n",
       "      <td>3.675642</td>\n",
       "    </tr>\n",
       "    <tr>\n",
       "      <th>Europe</th>\n",
       "      <td>0.178344</td>\n",
       "      <td>0.383413</td>\n",
       "    </tr>\n",
       "    <tr>\n",
       "      <th>Japan</th>\n",
       "      <td>0.197452</td>\n",
       "      <td>0.398712</td>\n",
       "    </tr>\n",
       "    <tr>\n",
       "      <th>USA</th>\n",
       "      <td>0.624204</td>\n",
       "      <td>0.485101</td>\n",
       "    </tr>\n",
       "  </tbody>\n",
       "</table>\n",
       "</div>"
      ],
      "text/plain": [
       "                     mean         std\n",
       "MPG             23.310510    7.728652\n",
       "Cylinders        5.477707    1.699788\n",
       "Displacement   195.318471  104.331589\n",
       "Horsepower     104.869427   38.096214\n",
       "Weight        2990.251592  843.898596\n",
       "Acceleration    15.559236    2.789230\n",
       "Model Year      75.898089    3.675642\n",
       "Europe           0.178344    0.383413\n",
       "Japan            0.197452    0.398712\n",
       "USA              0.624204    0.485101"
      ]
     },
     "execution_count": 69,
     "metadata": {},
     "output_type": "execute_result"
    }
   ],
   "source": [
    "train_dataset.describe().transpose()[['mean', 'std']]"
   ]
  },
  {
   "cell_type": "markdown",
   "metadata": {
    "id": "-ywmerQ6dSox"
   },
   "source": [
    "It is good practice to normalize features that use different scales and ranges.\n",
    "\n",
    "One reason this is important is because the features are multiplied by the model weights. So, the scale of the outputs and the scale of the gradients are affected by the scale of the inputs.\n",
    "\n",
    "Although a model *might* converge without feature normalization, normalization makes training much more stable.\n",
    "\n",
    "Note: There is no advantage to normalizing the one-hot features—it is done here for simplicity. For more details on how to use the preprocessing layers, refer to the [Working with preprocessing layers](https://www.tensorflow.org/guide/keras/preprocessing_layers) guide and the [Classify structured data using Keras preprocessing layers](../structured_data/preprocessing_layers.ipynb) tutorial."
   ]
  },
  {
   "cell_type": "markdown",
   "metadata": {
    "id": "aFJ6ISropeoo"
   },
   "source": [
    "### The Normalization layer\n",
    "\n",
    "The `tf.keras.layers.Normalization` is a clean and simple way to add feature normalization into your model.\n",
    "\n",
    "The first step is to create the layer:"
   ]
  },
  {
   "cell_type": "code",
   "execution_count": 70,
   "metadata": {
    "execution": {
     "iopub.execute_input": "2022-06-16T01:37:32.107447Z",
     "iopub.status.busy": "2022-06-16T01:37:32.107134Z",
     "iopub.status.idle": "2022-06-16T01:37:32.114081Z",
     "shell.execute_reply": "2022-06-16T01:37:32.113297Z"
    },
    "id": "JlC5ooJrgjQF"
   },
   "outputs": [],
   "source": [
    "normalizer = tf.keras.layers.Normalization(axis=-1)"
   ]
  },
  {
   "cell_type": "markdown",
   "metadata": {
    "id": "XYA2Ap6nVOha"
   },
   "source": [
    "Then, fit the state of the preprocessing layer to the data by calling `Normalization.adapt`:"
   ]
  },
  {
   "cell_type": "code",
   "execution_count": 71,
   "metadata": {
    "execution": {
     "iopub.execute_input": "2022-06-16T01:37:32.117794Z",
     "iopub.status.busy": "2022-06-16T01:37:32.117537Z",
     "iopub.status.idle": "2022-06-16T01:37:35.361879Z",
     "shell.execute_reply": "2022-06-16T01:37:35.360851Z"
    },
    "id": "CrBbbjbwV91f"
   },
   "outputs": [],
   "source": [
    "normalizer.adapt(np.array(train_features))"
   ]
  },
  {
   "cell_type": "markdown",
   "metadata": {
    "id": "oZccMR5yV9YV"
   },
   "source": [
    "Calculate the mean and variance, and store them in the layer:"
   ]
  },
  {
   "cell_type": "code",
   "execution_count": 72,
   "metadata": {
    "execution": {
     "iopub.execute_input": "2022-06-16T01:37:35.366092Z",
     "iopub.status.busy": "2022-06-16T01:37:35.365830Z",
     "iopub.status.idle": "2022-06-16T01:37:35.370904Z",
     "shell.execute_reply": "2022-06-16T01:37:35.370065Z"
    },
    "id": "GGn-ukwxSPtx"
   },
   "outputs": [
    {
     "name": "stdout",
     "output_type": "stream",
     "text": [
      "[[   5.478  195.318  104.869 2990.252   15.559   75.898    0.178    0.197\n",
      "     0.624]]\n"
     ]
    }
   ],
   "source": [
    "print(normalizer.mean.numpy())"
   ]
  },
  {
   "cell_type": "markdown",
   "metadata": {
    "id": "oGWKaF9GSRuN"
   },
   "source": [
    "When the layer is called, it returns the input data, with each feature independently normalized:"
   ]
  },
  {
   "cell_type": "code",
   "execution_count": 73,
   "metadata": {
    "execution": {
     "iopub.execute_input": "2022-06-16T01:37:35.374612Z",
     "iopub.status.busy": "2022-06-16T01:37:35.374285Z",
     "iopub.status.idle": "2022-06-16T01:37:35.382418Z",
     "shell.execute_reply": "2022-06-16T01:37:35.381639Z"
    },
    "id": "2l7zFL_XWIRu"
   },
   "outputs": [
    {
     "name": "stdout",
     "output_type": "stream",
     "text": [
      "First example: [[   4.    90.    75.  2125.    14.5   74.     0.     0.     1. ]]\n",
      "\n",
      "Normalized: [[-0.87 -1.01 -0.79 -1.03 -0.38 -0.52 -0.47 -0.5   0.78]]\n"
     ]
    }
   ],
   "source": [
    "first = np.array(train_features[:1])\n",
    "\n",
    "with np.printoptions(precision=2, suppress=True):\n",
    "  print('First example:', first)\n",
    "  print()\n",
    "  print('Normalized:', normalizer(first).numpy())"
   ]
  },
  {
   "cell_type": "markdown",
   "metadata": {
    "id": "6o3CrycBXA2s"
   },
   "source": [
    "## Linear regression\n",
    "\n",
    "Before building a deep neural network model, start with linear regression using one and several variables."
   ]
  },
  {
   "cell_type": "markdown",
   "metadata": {
    "id": "lFby9n0tnHkw"
   },
   "source": [
    "### Linear regression with one variable\n",
    "\n",
    "Begin with a single-variable linear regression to predict `'MPG'` from `'Horsepower'`.\n",
    "\n",
    "Training a model with `tf.keras` typically starts by defining the model architecture. Use a `tf.keras.Sequential` model, which [represents a sequence of steps](https://www.tensorflow.org/guide/keras/sequential_model).\n",
    "\n",
    "There are two steps in your single-variable linear regression model:\n",
    "\n",
    "- Normalize the `'Horsepower'` input features using the `tf.keras.layers.Normalization` preprocessing layer.\n",
    "- Apply a linear transformation ($y = mx+b$) to produce 1 output using a linear layer (`tf.keras.layers.Dense`).\n",
    "\n",
    "The number of _inputs_ can either be set by the `input_shape` argument, or automatically when the model is run for the first time."
   ]
  },
  {
   "cell_type": "markdown",
   "metadata": {
    "id": "Xp3gAFn3TPv8"
   },
   "source": [
    "First, create a NumPy array made of the `'Horsepower'` features. Then, instantiate the `tf.keras.layers.Normalization` and fit its state to the `horsepower` data:"
   ]
  },
  {
   "cell_type": "code",
   "execution_count": 74,
   "metadata": {
    "execution": {
     "iopub.execute_input": "2022-06-16T01:37:35.386215Z",
     "iopub.status.busy": "2022-06-16T01:37:35.385960Z",
     "iopub.status.idle": "2022-06-16T01:37:35.585663Z",
     "shell.execute_reply": "2022-06-16T01:37:35.584741Z"
    },
    "id": "1gJAy0fKs1TS"
   },
   "outputs": [],
   "source": [
    "horsepower = np.array(train_features['Horsepower'])\n",
    "\n",
    "horsepower_normalizer = layers.Normalization(input_shape=[1,], axis=None)\n",
    "horsepower_normalizer.adapt(horsepower)"
   ]
  },
  {
   "cell_type": "markdown",
   "metadata": {
    "id": "4NVlHJY2TWlC"
   },
   "source": [
    "Build the Keras Sequential model:"
   ]
  },
  {
   "cell_type": "code",
   "execution_count": 75,
   "metadata": {
    "execution": {
     "iopub.execute_input": "2022-06-16T01:37:35.589404Z",
     "iopub.status.busy": "2022-06-16T01:37:35.589117Z",
     "iopub.status.idle": "2022-06-16T01:37:35.626937Z",
     "shell.execute_reply": "2022-06-16T01:37:35.626165Z"
    },
    "id": "c0sXM7qLlKfZ"
   },
   "outputs": [
    {
     "name": "stdout",
     "output_type": "stream",
     "text": [
      "Model: \"sequential_4\"\n",
      "_________________________________________________________________\n",
      " Layer (type)                Output Shape              Param #   \n",
      "=================================================================\n",
      " normalization_3 (Normalizat  (None, 1)                3         \n",
      " ion)                                                            \n",
      "                                                                 \n",
      " dense_8 (Dense)             (None, 1)                 2         \n",
      "                                                                 \n",
      "=================================================================\n",
      "Total params: 5\n",
      "Trainable params: 2\n",
      "Non-trainable params: 3\n",
      "_________________________________________________________________\n"
     ]
    }
   ],
   "source": [
    "horsepower_model = tf.keras.Sequential([\n",
    "    horsepower_normalizer,\n",
    "    layers.Dense(units=1)\n",
    "])\n",
    "\n",
    "horsepower_model.summary()"
   ]
  },
  {
   "cell_type": "markdown",
   "metadata": {
    "id": "eObQu9fDnXGL"
   },
   "source": [
    "This model will predict `'MPG'` from `'Horsepower'`.\n",
    "\n",
    "Run the untrained model on the first 10 'Horsepower' values. The output won't be good, but notice that it has the expected shape of `(10, 1)`:"
   ]
  },
  {
   "cell_type": "code",
   "execution_count": 76,
   "metadata": {
    "execution": {
     "iopub.execute_input": "2022-06-16T01:37:35.631850Z",
     "iopub.status.busy": "2022-06-16T01:37:35.631587Z",
     "iopub.status.idle": "2022-06-16T01:37:36.034529Z",
     "shell.execute_reply": "2022-06-16T01:37:36.033520Z"
    },
    "id": "UfV1HS6bns-s"
   },
   "outputs": [
    {
     "name": "stdout",
     "output_type": "stream",
     "text": [
      "1/1 [==============================] - 0s 59ms/step\n"
     ]
    },
    {
     "data": {
      "text/plain": [
       "array([[-1.09 ],\n",
       "       [-0.616],\n",
       "       [ 2.012],\n",
       "       [-1.528],\n",
       "       [-1.382],\n",
       "       [-0.543],\n",
       "       [-1.637],\n",
       "       [-1.382],\n",
       "       [-0.36 ],\n",
       "       [-0.616]], dtype=float32)"
      ]
     },
     "execution_count": 76,
     "metadata": {},
     "output_type": "execute_result"
    }
   ],
   "source": [
    "horsepower_model.predict(horsepower[:10])"
   ]
  },
  {
   "cell_type": "markdown",
   "metadata": {
    "id": "CSkanJlmmFBX"
   },
   "source": [
    "Once the model is built, configure the training procedure using the Keras `Model.compile` method. The most important arguments to compile are the `loss` and the `optimizer`, since these define what will be optimized (`mean_absolute_error`) and how (using the `tf.keras.optimizers.Adam`)."
   ]
  },
  {
   "cell_type": "code",
   "execution_count": 77,
   "metadata": {
    "execution": {
     "iopub.execute_input": "2022-06-16T01:37:36.038463Z",
     "iopub.status.busy": "2022-06-16T01:37:36.038152Z",
     "iopub.status.idle": "2022-06-16T01:37:36.050568Z",
     "shell.execute_reply": "2022-06-16T01:37:36.049720Z"
    },
    "id": "JxA_3lpOm-SK"
   },
   "outputs": [],
   "source": [
    "horsepower_model.compile(\n",
    "    optimizer=tf.keras.optimizers.Adam(learning_rate=0.1),\n",
    "    loss='mean_absolute_error')"
   ]
  },
  {
   "cell_type": "markdown",
   "metadata": {
    "id": "Z3q1I9TwnRSC"
   },
   "source": [
    "Use Keras `Model.fit` to execute the training for 100 epochs:"
   ]
  },
  {
   "cell_type": "code",
   "execution_count": 79,
   "metadata": {
    "execution": {
     "iopub.execute_input": "2022-06-16T01:37:36.054101Z",
     "iopub.status.busy": "2022-06-16T01:37:36.053833Z",
     "iopub.status.idle": "2022-06-16T01:37:40.833015Z",
     "shell.execute_reply": "2022-06-16T01:37:40.832093Z"
    },
    "id": "-iSrNy59nRAp"
   },
   "outputs": [
    {
     "name": "stdout",
     "output_type": "stream",
     "text": [
      "CPU times: total: 3.48 s\n",
      "Wall time: 3.17 s\n"
     ]
    }
   ],
   "source": [
    "%%time\n",
    "history = horsepower_model.fit(\n",
    "    train_features['Horsepower'],\n",
    "    train_labels,\n",
    "    epochs=100,\n",
    "    # Suppress logging.\n",
    "    verbose=0,\n",
    "    # Calculate validation results on 20% of the training data.\n",
    "    validation_split = 0.2)"
   ]
  },
  {
   "cell_type": "markdown",
   "metadata": {
    "id": "tQm3pc0FYPQB"
   },
   "source": [
    "Visualize the model's training progress using the stats stored in the `history` object:"
   ]
  },
  {
   "cell_type": "code",
   "execution_count": 80,
   "metadata": {
    "execution": {
     "iopub.execute_input": "2022-06-16T01:37:40.837885Z",
     "iopub.status.busy": "2022-06-16T01:37:40.836952Z",
     "iopub.status.idle": "2022-06-16T01:37:40.847830Z",
     "shell.execute_reply": "2022-06-16T01:37:40.846976Z"
    },
    "id": "YCAwD_y4AdC3"
   },
   "outputs": [
    {
     "data": {
      "text/html": [
       "<div>\n",
       "<style scoped>\n",
       "    .dataframe tbody tr th:only-of-type {\n",
       "        vertical-align: middle;\n",
       "    }\n",
       "\n",
       "    .dataframe tbody tr th {\n",
       "        vertical-align: top;\n",
       "    }\n",
       "\n",
       "    .dataframe thead th {\n",
       "        text-align: right;\n",
       "    }\n",
       "</style>\n",
       "<table border=\"1\" class=\"dataframe\">\n",
       "  <thead>\n",
       "    <tr style=\"text-align: right;\">\n",
       "      <th></th>\n",
       "      <th>loss</th>\n",
       "      <th>val_loss</th>\n",
       "      <th>epoch</th>\n",
       "    </tr>\n",
       "  </thead>\n",
       "  <tbody>\n",
       "    <tr>\n",
       "      <th>95</th>\n",
       "      <td>3.806473</td>\n",
       "      <td>4.192123</td>\n",
       "      <td>95</td>\n",
       "    </tr>\n",
       "    <tr>\n",
       "      <th>96</th>\n",
       "      <td>3.807206</td>\n",
       "      <td>4.201189</td>\n",
       "      <td>96</td>\n",
       "    </tr>\n",
       "    <tr>\n",
       "      <th>97</th>\n",
       "      <td>3.803817</td>\n",
       "      <td>4.188939</td>\n",
       "      <td>97</td>\n",
       "    </tr>\n",
       "    <tr>\n",
       "      <th>98</th>\n",
       "      <td>3.802498</td>\n",
       "      <td>4.195395</td>\n",
       "      <td>98</td>\n",
       "    </tr>\n",
       "    <tr>\n",
       "      <th>99</th>\n",
       "      <td>3.804825</td>\n",
       "      <td>4.195307</td>\n",
       "      <td>99</td>\n",
       "    </tr>\n",
       "  </tbody>\n",
       "</table>\n",
       "</div>"
      ],
      "text/plain": [
       "        loss  val_loss  epoch\n",
       "95  3.806473  4.192123     95\n",
       "96  3.807206  4.201189     96\n",
       "97  3.803817  4.188939     97\n",
       "98  3.802498  4.195395     98\n",
       "99  3.804825  4.195307     99"
      ]
     },
     "execution_count": 80,
     "metadata": {},
     "output_type": "execute_result"
    }
   ],
   "source": [
    "hist = pd.DataFrame(history.history)\n",
    "hist['epoch'] = history.epoch\n",
    "hist.tail()"
   ]
  },
  {
   "cell_type": "code",
   "execution_count": 81,
   "metadata": {
    "execution": {
     "iopub.execute_input": "2022-06-16T01:37:40.851256Z",
     "iopub.status.busy": "2022-06-16T01:37:40.850969Z",
     "iopub.status.idle": "2022-06-16T01:37:40.855872Z",
     "shell.execute_reply": "2022-06-16T01:37:40.855067Z"
    },
    "id": "9E54UoZunqhc"
   },
   "outputs": [],
   "source": [
    "def plot_loss(history):\n",
    "  plt.plot(history.history['loss'], label='loss')\n",
    "  plt.plot(history.history['val_loss'], label='val_loss')\n",
    "  plt.ylim([0, 10])\n",
    "  plt.xlabel('Epoch')\n",
    "  plt.ylabel('Error [MPG]')\n",
    "  plt.legend()\n",
    "  plt.grid(True)"
   ]
  },
  {
   "cell_type": "code",
   "execution_count": 82,
   "metadata": {
    "execution": {
     "iopub.execute_input": "2022-06-16T01:37:40.859186Z",
     "iopub.status.busy": "2022-06-16T01:37:40.858915Z",
     "iopub.status.idle": "2022-06-16T01:37:41.004585Z",
     "shell.execute_reply": "2022-06-16T01:37:41.003801Z"
    },
    "id": "yYsQYrIZyqjz"
   },
   "outputs": [
    {
     "data": {
      "image/png": "[encoded data removed]",
      "text/plain": [
       "<Figure size 432x288 with 1 Axes>"
      ]
     },
     "metadata": {
      "needs_background": "light"
     },
     "output_type": "display_data"
    }
   ],
   "source": [
    "plot_loss(history)"
   ]
  },
  {
   "cell_type": "markdown",
   "metadata": {
    "id": "CMNrt8X2ebXd"
   },
   "source": [
    "Collect the results on the test set for later:"
   ]
  },
  {
   "cell_type": "code",
   "execution_count": 83,
   "metadata": {
    "execution": {
     "iopub.execute_input": "2022-06-16T01:37:41.008131Z",
     "iopub.status.busy": "2022-06-16T01:37:41.007799Z",
     "iopub.status.idle": "2022-06-16T01:37:41.069927Z",
     "shell.execute_reply": "2022-06-16T01:37:41.069091Z"
    },
    "id": "kDZ8EvNYrDtx"
   },
   "outputs": [],
   "source": [
    "test_results = {}\n",
    "\n",
    "test_results['horsepower_model'] = horsepower_model.evaluate(\n",
    "    test_features['Horsepower'],\n",
    "    test_labels, verbose=0)"
   ]
  },
  {
   "cell_type": "markdown",
   "metadata": {
    "id": "F0qutYAKwoda"
   },
   "source": [
    "Since this is a single variable regression, it's easy to view the model's predictions as a function of the input:"
   ]
  },
  {
   "cell_type": "code",
   "execution_count": 84,
   "metadata": {
    "execution": {
     "iopub.execute_input": "2022-06-16T01:37:41.073572Z",
     "iopub.status.busy": "2022-06-16T01:37:41.073228Z",
     "iopub.status.idle": "2022-06-16T01:37:41.178460Z",
     "shell.execute_reply": "2022-06-16T01:37:41.177685Z"
    },
    "id": "xDS2JEtOn9Jn"
   },
   "outputs": [
    {
     "name": "stdout",
     "output_type": "stream",
     "text": [
      "8/8 [==============================] - 0s 1ms/step\n"
     ]
    }
   ],
   "source": [
    "x = tf.linspace(0.0, 250, 251)\n",
    "y = horsepower_model.predict(x)"
   ]
  },
  {
   "cell_type": "code",
   "execution_count": 85,
   "metadata": {
    "execution": {
     "iopub.execute_input": "2022-06-16T01:37:41.181915Z",
     "iopub.status.busy": "2022-06-16T01:37:41.181624Z",
     "iopub.status.idle": "2022-06-16T01:37:41.186582Z",
     "shell.execute_reply": "2022-06-16T01:37:41.185765Z"
    },
    "id": "rttFCTU8czsI"
   },
   "outputs": [],
   "source": [
    "def plot_horsepower(x, y):\n",
    "  plt.scatter(train_features['Horsepower'], train_labels, label='Data')\n",
    "  plt.plot(x, y, color='k', label='Predictions')\n",
    "  plt.xlabel('Horsepower')\n",
    "  plt.ylabel('MPG')\n",
    "  plt.legend()"
   ]
  },
  {
   "cell_type": "code",
   "execution_count": 86,
   "metadata": {
    "execution": {
     "iopub.execute_input": "2022-06-16T01:37:41.190092Z",
     "iopub.status.busy": "2022-06-16T01:37:41.189828Z",
     "iopub.status.idle": "2022-06-16T01:37:41.359986Z",
     "shell.execute_reply": "2022-06-16T01:37:41.359261Z"
    },
    "id": "7l9ZiAOEUNBL"
   },
   "outputs": [
    {
     "data": {
      "image/png": "[encoded data removed]",
      "text/plain": [
       "<Figure size 432x288 with 1 Axes>"
      ]
     },
     "metadata": {
      "needs_background": "light"
     },
     "output_type": "display_data"
    }
   ],
   "source": [
    "plot_horsepower(x, y)"
   ]
  },
  {
   "cell_type": "markdown",
   "metadata": {
    "id": "Yk2RmlqPoM9u"
   },
   "source": [
    "### Linear regression with multiple inputs"
   ]
  },
  {
   "cell_type": "markdown",
   "metadata": {
    "id": "PribnwDHUksC"
   },
   "source": [
    "You can use an almost identical setup to make predictions based on multiple inputs. This model still does the same $y = mx+b$ except that $m$ is a matrix and $b$ is a vector.\n",
    "\n",
    "Create a two-step Keras Sequential model again with the first layer being `normalizer` (`tf.keras.layers.Normalization(axis=-1)`) you defined earlier and adapted to the whole dataset:"
   ]
  },
  {
   "cell_type": "code",
   "execution_count": null,
   "metadata": {
    "execution": {
     "iopub.execute_input": "2022-06-16T01:37:41.363864Z",
     "iopub.status.busy": "2022-06-16T01:37:41.363602Z",
     "iopub.status.idle": "2022-06-16T01:37:41.385487Z",
     "shell.execute_reply": "2022-06-16T01:37:41.384638Z"
    },
    "id": "ssnVcKg7oMe6"
   },
   "outputs": [],
   "source": [
    "linear_model = tf.keras.Sequential([\n",
    "    normalizer,\n",
    "    layers.Dense(units=1)\n",
    "])"
   ]
  },
  {
   "cell_type": "markdown",
   "metadata": {
    "id": "IHlx6WeIWyAr"
   },
   "source": [
    "When you call `Model.predict` on a batch of inputs, it produces `units=1` outputs for each example:"
   ]
  },
  {
   "cell_type": "code",
   "execution_count": null,
   "metadata": {
    "execution": {
     "iopub.execute_input": "2022-06-16T01:37:41.389070Z",
     "iopub.status.busy": "2022-06-16T01:37:41.388783Z",
     "iopub.status.idle": "2022-06-16T01:37:41.481006Z",
     "shell.execute_reply": "2022-06-16T01:37:41.480209Z"
    },
    "id": "DynfJV18WiuT"
   },
   "outputs": [],
   "source": [
    "linear_model.predict(train_features[:10])"
   ]
  },
  {
   "cell_type": "markdown",
   "metadata": {
    "id": "hvHKH3rPXHmq"
   },
   "source": [
    "When you call the model, its weight matrices will be built—check that the `kernel` weights (the $m$ in $y=mx+b$) have a shape of `(9, 1)`:"
   ]
  },
  {
   "cell_type": "code",
   "execution_count": null,
   "metadata": {
    "execution": {
     "iopub.execute_input": "2022-06-16T01:37:41.484477Z",
     "iopub.status.busy": "2022-06-16T01:37:41.484166Z",
     "iopub.status.idle": "2022-06-16T01:37:41.490221Z",
     "shell.execute_reply": "2022-06-16T01:37:41.489461Z"
    },
    "id": "DwJ4Fq0RXBQf"
   },
   "outputs": [],
   "source": [
    "linear_model.layers[1].kernel"
   ]
  },
  {
   "cell_type": "markdown",
   "metadata": {
    "id": "eINAc6rZXzOt"
   },
   "source": [
    "Configure the model with Keras `Model.compile` and train with `Model.fit` for 100 epochs:"
   ]
  },
  {
   "cell_type": "code",
   "execution_count": null,
   "metadata": {
    "execution": {
     "iopub.execute_input": "2022-06-16T01:37:41.493956Z",
     "iopub.status.busy": "2022-06-16T01:37:41.493674Z",
     "iopub.status.idle": "2022-06-16T01:37:41.502043Z",
     "shell.execute_reply": "2022-06-16T01:37:41.501229Z"
    },
    "id": "A0Sv_Ybr0szp"
   },
   "outputs": [],
   "source": [
    "linear_model.compile(\n",
    "    optimizer=tf.keras.optimizers.Adam(learning_rate=0.1),\n",
    "    loss='mean_absolute_error')"
   ]
  },
  {
   "cell_type": "code",
   "execution_count": null,
   "metadata": {
    "execution": {
     "iopub.execute_input": "2022-06-16T01:37:41.505516Z",
     "iopub.status.busy": "2022-06-16T01:37:41.505231Z",
     "iopub.status.idle": "2022-06-16T01:37:46.267888Z",
     "shell.execute_reply": "2022-06-16T01:37:46.266996Z"
    },
    "id": "EZoOYORvoTSe"
   },
   "outputs": [],
   "source": [
    "%%time\n",
    "history = linear_model.fit(\n",
    "    train_features,\n",
    "    train_labels,\n",
    "    epochs=100,\n",
    "    # Suppress logging.\n",
    "    verbose=0,\n",
    "    # Calculate validation results on 20% of the training data.\n",
    "    validation_split = 0.2)"
   ]
  },
  {
   "cell_type": "markdown",
   "metadata": {
    "id": "EdxiCbiNYK2F"
   },
   "source": [
    "Using all the inputs in this regression model achieves a much lower training and validation error than the `horsepower_model`, which had one input:"
   ]
  },
  {
   "cell_type": "code",
   "execution_count": null,
   "metadata": {
    "execution": {
     "iopub.execute_input": "2022-06-16T01:37:46.271922Z",
     "iopub.status.busy": "2022-06-16T01:37:46.271615Z",
     "iopub.status.idle": "2022-06-16T01:37:46.430400Z",
     "shell.execute_reply": "2022-06-16T01:37:46.429572Z"
    },
    "id": "4sWO3W0koYgu"
   },
   "outputs": [],
   "source": [
    "plot_loss(history)"
   ]
  },
  {
   "cell_type": "markdown",
   "metadata": {
    "id": "NyN49hIWe_NH"
   },
   "source": [
    "Collect the results on the test set for later:"
   ]
  },
  {
   "cell_type": "code",
   "execution_count": null,
   "metadata": {
    "execution": {
     "iopub.execute_input": "2022-06-16T01:37:46.434017Z",
     "iopub.status.busy": "2022-06-16T01:37:46.433721Z",
     "iopub.status.idle": "2022-06-16T01:37:46.505064Z",
     "shell.execute_reply": "2022-06-16T01:37:46.504193Z"
    },
    "id": "jNC3D1DGsGgK"
   },
   "outputs": [],
   "source": [
    "test_results['linear_model'] = linear_model.evaluate(\n",
    "    test_features, test_labels, verbose=0)"
   ]
  },
  {
   "cell_type": "markdown",
   "metadata": {
    "id": "SmjdzxKzEu1-"
   },
   "source": [
    "## Regression with a deep neural network (DNN)"
   ]
  },
  {
   "cell_type": "markdown",
   "metadata": {
    "id": "DT_aHPsrzO1t"
   },
   "source": [
    "In the previous section, you implemented two linear models for single and multiple inputs.\n",
    "\n",
    "Here, you will implement single-input and multiple-input DNN models.\n",
    "\n",
    "The code is basically the same except the model is expanded to include some \"hidden\" non-linear layers. The name \"hidden\" here just means not directly connected to the inputs or outputs."
   ]
  },
  {
   "cell_type": "markdown",
   "metadata": {
    "id": "6SWtkIjhrZwa"
   },
   "source": [
    "These models will contain a few more layers than the linear model:\n",
    "\n",
    "* The normalization layer, as before (with `horsepower_normalizer` for a single-input model and `normalizer` for a multiple-input model).\n",
    "* Two hidden, non-linear, `Dense` layers with the ReLU (`relu`) activation function nonlinearity.\n",
    "* A linear `Dense` single-output layer.\n",
    "\n",
    "Both models will use the same training procedure, so the `compile` method is included in the `build_and_compile_model` function below."
   ]
  },
  {
   "cell_type": "code",
   "execution_count": null,
   "metadata": {
    "execution": {
     "iopub.execute_input": "2022-06-16T01:37:46.509115Z",
     "iopub.status.busy": "2022-06-16T01:37:46.508799Z",
     "iopub.status.idle": "2022-06-16T01:37:46.514105Z",
     "shell.execute_reply": "2022-06-16T01:37:46.513192Z"
    },
    "id": "c26juK7ZG8j-"
   },
   "outputs": [],
   "source": [
    "def build_and_compile_model(norm):\n",
    "  model = keras.Sequential([\n",
    "      norm,\n",
    "      layers.Dense(64, activation='relu'),\n",
    "      layers.Dense(64, activation='relu'),\n",
    "      layers.Dense(1)\n",
    "  ])\n",
    "\n",
    "  model.compile(loss='mean_absolute_error',\n",
    "                optimizer=tf.keras.optimizers.Adam(0.001))\n",
    "  return model"
   ]
  },
  {
   "cell_type": "markdown",
   "metadata": {
    "id": "6c51caebbc0d"
   },
   "source": [
    "### Regression using a DNN and a single input"
   ]
  },
  {
   "cell_type": "markdown",
   "metadata": {
    "id": "xvu9gtxTZR5V"
   },
   "source": [
    "Create a DNN model with only `'Horsepower'` as input and `horsepower_normalizer` (defined earlier) as the normalization layer:"
   ]
  },
  {
   "cell_type": "code",
   "execution_count": null,
   "metadata": {
    "execution": {
     "iopub.execute_input": "2022-06-16T01:37:46.518076Z",
     "iopub.status.busy": "2022-06-16T01:37:46.517808Z",
     "iopub.status.idle": "2022-06-16T01:37:46.561331Z",
     "shell.execute_reply": "2022-06-16T01:37:46.560553Z"
    },
    "id": "cGbPb-PHGbhs"
   },
   "outputs": [],
   "source": [
    "dnn_horsepower_model = build_and_compile_model(horsepower_normalizer)"
   ]
  },
  {
   "cell_type": "markdown",
   "metadata": {
    "id": "Sj49Og4YGULr"
   },
   "source": [
    "This model has quite a few more trainable parameters than the linear models:"
   ]
  },
  {
   "cell_type": "code",
   "execution_count": null,
   "metadata": {
    "execution": {
     "iopub.execute_input": "2022-06-16T01:37:46.565600Z",
     "iopub.status.busy": "2022-06-16T01:37:46.564979Z",
     "iopub.status.idle": "2022-06-16T01:37:46.582607Z",
     "shell.execute_reply": "2022-06-16T01:37:46.581796Z"
    },
    "id": "ReAD0n6MsFK-"
   },
   "outputs": [],
   "source": [
    "dnn_horsepower_model.summary()"
   ]
  },
  {
   "cell_type": "markdown",
   "metadata": {
    "id": "0-qWCsh6DlyH"
   },
   "source": [
    "Train the model with Keras `Model.fit`:"
   ]
  },
  {
   "cell_type": "code",
   "execution_count": null,
   "metadata": {
    "execution": {
     "iopub.execute_input": "2022-06-16T01:37:46.588590Z",
     "iopub.status.busy": "2022-06-16T01:37:46.588037Z",
     "iopub.status.idle": "2022-06-16T01:37:51.655644Z",
     "shell.execute_reply": "2022-06-16T01:37:51.654718Z"
    },
    "id": "sD7qHCmNIOY0"
   },
   "outputs": [],
   "source": [
    "%%time\n",
    "history = dnn_horsepower_model.fit(\n",
    "    train_features['Horsepower'],\n",
    "    train_labels,\n",
    "    validation_split=0.2,\n",
    "    verbose=0, epochs=100)"
   ]
  },
  {
   "cell_type": "markdown",
   "metadata": {
    "id": "dArGGxHxcKjN"
   },
   "source": [
    "This model does slightly better than the linear single-input `horsepower_model`:"
   ]
  },
  {
   "cell_type": "code",
   "execution_count": null,
   "metadata": {
    "execution": {
     "iopub.execute_input": "2022-06-16T01:37:51.659683Z",
     "iopub.status.busy": "2022-06-16T01:37:51.659362Z",
     "iopub.status.idle": "2022-06-16T01:37:51.813187Z",
     "shell.execute_reply": "2022-06-16T01:37:51.812363Z"
    },
    "id": "NcF6UWjdCU8T"
   },
   "outputs": [],
   "source": [
    "plot_loss(history)"
   ]
  },
  {
   "cell_type": "markdown",
   "metadata": {
    "id": "TG1snlpR2QCK"
   },
   "source": [
    "If you plot the predictions as a function of `'Horsepower'`, you should notice how this model takes advantage of the nonlinearity provided by the hidden layers:"
   ]
  },
  {
   "cell_type": "code",
   "execution_count": null,
   "metadata": {
    "execution": {
     "iopub.execute_input": "2022-06-16T01:37:51.816926Z",
     "iopub.status.busy": "2022-06-16T01:37:51.816643Z",
     "iopub.status.idle": "2022-06-16T01:37:51.932559Z",
     "shell.execute_reply": "2022-06-16T01:37:51.931649Z"
    },
    "id": "hPF53Rem14NS"
   },
   "outputs": [],
   "source": [
    "x = tf.linspace(0.0, 250, 251)\n",
    "y = dnn_horsepower_model.predict(x)"
   ]
  },
  {
   "cell_type": "code",
   "execution_count": null,
   "metadata": {
    "execution": {
     "iopub.execute_input": "2022-06-16T01:37:51.936008Z",
     "iopub.status.busy": "2022-06-16T01:37:51.935714Z",
     "iopub.status.idle": "2022-06-16T01:37:52.106312Z",
     "shell.execute_reply": "2022-06-16T01:37:52.105417Z"
    },
    "id": "rsf9rD8I17Wq"
   },
   "outputs": [],
   "source": [
    "plot_horsepower(x, y)"
   ]
  },
  {
   "cell_type": "markdown",
   "metadata": {
    "id": "WxCJKIUpe4io"
   },
   "source": [
    "Collect the results on the test set for later:"
   ]
  },
  {
   "cell_type": "code",
   "execution_count": null,
   "metadata": {
    "execution": {
     "iopub.execute_input": "2022-06-16T01:37:52.110280Z",
     "iopub.status.busy": "2022-06-16T01:37:52.109702Z",
     "iopub.status.idle": "2022-06-16T01:37:52.174910Z",
     "shell.execute_reply": "2022-06-16T01:37:52.174085Z"
    },
    "id": "bJjM0dU52XtN"
   },
   "outputs": [],
   "source": [
    "test_results['dnn_horsepower_model'] = dnn_horsepower_model.evaluate(\n",
    "    test_features['Horsepower'], test_labels,\n",
    "    verbose=0)"
   ]
  },
  {
   "cell_type": "markdown",
   "metadata": {
    "id": "S_2Btebp2e64"
   },
   "source": [
    "### Regression using a DNN and multiple inputs"
   ]
  },
  {
   "cell_type": "markdown",
   "metadata": {
    "id": "aKFtezDldLSf"
   },
   "source": [
    "Repeat the previous process using all the inputs. The model's performance slightly improves on the validation dataset."
   ]
  },
  {
   "cell_type": "code",
   "execution_count": null,
   "metadata": {
    "execution": {
     "iopub.execute_input": "2022-06-16T01:37:52.179009Z",
     "iopub.status.busy": "2022-06-16T01:37:52.178721Z",
     "iopub.status.idle": "2022-06-16T01:37:52.233906Z",
     "shell.execute_reply": "2022-06-16T01:37:52.233118Z"
    },
    "id": "c0mhscXh2k36"
   },
   "outputs": [],
   "source": [
    "dnn_model = build_and_compile_model(normalizer)\n",
    "dnn_model.summary()"
   ]
  },
  {
   "cell_type": "code",
   "execution_count": null,
   "metadata": {
    "execution": {
     "iopub.execute_input": "2022-06-16T01:37:52.239509Z",
     "iopub.status.busy": "2022-06-16T01:37:52.239167Z",
     "iopub.status.idle": "2022-06-16T01:37:57.266766Z",
     "shell.execute_reply": "2022-06-16T01:37:57.265465Z"
    },
    "id": "CXDENACl2tuW"
   },
   "outputs": [],
   "source": [
    "%%time\n",
    "history = dnn_model.fit(\n",
    "    train_features,\n",
    "    train_labels,\n",
    "    validation_split=0.2,\n",
    "    verbose=0, epochs=100)"
   ]
  },
  {
   "cell_type": "code",
   "execution_count": null,
   "metadata": {
    "execution": {
     "iopub.execute_input": "2022-06-16T01:37:57.270912Z",
     "iopub.status.busy": "2022-06-16T01:37:57.270542Z",
     "iopub.status.idle": "2022-06-16T01:37:57.471378Z",
     "shell.execute_reply": "2022-06-16T01:37:57.470577Z"
    },
    "id": "-9Dbj0fX23RQ"
   },
   "outputs": [],
   "source": [
    "plot_loss(history)"
   ]
  },
  {
   "cell_type": "markdown",
   "metadata": {
    "id": "hWoVYS34fJPZ"
   },
   "source": [
    "Collect the results on the test set:"
   ]
  },
  {
   "cell_type": "code",
   "execution_count": null,
   "metadata": {
    "execution": {
     "iopub.execute_input": "2022-06-16T01:37:57.475040Z",
     "iopub.status.busy": "2022-06-16T01:37:57.474781Z",
     "iopub.status.idle": "2022-06-16T01:37:57.547030Z",
     "shell.execute_reply": "2022-06-16T01:37:57.546235Z"
    },
    "id": "-bZIa96W3c7K"
   },
   "outputs": [],
   "source": [
    "test_results['dnn_model'] = dnn_model.evaluate(test_features, test_labels, verbose=0)"
   ]
  },
  {
   "cell_type": "markdown",
   "metadata": {
    "id": "uiCucdPLfMkZ"
   },
   "source": [
    "## Performance"
   ]
  },
  {
   "cell_type": "markdown",
   "metadata": {
    "id": "rDf1xebEfWBw"
   },
   "source": [
    "Since all models have been trained, you can review their test set performance:"
   ]
  },
  {
   "cell_type": "code",
   "execution_count": null,
   "metadata": {
    "execution": {
     "iopub.execute_input": "2022-06-16T01:37:57.550913Z",
     "iopub.status.busy": "2022-06-16T01:37:57.550656Z",
     "iopub.status.idle": "2022-06-16T01:37:57.559235Z",
     "shell.execute_reply": "2022-06-16T01:37:57.558285Z"
    },
    "id": "e5_ooufM5iH2"
   },
   "outputs": [],
   "source": [
    "pd.DataFrame(test_results, index=['Mean absolute error [MPG]']).T"
   ]
  },
  {
   "cell_type": "markdown",
   "metadata": {
    "id": "DABIVzsCf-QI"
   },
   "source": [
    "These results match the validation error observed during training."
   ]
  },
  {
   "cell_type": "markdown",
   "metadata": {
    "id": "ft603OzXuEZC"
   },
   "source": [
    "### Make predictions\n",
    "\n",
    "You can now make predictions with the `dnn_model` on the test set using Keras `Model.predict` and review the loss:"
   ]
  },
  {
   "cell_type": "code",
   "execution_count": null,
   "metadata": {
    "execution": {
     "iopub.execute_input": "2022-06-16T01:37:57.563016Z",
     "iopub.status.busy": "2022-06-16T01:37:57.562761Z",
     "iopub.status.idle": "2022-06-16T01:37:57.803178Z",
     "shell.execute_reply": "2022-06-16T01:37:57.802305Z"
    },
    "id": "Xe7RXH3N3CWU"
   },
   "outputs": [],
   "source": [
    "test_predictions = dnn_model.predict(test_features).flatten()\n",
    "\n",
    "a = plt.axes(aspect='equal')\n",
    "plt.scatter(test_labels, test_predictions)\n",
    "plt.xlabel('True Values [MPG]')\n",
    "plt.ylabel('Predictions [MPG]')\n",
    "lims = [0, 50]\n",
    "plt.xlim(lims)\n",
    "plt.ylim(lims)\n",
    "_ = plt.plot(lims, lims)\n"
   ]
  },
  {
   "cell_type": "markdown",
   "metadata": {
    "id": "19wyogbOSU5t"
   },
   "source": [
    "It appears that the model predicts reasonably well.\n",
    "\n",
    "Now, check the error distribution:"
   ]
  },
  {
   "cell_type": "code",
   "execution_count": null,
   "metadata": {
    "execution": {
     "iopub.execute_input": "2022-06-16T01:37:57.808578Z",
     "iopub.status.busy": "2022-06-16T01:37:57.808309Z",
     "iopub.status.idle": "2022-06-16T01:37:57.977360Z",
     "shell.execute_reply": "2022-06-16T01:37:57.976541Z"
    },
    "id": "f-OHX4DiXd8x"
   },
   "outputs": [],
   "source": [
    "error = test_predictions - test_labels\n",
    "plt.hist(error, bins=25)\n",
    "plt.xlabel('Prediction Error [MPG]')\n",
    "_ = plt.ylabel('Count')"
   ]
  },
  {
   "cell_type": "markdown",
   "metadata": {
    "id": "KSyaHUfDT-mZ"
   },
   "source": [
    "If you're happy with the model, save it for later use with `Model.save`:"
   ]
  },
  {
   "cell_type": "code",
   "execution_count": null,
   "metadata": {
    "execution": {
     "iopub.execute_input": "2022-06-16T01:37:57.980804Z",
     "iopub.status.busy": "2022-06-16T01:37:57.980546Z",
     "iopub.status.idle": "2022-06-16T01:37:58.883962Z",
     "shell.execute_reply": "2022-06-16T01:37:58.882854Z"
    },
    "id": "4-WwLlmfT-mb"
   },
   "outputs": [],
   "source": [
    "dnn_model.save('dnn_model')"
   ]
  },
  {
   "cell_type": "markdown",
   "metadata": {
    "id": "Benlnl8UT-me"
   },
   "source": [
    "If you reload the model, it gives identical output:"
   ]
  },
  {
   "cell_type": "code",
   "execution_count": null,
   "metadata": {
    "execution": {
     "iopub.execute_input": "2022-06-16T01:37:58.888525Z",
     "iopub.status.busy": "2022-06-16T01:37:58.888155Z",
     "iopub.status.idle": "2022-06-16T01:37:59.318932Z",
     "shell.execute_reply": "2022-06-16T01:37:59.317985Z"
    },
    "id": "dyyyj2zVT-mf"
   },
   "outputs": [],
   "source": [
    "reloaded = tf.keras.models.load_model('dnn_model')\n",
    "\n",
    "test_results['reloaded'] = reloaded.evaluate(\n",
    "    test_features, test_labels, verbose=0)"
   ]
  },
  {
   "cell_type": "code",
   "execution_count": null,
   "metadata": {
    "execution": {
     "iopub.execute_input": "2022-06-16T01:37:59.322848Z",
     "iopub.status.busy": "2022-06-16T01:37:59.322589Z",
     "iopub.status.idle": "2022-06-16T01:37:59.331052Z",
     "shell.execute_reply": "2022-06-16T01:37:59.330307Z"
    },
    "id": "f_GchJ2tg-2o"
   },
   "outputs": [],
   "source": [
    "pd.DataFrame(test_results, index=['Mean absolute error [MPG]']).T"
   ]
  },
  {
   "cell_type": "markdown",
   "metadata": {
    "id": "vgGQuV-yqYZH"
   },
   "source": [
    "## Conclusion\n",
    "\n",
    "This notebook introduced a few techniques to handle a regression problem. Here are a few more tips that may help:\n",
    "\n",
    "- Mean squared error (MSE) (`tf.keras.losses.MeanSquaredError`) and mean absolute error (MAE) (`tf.keras.losses.MeanAbsoluteError`) are common loss functions used for regression problems. MAE is less sensitive to outliers. Different loss functions are used for classification problems.\n",
    "- Similarly, evaluation metrics used for regression differ from classification.\n",
    "- When numeric input data features have values with different ranges, each feature should be scaled independently to the same range.\n",
    "- Overfitting is a common problem for DNN models, though it wasn't a problem for this tutorial. Visit the [Overfit and underfit](overfit_and_underfit.ipynb) tutorial for more help with this."
   ]
  }
 ],
 "metadata": {
  "colab": {
   "collapsed_sections": [],
   "name": "regression.ipynb",
   "toc_visible": true
  },
  "kernelspec": {
   "display_name": "Python 3 (ipykernel)",
   "language": "python",
   "name": "python3"
  },
  "language_info": {
   "codemirror_mode": {
    "name": "ipython",
    "version": 3
   },
   "file_extension": ".py",
   "mimetype": "text/x-python",
   "name": "python",
   "nbconvert_exporter": "python",
   "pygments_lexer": "ipython3",
   "version": "3.9.12"
  }
 },
 "nbformat": 4,
 "nbformat_minor": 1
}
