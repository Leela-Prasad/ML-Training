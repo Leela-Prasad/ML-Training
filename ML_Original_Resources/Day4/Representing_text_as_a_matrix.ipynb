{
 "cells": [
  {
   "cell_type": "code",
   "execution_count": 2,
   "metadata": {},
   "outputs": [],
   "source": [
    "brides = [\"smart, homely, educated, girl\",\"fair, cultured, family, values\",\"attractive, girl,doctor\" ]\n",
    "grooms = [\"govt employee, non smoker\",\"engineer employee, vegan\",\"doctor, own house, traditinal family\"]"
   ]
  },
  {
   "cell_type": "code",
   "execution_count": 3,
   "metadata": {},
   "outputs": [],
   "source": [
    "corpus = brides + grooms"
   ]
  },
  {
   "cell_type": "code",
   "execution_count": 4,
   "metadata": {},
   "outputs": [
    {
     "data": {
      "text/plain": [
       "['smart, homely, educated, girl',\n",
       " 'fair, cultured, family, values',\n",
       " 'attractive, girl,doctor',\n",
       " 'govt employee, non smoker',\n",
       " 'engineer employee, vegan',\n",
       " 'doctor, own house, traditinal family']"
      ]
     },
     "execution_count": 4,
     "metadata": {},
     "output_type": "execute_result"
    }
   ],
   "source": [
    "corpus"
   ]
  },
  {
   "cell_type": "code",
   "execution_count": 5,
   "metadata": {},
   "outputs": [],
   "source": [
    "corpus = \" \".join(corpus)"
   ]
  },
  {
   "cell_type": "code",
   "execution_count": 6,
   "metadata": {},
   "outputs": [
    {
     "data": {
      "text/plain": [
       "'smart, homely, educated, girl fair, cultured, family, values attractive, girl,doctor govt employee, non smoker engineer employee, vegan doctor, own house, traditinal family'"
      ]
     },
     "execution_count": 6,
     "metadata": {},
     "output_type": "execute_result"
    }
   ],
   "source": [
    "corpus"
   ]
  },
  {
   "cell_type": "code",
   "execution_count": 7,
   "metadata": {},
   "outputs": [],
   "source": [
    "corpus = tuple(set(corpus.replace(',',\" \").split()))"
   ]
  },
  {
   "cell_type": "code",
   "execution_count": 8,
   "metadata": {},
   "outputs": [
    {
     "data": {
      "text/plain": [
       "('doctor',\n",
       " 'govt',\n",
       " 'family',\n",
       " 'fair',\n",
       " 'smoker',\n",
       " 'house',\n",
       " 'engineer',\n",
       " 'girl',\n",
       " 'traditinal',\n",
       " 'employee',\n",
       " 'homely',\n",
       " 'own',\n",
       " 'non',\n",
       " 'smart',\n",
       " 'vegan',\n",
       " 'attractive',\n",
       " 'values',\n",
       " 'educated',\n",
       " 'cultured')"
      ]
     },
     "execution_count": 8,
     "metadata": {},
     "output_type": "execute_result"
    }
   ],
   "source": [
    "corpus"
   ]
  },
  {
   "cell_type": "code",
   "execution_count": 9,
   "metadata": {},
   "outputs": [
    {
     "data": {
      "text/plain": [
       "13"
      ]
     },
     "execution_count": 9,
     "metadata": {},
     "output_type": "execute_result"
    }
   ],
   "source": [
    "corpus.index('smart')"
   ]
  },
  {
   "cell_type": "code",
   "execution_count": 10,
   "metadata": {},
   "outputs": [
    {
     "name": "stdout",
     "output_type": "stream",
     "text": [
      "{'smart': 13, 'homely': 10, 'educated': 17, 'girl': 7}\n",
      "{'fair': 3, 'cultured': 18, 'family': 2, 'values': 16}\n",
      "{'attractive': 15, 'girl': 7, 'doctor': 0}\n"
     ]
    }
   ],
   "source": [
    "for ad in brides:\n",
    "    words = ad.replace(\",\",\" \").split()\n",
    "    ad_dict={}\n",
    "    for word in words:\n",
    "        ad_dict[word]=corpus.index(word)\n",
    "    print(ad_dict)"
   ]
  },
  {
   "cell_type": "code",
   "execution_count": 11,
   "metadata": {},
   "outputs": [
    {
     "name": "stdout",
     "output_type": "stream",
     "text": [
      "{'govt': 1, 'employee': 9, 'non': 12, 'smoker': 4}\n",
      "{'engineer': 6, 'employee': 9, 'vegan': 14}\n",
      "{'doctor': 0, 'own': 11, 'house': 5, 'traditinal': 8, 'family': 2}\n"
     ]
    }
   ],
   "source": [
    "for ad in grooms:\n",
    "    words = ad.replace(\",\",\" \").split()\n",
    "    ad_dict={}\n",
    "    for word in words:\n",
    "        ad_dict[word]=corpus.index(word)\n",
    "    print(ad_dict)"
   ]
  },
  {
   "cell_type": "code",
   "execution_count": 12,
   "metadata": {},
   "outputs": [],
   "source": [
    "dataset = []\n",
    "for ad in grooms:\n",
    "    words = ad.replace(\",\",\" \").split()\n",
    "    tmp={}\n",
    "    for word in corpus:\n",
    "        tmp[word] = int(word in words)\n",
    "    tmp[\"for\"] = \"Groom\"\n",
    "    dataset.append(tmp)\n",
    "    \n",
    "for ad in brides:\n",
    "    words = ad.replace(\",\",\" \").split()\n",
    "    tmp={}\n",
    "    for word in corpus:\n",
    "        tmp[word] = int(word in words)\n",
    "    tmp[\"for\"] = \"Bride\"\n",
    "    dataset.append(tmp)"
   ]
  },
  {
   "cell_type": "code",
   "execution_count": 13,
   "metadata": {},
   "outputs": [
    {
     "data": {
      "text/plain": [
       "[{'doctor': 0,\n",
       "  'govt': 1,\n",
       "  'family': 0,\n",
       "  'fair': 0,\n",
       "  'smoker': 1,\n",
       "  'house': 0,\n",
       "  'engineer': 0,\n",
       "  'girl': 0,\n",
       "  'traditinal': 0,\n",
       "  'employee': 1,\n",
       "  'homely': 0,\n",
       "  'own': 0,\n",
       "  'non': 1,\n",
       "  'smart': 0,\n",
       "  'vegan': 0,\n",
       "  'attractive': 0,\n",
       "  'values': 0,\n",
       "  'educated': 0,\n",
       "  'cultured': 0,\n",
       "  'for': 'Groom'},\n",
       " {'doctor': 0,\n",
       "  'govt': 0,\n",
       "  'family': 0,\n",
       "  'fair': 0,\n",
       "  'smoker': 0,\n",
       "  'house': 0,\n",
       "  'engineer': 1,\n",
       "  'girl': 0,\n",
       "  'traditinal': 0,\n",
       "  'employee': 1,\n",
       "  'homely': 0,\n",
       "  'own': 0,\n",
       "  'non': 0,\n",
       "  'smart': 0,\n",
       "  'vegan': 1,\n",
       "  'attractive': 0,\n",
       "  'values': 0,\n",
       "  'educated': 0,\n",
       "  'cultured': 0,\n",
       "  'for': 'Groom'},\n",
       " {'doctor': 1,\n",
       "  'govt': 0,\n",
       "  'family': 1,\n",
       "  'fair': 0,\n",
       "  'smoker': 0,\n",
       "  'house': 1,\n",
       "  'engineer': 0,\n",
       "  'girl': 0,\n",
       "  'traditinal': 1,\n",
       "  'employee': 0,\n",
       "  'homely': 0,\n",
       "  'own': 1,\n",
       "  'non': 0,\n",
       "  'smart': 0,\n",
       "  'vegan': 0,\n",
       "  'attractive': 0,\n",
       "  'values': 0,\n",
       "  'educated': 0,\n",
       "  'cultured': 0,\n",
       "  'for': 'Groom'},\n",
       " {'doctor': 0,\n",
       "  'govt': 0,\n",
       "  'family': 0,\n",
       "  'fair': 0,\n",
       "  'smoker': 0,\n",
       "  'house': 0,\n",
       "  'engineer': 0,\n",
       "  'girl': 1,\n",
       "  'traditinal': 0,\n",
       "  'employee': 0,\n",
       "  'homely': 1,\n",
       "  'own': 0,\n",
       "  'non': 0,\n",
       "  'smart': 1,\n",
       "  'vegan': 0,\n",
       "  'attractive': 0,\n",
       "  'values': 0,\n",
       "  'educated': 1,\n",
       "  'cultured': 0,\n",
       "  'for': 'Bride'},\n",
       " {'doctor': 0,\n",
       "  'govt': 0,\n",
       "  'family': 1,\n",
       "  'fair': 1,\n",
       "  'smoker': 0,\n",
       "  'house': 0,\n",
       "  'engineer': 0,\n",
       "  'girl': 0,\n",
       "  'traditinal': 0,\n",
       "  'employee': 0,\n",
       "  'homely': 0,\n",
       "  'own': 0,\n",
       "  'non': 0,\n",
       "  'smart': 0,\n",
       "  'vegan': 0,\n",
       "  'attractive': 0,\n",
       "  'values': 1,\n",
       "  'educated': 0,\n",
       "  'cultured': 1,\n",
       "  'for': 'Bride'},\n",
       " {'doctor': 1,\n",
       "  'govt': 0,\n",
       "  'family': 0,\n",
       "  'fair': 0,\n",
       "  'smoker': 0,\n",
       "  'house': 0,\n",
       "  'engineer': 0,\n",
       "  'girl': 1,\n",
       "  'traditinal': 0,\n",
       "  'employee': 0,\n",
       "  'homely': 0,\n",
       "  'own': 0,\n",
       "  'non': 0,\n",
       "  'smart': 0,\n",
       "  'vegan': 0,\n",
       "  'attractive': 1,\n",
       "  'values': 0,\n",
       "  'educated': 0,\n",
       "  'cultured': 0,\n",
       "  'for': 'Bride'}]"
      ]
     },
     "execution_count": 13,
     "metadata": {},
     "output_type": "execute_result"
    }
   ],
   "source": [
    "dataset"
   ]
  },
  {
   "cell_type": "code",
   "execution_count": 14,
   "metadata": {},
   "outputs": [],
   "source": [
    "import pandas as pd"
   ]
  },
  {
   "cell_type": "code",
   "execution_count": 15,
   "metadata": {},
   "outputs": [],
   "source": [
    "df = pd.DataFrame(dataset)"
   ]
  },
  {
   "cell_type": "code",
   "execution_count": 16,
   "metadata": {},
   "outputs": [
    {
     "data": {
      "text/html": [
       "<div>\n",
       "<style scoped>\n",
       "    .dataframe tbody tr th:only-of-type {\n",
       "        vertical-align: middle;\n",
       "    }\n",
       "\n",
       "    .dataframe tbody tr th {\n",
       "        vertical-align: top;\n",
       "    }\n",
       "\n",
       "    .dataframe thead th {\n",
       "        text-align: right;\n",
       "    }\n",
       "</style>\n",
       "<table border=\"1\" class=\"dataframe\">\n",
       "  <thead>\n",
       "    <tr style=\"text-align: right;\">\n",
       "      <th></th>\n",
       "      <th>doctor</th>\n",
       "      <th>govt</th>\n",
       "      <th>family</th>\n",
       "      <th>fair</th>\n",
       "      <th>smoker</th>\n",
       "      <th>house</th>\n",
       "      <th>engineer</th>\n",
       "      <th>girl</th>\n",
       "      <th>traditinal</th>\n",
       "      <th>employee</th>\n",
       "      <th>homely</th>\n",
       "      <th>own</th>\n",
       "      <th>non</th>\n",
       "      <th>smart</th>\n",
       "      <th>vegan</th>\n",
       "      <th>attractive</th>\n",
       "      <th>values</th>\n",
       "      <th>educated</th>\n",
       "      <th>cultured</th>\n",
       "      <th>for</th>\n",
       "    </tr>\n",
       "  </thead>\n",
       "  <tbody>\n",
       "    <tr>\n",
       "      <th>1</th>\n",
       "      <td>0</td>\n",
       "      <td>0</td>\n",
       "      <td>0</td>\n",
       "      <td>0</td>\n",
       "      <td>0</td>\n",
       "      <td>0</td>\n",
       "      <td>1</td>\n",
       "      <td>0</td>\n",
       "      <td>0</td>\n",
       "      <td>1</td>\n",
       "      <td>0</td>\n",
       "      <td>0</td>\n",
       "      <td>0</td>\n",
       "      <td>0</td>\n",
       "      <td>1</td>\n",
       "      <td>0</td>\n",
       "      <td>0</td>\n",
       "      <td>0</td>\n",
       "      <td>0</td>\n",
       "      <td>Groom</td>\n",
       "    </tr>\n",
       "    <tr>\n",
       "      <th>2</th>\n",
       "      <td>1</td>\n",
       "      <td>0</td>\n",
       "      <td>1</td>\n",
       "      <td>0</td>\n",
       "      <td>0</td>\n",
       "      <td>1</td>\n",
       "      <td>0</td>\n",
       "      <td>0</td>\n",
       "      <td>1</td>\n",
       "      <td>0</td>\n",
       "      <td>0</td>\n",
       "      <td>1</td>\n",
       "      <td>0</td>\n",
       "      <td>0</td>\n",
       "      <td>0</td>\n",
       "      <td>0</td>\n",
       "      <td>0</td>\n",
       "      <td>0</td>\n",
       "      <td>0</td>\n",
       "      <td>Groom</td>\n",
       "    </tr>\n",
       "    <tr>\n",
       "      <th>3</th>\n",
       "      <td>0</td>\n",
       "      <td>0</td>\n",
       "      <td>0</td>\n",
       "      <td>0</td>\n",
       "      <td>0</td>\n",
       "      <td>0</td>\n",
       "      <td>0</td>\n",
       "      <td>1</td>\n",
       "      <td>0</td>\n",
       "      <td>0</td>\n",
       "      <td>1</td>\n",
       "      <td>0</td>\n",
       "      <td>0</td>\n",
       "      <td>1</td>\n",
       "      <td>0</td>\n",
       "      <td>0</td>\n",
       "      <td>0</td>\n",
       "      <td>1</td>\n",
       "      <td>0</td>\n",
       "      <td>Bride</td>\n",
       "    </tr>\n",
       "    <tr>\n",
       "      <th>4</th>\n",
       "      <td>0</td>\n",
       "      <td>0</td>\n",
       "      <td>1</td>\n",
       "      <td>1</td>\n",
       "      <td>0</td>\n",
       "      <td>0</td>\n",
       "      <td>0</td>\n",
       "      <td>0</td>\n",
       "      <td>0</td>\n",
       "      <td>0</td>\n",
       "      <td>0</td>\n",
       "      <td>0</td>\n",
       "      <td>0</td>\n",
       "      <td>0</td>\n",
       "      <td>0</td>\n",
       "      <td>0</td>\n",
       "      <td>1</td>\n",
       "      <td>0</td>\n",
       "      <td>1</td>\n",
       "      <td>Bride</td>\n",
       "    </tr>\n",
       "    <tr>\n",
       "      <th>5</th>\n",
       "      <td>1</td>\n",
       "      <td>0</td>\n",
       "      <td>0</td>\n",
       "      <td>0</td>\n",
       "      <td>0</td>\n",
       "      <td>0</td>\n",
       "      <td>0</td>\n",
       "      <td>1</td>\n",
       "      <td>0</td>\n",
       "      <td>0</td>\n",
       "      <td>0</td>\n",
       "      <td>0</td>\n",
       "      <td>0</td>\n",
       "      <td>0</td>\n",
       "      <td>0</td>\n",
       "      <td>1</td>\n",
       "      <td>0</td>\n",
       "      <td>0</td>\n",
       "      <td>0</td>\n",
       "      <td>Bride</td>\n",
       "    </tr>\n",
       "  </tbody>\n",
       "</table>\n",
       "</div>"
      ],
      "text/plain": [
       "   doctor  govt  family  fair  smoker  house  engineer  girl  traditinal  \\\n",
       "1       0     0       0     0       0      0         1     0           0   \n",
       "2       1     0       1     0       0      1         0     0           1   \n",
       "3       0     0       0     0       0      0         0     1           0   \n",
       "4       0     0       1     1       0      0         0     0           0   \n",
       "5       1     0       0     0       0      0         0     1           0   \n",
       "\n",
       "   employee  homely  own  non  smart  vegan  attractive  values  educated  \\\n",
       "1         1       0    0    0      0      1           0       0         0   \n",
       "2         0       0    1    0      0      0           0       0         0   \n",
       "3         0       1    0    0      1      0           0       0         1   \n",
       "4         0       0    0    0      0      0           0       1         0   \n",
       "5         0       0    0    0      0      0           1       0         0   \n",
       "\n",
       "   cultured    for  \n",
       "1         0  Groom  \n",
       "2         0  Groom  \n",
       "3         0  Bride  \n",
       "4         1  Bride  \n",
       "5         0  Bride  "
      ]
     },
     "execution_count": 16,
     "metadata": {},
     "output_type": "execute_result"
    }
   ],
   "source": [
    "df.tail()"
   ]
  },
  {
   "cell_type": "code",
   "execution_count": 16,
   "metadata": {},
   "outputs": [
    {
     "data": {
      "text/plain": [
       "(6, 20)"
      ]
     },
     "execution_count": 16,
     "metadata": {},
     "output_type": "execute_result"
    }
   ],
   "source": [
    "df.shape"
   ]
  },
  {
   "cell_type": "code",
   "execution_count": 17,
   "metadata": {},
   "outputs": [],
   "source": [
    "target = df['for']\n",
    "features = df.drop(columns=[\"for\"])"
   ]
  },
  {
   "cell_type": "code",
   "execution_count": 18,
   "metadata": {},
   "outputs": [
    {
     "data": {
      "text/plain": [
       "0    Groom\n",
       "1    Groom\n",
       "2    Groom\n",
       "3    Bride\n",
       "4    Bride\n",
       "Name: for, dtype: object"
      ]
     },
     "execution_count": 18,
     "metadata": {},
     "output_type": "execute_result"
    }
   ],
   "source": [
    "target.head()"
   ]
  },
  {
   "cell_type": "code",
   "execution_count": 19,
   "metadata": {},
   "outputs": [
    {
     "data": {
      "text/html": [
       "<div>\n",
       "<style scoped>\n",
       "    .dataframe tbody tr th:only-of-type {\n",
       "        vertical-align: middle;\n",
       "    }\n",
       "\n",
       "    .dataframe tbody tr th {\n",
       "        vertical-align: top;\n",
       "    }\n",
       "\n",
       "    .dataframe thead th {\n",
       "        text-align: right;\n",
       "    }\n",
       "</style>\n",
       "<table border=\"1\" class=\"dataframe\">\n",
       "  <thead>\n",
       "    <tr style=\"text-align: right;\">\n",
       "      <th></th>\n",
       "      <th>traditinal</th>\n",
       "      <th>fair</th>\n",
       "      <th>doctor</th>\n",
       "      <th>attractive</th>\n",
       "      <th>family</th>\n",
       "      <th>smoker</th>\n",
       "      <th>vegan</th>\n",
       "      <th>values</th>\n",
       "      <th>employee</th>\n",
       "      <th>girl</th>\n",
       "      <th>own</th>\n",
       "      <th>smart</th>\n",
       "      <th>homely</th>\n",
       "      <th>cultured</th>\n",
       "      <th>house</th>\n",
       "      <th>govt</th>\n",
       "      <th>educated</th>\n",
       "      <th>engineer</th>\n",
       "      <th>non</th>\n",
       "    </tr>\n",
       "  </thead>\n",
       "  <tbody>\n",
       "    <tr>\n",
       "      <th>0</th>\n",
       "      <td>0</td>\n",
       "      <td>0</td>\n",
       "      <td>0</td>\n",
       "      <td>0</td>\n",
       "      <td>0</td>\n",
       "      <td>1</td>\n",
       "      <td>0</td>\n",
       "      <td>0</td>\n",
       "      <td>1</td>\n",
       "      <td>0</td>\n",
       "      <td>0</td>\n",
       "      <td>0</td>\n",
       "      <td>0</td>\n",
       "      <td>0</td>\n",
       "      <td>0</td>\n",
       "      <td>1</td>\n",
       "      <td>0</td>\n",
       "      <td>0</td>\n",
       "      <td>1</td>\n",
       "    </tr>\n",
       "    <tr>\n",
       "      <th>1</th>\n",
       "      <td>0</td>\n",
       "      <td>0</td>\n",
       "      <td>0</td>\n",
       "      <td>0</td>\n",
       "      <td>0</td>\n",
       "      <td>0</td>\n",
       "      <td>1</td>\n",
       "      <td>0</td>\n",
       "      <td>1</td>\n",
       "      <td>0</td>\n",
       "      <td>0</td>\n",
       "      <td>0</td>\n",
       "      <td>0</td>\n",
       "      <td>0</td>\n",
       "      <td>0</td>\n",
       "      <td>0</td>\n",
       "      <td>0</td>\n",
       "      <td>1</td>\n",
       "      <td>0</td>\n",
       "    </tr>\n",
       "    <tr>\n",
       "      <th>2</th>\n",
       "      <td>1</td>\n",
       "      <td>0</td>\n",
       "      <td>1</td>\n",
       "      <td>0</td>\n",
       "      <td>1</td>\n",
       "      <td>0</td>\n",
       "      <td>0</td>\n",
       "      <td>0</td>\n",
       "      <td>0</td>\n",
       "      <td>0</td>\n",
       "      <td>1</td>\n",
       "      <td>0</td>\n",
       "      <td>0</td>\n",
       "      <td>0</td>\n",
       "      <td>1</td>\n",
       "      <td>0</td>\n",
       "      <td>0</td>\n",
       "      <td>0</td>\n",
       "      <td>0</td>\n",
       "    </tr>\n",
       "    <tr>\n",
       "      <th>3</th>\n",
       "      <td>0</td>\n",
       "      <td>0</td>\n",
       "      <td>0</td>\n",
       "      <td>0</td>\n",
       "      <td>0</td>\n",
       "      <td>0</td>\n",
       "      <td>0</td>\n",
       "      <td>0</td>\n",
       "      <td>0</td>\n",
       "      <td>1</td>\n",
       "      <td>0</td>\n",
       "      <td>1</td>\n",
       "      <td>1</td>\n",
       "      <td>0</td>\n",
       "      <td>0</td>\n",
       "      <td>0</td>\n",
       "      <td>1</td>\n",
       "      <td>0</td>\n",
       "      <td>0</td>\n",
       "    </tr>\n",
       "    <tr>\n",
       "      <th>4</th>\n",
       "      <td>0</td>\n",
       "      <td>1</td>\n",
       "      <td>0</td>\n",
       "      <td>0</td>\n",
       "      <td>1</td>\n",
       "      <td>0</td>\n",
       "      <td>0</td>\n",
       "      <td>1</td>\n",
       "      <td>0</td>\n",
       "      <td>0</td>\n",
       "      <td>0</td>\n",
       "      <td>0</td>\n",
       "      <td>0</td>\n",
       "      <td>1</td>\n",
       "      <td>0</td>\n",
       "      <td>0</td>\n",
       "      <td>0</td>\n",
       "      <td>0</td>\n",
       "      <td>0</td>\n",
       "    </tr>\n",
       "  </tbody>\n",
       "</table>\n",
       "</div>"
      ],
      "text/plain": [
       "   traditinal  fair  doctor  attractive  family  smoker  vegan  values  \\\n",
       "0           0     0       0           0       0       1      0       0   \n",
       "1           0     0       0           0       0       0      1       0   \n",
       "2           1     0       1           0       1       0      0       0   \n",
       "3           0     0       0           0       0       0      0       0   \n",
       "4           0     1       0           0       1       0      0       1   \n",
       "\n",
       "   employee  girl  own  smart  homely  cultured  house  govt  educated  \\\n",
       "0         1     0    0      0       0         0      0     1         0   \n",
       "1         1     0    0      0       0         0      0     0         0   \n",
       "2         0     0    1      0       0         0      1     0         0   \n",
       "3         0     1    0      1       1         0      0     0         1   \n",
       "4         0     0    0      0       0         1      0     0         0   \n",
       "\n",
       "   engineer  non  \n",
       "0         0    1  \n",
       "1         1    0  \n",
       "2         0    0  \n",
       "3         0    0  \n",
       "4         0    0  "
      ]
     },
     "execution_count": 19,
     "metadata": {},
     "output_type": "execute_result"
    }
   ],
   "source": [
    "features.head()"
   ]
  },
  {
   "cell_type": "code",
   "execution_count": 20,
   "metadata": {},
   "outputs": [],
   "source": [
    "from sklearn.linear_model import LogisticRegression"
   ]
  },
  {
   "cell_type": "code",
   "execution_count": 21,
   "metadata": {},
   "outputs": [],
   "source": [
    "lr = LogisticRegression()"
   ]
  },
  {
   "cell_type": "code",
   "execution_count": 22,
   "metadata": {},
   "outputs": [
    {
     "data": {
      "text/plain": [
       "LogisticRegression(C=1.0, class_weight=None, dual=False, fit_intercept=True,\n",
       "                   intercept_scaling=1, l1_ratio=None, max_iter=100,\n",
       "                   multi_class='auto', n_jobs=None, penalty='l2',\n",
       "                   random_state=None, solver='lbfgs', tol=0.0001, verbose=0,\n",
       "                   warm_start=False)"
      ]
     },
     "execution_count": 22,
     "metadata": {},
     "output_type": "execute_result"
    }
   ],
   "source": [
    "lr.fit(features,target)"
   ]
  },
  {
   "cell_type": "code",
   "execution_count": 23,
   "metadata": {},
   "outputs": [
    {
     "data": {
      "text/plain": [
       "1.0"
      ]
     },
     "execution_count": 23,
     "metadata": {},
     "output_type": "execute_result"
    }
   ],
   "source": [
    "lr.score(features,target)"
   ]
  },
  {
   "cell_type": "code",
   "execution_count": 24,
   "metadata": {},
   "outputs": [
    {
     "data": {
      "text/plain": [
       "array(['Groom', 'Groom', 'Groom', 'Bride', 'Bride', 'Bride'], dtype=object)"
      ]
     },
     "execution_count": 24,
     "metadata": {},
     "output_type": "execute_result"
    }
   ],
   "source": [
    "lr.predict(features)"
   ]
  }
 ],
 "metadata": {
  "kernelspec": {
   "display_name": "Python 3",
   "language": "python",
   "name": "python3"
  },
  "language_info": {
   "codemirror_mode": {
    "name": "ipython",
    "version": 3
   },
   "file_extension": ".py",
   "mimetype": "text/x-python",
   "name": "python",
   "nbconvert_exporter": "python",
   "pygments_lexer": "ipython3",
   "version": "3.7.6"
  }
 },
 "nbformat": 4,
 "nbformat_minor": 4
}
