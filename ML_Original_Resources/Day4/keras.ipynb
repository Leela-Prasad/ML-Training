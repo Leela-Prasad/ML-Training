{
 "cells": [
  {
   "cell_type": "markdown",
   "metadata": {
    "colab_type": "text",
    "id": "r-gs0ujq_9EW"
   },
   "source": [
    "### Load Data"
   ]
  },
  {
   "cell_type": "code",
   "execution_count": 76,
   "metadata": {
    "colab": {},
    "colab_type": "code",
    "id": "qR0lLkhY_9EY",
    "outputId": "41ca6213-7b95-41de-8589-501f39c2efaf"
   },
   "outputs": [],
   "source": [
    "# first neural network with keras tutorial\n",
    "from numpy import loadtxt\n",
    "from keras.models import Sequential\n",
    "from keras.layers import Dense"
   ]
  },
  {
   "cell_type": "code",
   "execution_count": 77,
   "metadata": {
    "colab": {},
    "colab_type": "code",
    "id": "k5ZF_Ee8_9Ef"
   },
   "outputs": [],
   "source": [
    "# load the dataset\n",
    "dataset = loadtxt('diabetes.csv', delimiter=',', skiprows=1)\n",
    "# split into input (X) and output (y) variables\n",
    "X = dataset[:,0:8]\n",
    "y = dataset[:,8]"
   ]
  },
  {
   "cell_type": "markdown",
   "metadata": {
    "colab_type": "text",
    "id": "FCL0Xn7z_9El"
   },
   "source": [
    "### Define Keras Model"
   ]
  },
  {
   "cell_type": "code",
   "execution_count": 78,
   "metadata": {
    "colab": {},
    "colab_type": "code",
    "id": "-X0ixnOC_9En",
    "outputId": "550ed586-94c3-42a0-c136-1bbb194c4c2a"
   },
   "outputs": [],
   "source": [
    "# define the keras model\n",
    "model = Sequential()\n",
    "model.add(Dense(12, input_dim=8, activation='relu'))\n",
    "model.add(Dense(8, activation='relu'))\n",
    "model.add(Dense(1, activation='sigmoid'))"
   ]
  },
  {
   "cell_type": "markdown",
   "metadata": {
    "colab_type": "text",
    "id": "C2AC8Me-_9Et"
   },
   "source": [
    "### Compile Keras Model"
   ]
  },
  {
   "cell_type": "code",
   "execution_count": 79,
   "metadata": {
    "colab": {},
    "colab_type": "code",
    "id": "hQMy28ve_9Eu"
   },
   "outputs": [],
   "source": [
    "# compile the keras model\n",
    "model.compile(loss='binary_crossentropy', optimizer='adam', metrics=['accuracy'])"
   ]
  },
  {
   "cell_type": "markdown",
   "metadata": {
    "colab_type": "text",
    "id": "oph6_1mz_9Ez"
   },
   "source": [
    "### Fit Keras Model\n",
    "Training occurs over epochs and each epoch is split into batches.\n",
    "\n",
    "- Epoch: One pass through all of the rows in the training dataset.\n",
    "- Batch: One or more samples considered by the model within an epoch before weights are updated."
   ]
  },
  {
   "cell_type": "code",
   "execution_count": 80,
   "metadata": {
    "colab": {},
    "colab_type": "code",
    "id": "kWuWuGjp_9E0",
    "outputId": "f8ab6388-458f-4b4e-b44b-8c343ad26b64"
   },
   "outputs": [
    {
     "name": "stdout",
     "output_type": "stream",
     "text": [
      "Epoch 1/150\n",
      "768/768 [==============================] - 1s 707us/step - loss: 10.3500 - acc: 0.3490\n",
      "Epoch 2/150\n",
      "768/768 [==============================] - 0s 87us/step - loss: 4.5054 - acc: 0.5195\n",
      "Epoch 3/150\n",
      "768/768 [==============================] - 0s 87us/step - loss: 1.0094 - acc: 0.6146\n",
      "Epoch 4/150\n",
      "768/768 [==============================] - 0s 90us/step - loss: 0.8209 - acc: 0.6315\n",
      "Epoch 5/150\n",
      "768/768 [==============================] - 0s 90us/step - loss: 0.6932 - acc: 0.6445\n",
      "Epoch 6/150\n",
      "768/768 [==============================] - 0s 90us/step - loss: 0.6620 - acc: 0.6615\n",
      "Epoch 7/150\n",
      "768/768 [==============================] - 0s 91us/step - loss: 0.6392 - acc: 0.6549\n",
      "Epoch 8/150\n",
      "768/768 [==============================] - 0s 90us/step - loss: 0.6326 - acc: 0.6563\n",
      "Epoch 9/150\n",
      "768/768 [==============================] - 0s 90us/step - loss: 0.6273 - acc: 0.6771\n",
      "Epoch 10/150\n",
      "768/768 [==============================] - 0s 90us/step - loss: 0.6060 - acc: 0.6784\n",
      "Epoch 11/150\n",
      "768/768 [==============================] - 0s 90us/step - loss: 0.6032 - acc: 0.6914\n",
      "Epoch 12/150\n",
      "768/768 [==============================] - 0s 94us/step - loss: 0.6063 - acc: 0.6693\n",
      "Epoch 13/150\n",
      "768/768 [==============================] - 0s 89us/step - loss: 0.6069 - acc: 0.6992\n",
      "Epoch 14/150\n",
      "768/768 [==============================] - 0s 90us/step - loss: 0.6287 - acc: 0.6589\n",
      "Epoch 15/150\n",
      "768/768 [==============================] - 0s 89us/step - loss: 0.6278 - acc: 0.6914\n",
      "Epoch 16/150\n",
      "768/768 [==============================] - 0s 90us/step - loss: 0.6056 - acc: 0.6927\n",
      "Epoch 17/150\n",
      "768/768 [==============================] - 0s 92us/step - loss: 0.6022 - acc: 0.6758\n",
      "Epoch 18/150\n",
      "768/768 [==============================] - 0s 91us/step - loss: 0.5894 - acc: 0.6966\n",
      "Epoch 19/150\n",
      "768/768 [==============================] - 0s 89us/step - loss: 0.6170 - acc: 0.6628\n",
      "Epoch 20/150\n",
      "768/768 [==============================] - 0s 90us/step - loss: 0.5867 - acc: 0.7096\n",
      "Epoch 21/150\n",
      "768/768 [==============================] - 0s 87us/step - loss: 0.5752 - acc: 0.7148\n",
      "Epoch 22/150\n",
      "768/768 [==============================] - 0s 90us/step - loss: 0.5759 - acc: 0.7161\n",
      "Epoch 23/150\n",
      "768/768 [==============================] - 0s 92us/step - loss: 0.5727 - acc: 0.7109\n",
      "Epoch 24/150\n",
      "768/768 [==============================] - 0s 90us/step - loss: 0.5842 - acc: 0.7070\n",
      "Epoch 25/150\n",
      "768/768 [==============================] - 0s 94us/step - loss: 0.5697 - acc: 0.7135\n",
      "Epoch 26/150\n",
      "768/768 [==============================] - 0s 89us/step - loss: 0.5682 - acc: 0.7214\n",
      "Epoch 27/150\n",
      "768/768 [==============================] - 0s 89us/step - loss: 0.5516 - acc: 0.7266\n",
      "Epoch 28/150\n",
      "768/768 [==============================] - 0s 89us/step - loss: 0.5797 - acc: 0.6875\n",
      "Epoch 29/150\n",
      "768/768 [==============================] - 0s 89us/step - loss: 0.5651 - acc: 0.7057\n",
      "Epoch 30/150\n",
      "768/768 [==============================] - 0s 92us/step - loss: 0.5675 - acc: 0.7096\n",
      "Epoch 31/150\n",
      "768/768 [==============================] - 0s 94us/step - loss: 0.5504 - acc: 0.7240\n",
      "Epoch 32/150\n",
      "768/768 [==============================] - 0s 92us/step - loss: 0.5530 - acc: 0.7201\n",
      "Epoch 33/150\n",
      "768/768 [==============================] - 0s 91us/step - loss: 0.5791 - acc: 0.7096\n",
      "Epoch 34/150\n",
      "768/768 [==============================] - 0s 87us/step - loss: 0.5434 - acc: 0.7266\n",
      "Epoch 35/150\n",
      "768/768 [==============================] - 0s 87us/step - loss: 0.5533 - acc: 0.7305\n",
      "Epoch 36/150\n",
      "768/768 [==============================] - 0s 89us/step - loss: 0.5656 - acc: 0.7266\n",
      "Epoch 37/150\n",
      "768/768 [==============================] - 0s 86us/step - loss: 0.5506 - acc: 0.7148\n",
      "Epoch 38/150\n",
      "768/768 [==============================] - 0s 86us/step - loss: 0.5591 - acc: 0.7122\n",
      "Epoch 39/150\n",
      "768/768 [==============================] - 0s 86us/step - loss: 0.5482 - acc: 0.7292\n",
      "Epoch 40/150\n",
      "768/768 [==============================] - 0s 87us/step - loss: 0.5593 - acc: 0.7227\n",
      "Epoch 41/150\n",
      "768/768 [==============================] - 0s 87us/step - loss: 0.5741 - acc: 0.7318\n",
      "Epoch 42/150\n",
      "768/768 [==============================] - 0s 86us/step - loss: 0.5487 - acc: 0.7422\n",
      "Epoch 43/150\n",
      "768/768 [==============================] - 0s 87us/step - loss: 0.5769 - acc: 0.7188\n",
      "Epoch 44/150\n",
      "768/768 [==============================] - 0s 86us/step - loss: 0.5349 - acc: 0.7318\n",
      "Epoch 45/150\n",
      "768/768 [==============================] - 0s 91us/step - loss: 0.5606 - acc: 0.7227\n",
      "Epoch 46/150\n",
      "768/768 [==============================] - 0s 92us/step - loss: 0.5496 - acc: 0.7214\n",
      "Epoch 47/150\n",
      "768/768 [==============================] - 0s 91us/step - loss: 0.5552 - acc: 0.7383\n",
      "Epoch 48/150\n",
      "768/768 [==============================] - 0s 86us/step - loss: 0.5445 - acc: 0.7409\n",
      "Epoch 49/150\n",
      "768/768 [==============================] - 0s 86us/step - loss: 0.5338 - acc: 0.7344\n",
      "Epoch 50/150\n",
      "768/768 [==============================] - 0s 92us/step - loss: 0.5384 - acc: 0.7292\n",
      "Epoch 51/150\n",
      "768/768 [==============================] - 0s 92us/step - loss: 0.5353 - acc: 0.7318\n",
      "Epoch 52/150\n",
      "768/768 [==============================] - 0s 94us/step - loss: 0.5586 - acc: 0.7188\n",
      "Epoch 53/150\n",
      "768/768 [==============================] - 0s 96us/step - loss: 0.5312 - acc: 0.7344\n",
      "Epoch 54/150\n",
      "768/768 [==============================] - 0s 94us/step - loss: 0.5363 - acc: 0.7409\n",
      "Epoch 55/150\n",
      "768/768 [==============================] - 0s 95us/step - loss: 0.5365 - acc: 0.7448\n",
      "Epoch 56/150\n",
      "768/768 [==============================] - 0s 92us/step - loss: 0.5361 - acc: 0.7539\n",
      "Epoch 57/150\n",
      "768/768 [==============================] - 0s 103us/step - loss: 0.5348 - acc: 0.7279\n",
      "Epoch 58/150\n",
      "768/768 [==============================] - 0s 94us/step - loss: 0.5279 - acc: 0.7435\n",
      "Epoch 59/150\n",
      "768/768 [==============================] - 0s 87us/step - loss: 0.5698 - acc: 0.7161\n",
      "Epoch 60/150\n",
      "768/768 [==============================] - 0s 87us/step - loss: 0.5290 - acc: 0.7422\n",
      "Epoch 61/150\n",
      "768/768 [==============================] - 0s 87us/step - loss: 0.5281 - acc: 0.7331\n",
      "Epoch 62/150\n",
      "768/768 [==============================] - 0s 89us/step - loss: 0.5438 - acc: 0.7552\n",
      "Epoch 63/150\n",
      "768/768 [==============================] - 0s 87us/step - loss: 0.5312 - acc: 0.7474\n",
      "Epoch 64/150\n",
      "768/768 [==============================] - 0s 86us/step - loss: 0.5370 - acc: 0.7305\n",
      "Epoch 65/150\n",
      "768/768 [==============================] - 0s 87us/step - loss: 0.5347 - acc: 0.7266\n",
      "Epoch 66/150\n",
      "768/768 [==============================] - 0s 89us/step - loss: 0.5201 - acc: 0.7370\n",
      "Epoch 67/150\n",
      "768/768 [==============================] - 0s 87us/step - loss: 0.5177 - acc: 0.7448\n",
      "Epoch 68/150\n",
      "768/768 [==============================] - 0s 89us/step - loss: 0.5197 - acc: 0.7409\n",
      "Epoch 69/150\n",
      "768/768 [==============================] - 0s 94us/step - loss: 0.5323 - acc: 0.7357\n",
      "Epoch 70/150\n",
      "768/768 [==============================] - 0s 90us/step - loss: 0.5365 - acc: 0.7526\n",
      "Epoch 71/150\n",
      "768/768 [==============================] - 0s 86us/step - loss: 0.5312 - acc: 0.7396\n",
      "Epoch 72/150\n",
      "768/768 [==============================] - 0s 87us/step - loss: 0.5251 - acc: 0.7422\n",
      "Epoch 73/150\n",
      "768/768 [==============================] - 0s 86us/step - loss: 0.5190 - acc: 0.7578\n",
      "Epoch 74/150\n",
      "768/768 [==============================] - 0s 89us/step - loss: 0.5144 - acc: 0.7591\n",
      "Epoch 75/150\n",
      "768/768 [==============================] - 0s 87us/step - loss: 0.5115 - acc: 0.7526\n",
      "Epoch 76/150\n",
      "768/768 [==============================] - 0s 87us/step - loss: 0.5136 - acc: 0.7448\n",
      "Epoch 77/150\n",
      "768/768 [==============================] - 0s 87us/step - loss: 0.5152 - acc: 0.7396\n",
      "Epoch 78/150\n",
      "768/768 [==============================] - 0s 89us/step - loss: 0.5220 - acc: 0.7448\n",
      "Epoch 79/150\n",
      "768/768 [==============================] - 0s 92us/step - loss: 0.5518 - acc: 0.7253\n",
      "Epoch 80/150\n",
      "768/768 [==============================] - 0s 90us/step - loss: 0.5709 - acc: 0.7253\n",
      "Epoch 81/150\n",
      "768/768 [==============================] - 0s 87us/step - loss: 0.5174 - acc: 0.7604\n",
      "Epoch 82/150\n",
      "768/768 [==============================] - 0s 87us/step - loss: 0.5181 - acc: 0.7474\n",
      "Epoch 83/150\n",
      "768/768 [==============================] - 0s 87us/step - loss: 0.5272 - acc: 0.7383\n",
      "Epoch 84/150\n"
     ]
    },
    {
     "name": "stdout",
     "output_type": "stream",
     "text": [
      "768/768 [==============================] - 0s 90us/step - loss: 0.5114 - acc: 0.7604\n",
      "Epoch 85/150\n",
      "768/768 [==============================] - 0s 89us/step - loss: 0.5307 - acc: 0.7500\n",
      "Epoch 86/150\n",
      "768/768 [==============================] - 0s 86us/step - loss: 0.5249 - acc: 0.7487\n",
      "Epoch 87/150\n",
      "768/768 [==============================] - 0s 86us/step - loss: 0.5317 - acc: 0.7500\n",
      "Epoch 88/150\n",
      "768/768 [==============================] - 0s 86us/step - loss: 0.5072 - acc: 0.7565\n",
      "Epoch 89/150\n",
      "768/768 [==============================] - 0s 85us/step - loss: 0.5135 - acc: 0.7604\n",
      "Epoch 90/150\n",
      "768/768 [==============================] - 0s 87us/step - loss: 0.5109 - acc: 0.7552\n",
      "Epoch 91/150\n",
      "768/768 [==============================] - 0s 87us/step - loss: 0.5208 - acc: 0.7591\n",
      "Epoch 92/150\n",
      "768/768 [==============================] - 0s 86us/step - loss: 0.4992 - acc: 0.7552\n",
      "Epoch 93/150\n",
      "768/768 [==============================] - 0s 86us/step - loss: 0.5069 - acc: 0.7708\n",
      "Epoch 94/150\n",
      "768/768 [==============================] - 0s 86us/step - loss: 0.4960 - acc: 0.7448\n",
      "Epoch 95/150\n",
      "768/768 [==============================] - 0s 85us/step - loss: 0.4988 - acc: 0.7578\n",
      "Epoch 96/150\n",
      "768/768 [==============================] - 0s 86us/step - loss: 0.5089 - acc: 0.7578\n",
      "Epoch 97/150\n",
      "768/768 [==============================] - 0s 86us/step - loss: 0.5222 - acc: 0.7435\n",
      "Epoch 98/150\n",
      "768/768 [==============================] - 0s 86us/step - loss: 0.5029 - acc: 0.7487\n",
      "Epoch 99/150\n",
      "768/768 [==============================] - 0s 86us/step - loss: 0.5054 - acc: 0.7500\n",
      "Epoch 100/150\n",
      "768/768 [==============================] - 0s 86us/step - loss: 0.5011 - acc: 0.7500\n",
      "Epoch 101/150\n",
      "768/768 [==============================] - 0s 86us/step - loss: 0.5067 - acc: 0.7526\n",
      "Epoch 102/150\n",
      "768/768 [==============================] - 0s 87us/step - loss: 0.5045 - acc: 0.7500\n",
      "Epoch 103/150\n",
      "768/768 [==============================] - 0s 87us/step - loss: 0.5040 - acc: 0.7565\n",
      "Epoch 104/150\n",
      "768/768 [==============================] - 0s 85us/step - loss: 0.4976 - acc: 0.7760\n",
      "Epoch 105/150\n",
      "768/768 [==============================] - 0s 86us/step - loss: 0.4868 - acc: 0.7708\n",
      "Epoch 106/150\n",
      "768/768 [==============================] - 0s 86us/step - loss: 0.5058 - acc: 0.7487\n",
      "Epoch 107/150\n",
      "768/768 [==============================] - 0s 86us/step - loss: 0.4980 - acc: 0.7578\n",
      "Epoch 108/150\n",
      "768/768 [==============================] - 0s 86us/step - loss: 0.5020 - acc: 0.7526\n",
      "Epoch 109/150\n",
      "768/768 [==============================] - 0s 86us/step - loss: 0.4932 - acc: 0.7591\n",
      "Epoch 110/150\n",
      "768/768 [==============================] - 0s 86us/step - loss: 0.5081 - acc: 0.7617\n",
      "Epoch 111/150\n",
      "768/768 [==============================] - 0s 86us/step - loss: 0.4905 - acc: 0.7695\n",
      "Epoch 112/150\n",
      "768/768 [==============================] - 0s 85us/step - loss: 0.4870 - acc: 0.7721\n",
      "Epoch 113/150\n",
      "768/768 [==============================] - 0s 87us/step - loss: 0.4942 - acc: 0.7487\n",
      "Epoch 114/150\n",
      "768/768 [==============================] - 0s 86us/step - loss: 0.4915 - acc: 0.7760\n",
      "Epoch 115/150\n",
      "768/768 [==============================] - 0s 86us/step - loss: 0.4883 - acc: 0.7617\n",
      "Epoch 116/150\n",
      "768/768 [==============================] - 0s 87us/step - loss: 0.4840 - acc: 0.7734\n",
      "Epoch 117/150\n",
      "768/768 [==============================] - 0s 87us/step - loss: 0.4840 - acc: 0.7617\n",
      "Epoch 118/150\n",
      "768/768 [==============================] - 0s 87us/step - loss: 0.5166 - acc: 0.7448\n",
      "Epoch 119/150\n",
      "768/768 [==============================] - 0s 87us/step - loss: 0.5130 - acc: 0.7669\n",
      "Epoch 120/150\n",
      "768/768 [==============================] - 0s 86us/step - loss: 0.4941 - acc: 0.7513\n",
      "Epoch 121/150\n",
      "768/768 [==============================] - 0s 87us/step - loss: 0.4833 - acc: 0.7617\n",
      "Epoch 122/150\n",
      "768/768 [==============================] - 0s 87us/step - loss: 0.5077 - acc: 0.7552\n",
      "Epoch 123/150\n",
      "768/768 [==============================] - 0s 87us/step - loss: 0.4893 - acc: 0.7682\n",
      "Epoch 124/150\n",
      "768/768 [==============================] - 0s 87us/step - loss: 0.4820 - acc: 0.7734\n",
      "Epoch 125/150\n",
      "768/768 [==============================] - 0s 87us/step - loss: 0.4886 - acc: 0.7643\n",
      "Epoch 126/150\n",
      "768/768 [==============================] - 0s 87us/step - loss: 0.4865 - acc: 0.7669\n",
      "Epoch 127/150\n",
      "768/768 [==============================] - 0s 86us/step - loss: 0.4992 - acc: 0.7656\n",
      "Epoch 128/150\n",
      "768/768 [==============================] - 0s 86us/step - loss: 0.4863 - acc: 0.7734\n",
      "Epoch 129/150\n",
      "768/768 [==============================] - 0s 87us/step - loss: 0.4947 - acc: 0.7591\n",
      "Epoch 130/150\n",
      "768/768 [==============================] - 0s 87us/step - loss: 0.4967 - acc: 0.7721\n",
      "Epoch 131/150\n",
      "768/768 [==============================] - 0s 86us/step - loss: 0.5117 - acc: 0.7669\n",
      "Epoch 132/150\n",
      "768/768 [==============================] - 0s 86us/step - loss: 0.5030 - acc: 0.7591\n",
      "Epoch 133/150\n",
      "768/768 [==============================] - 0s 87us/step - loss: 0.4874 - acc: 0.7695\n",
      "Epoch 134/150\n",
      "768/768 [==============================] - 0s 87us/step - loss: 0.4928 - acc: 0.7604\n",
      "Epoch 135/150\n",
      "768/768 [==============================] - 0s 87us/step - loss: 0.5108 - acc: 0.7591\n",
      "Epoch 136/150\n",
      "768/768 [==============================] - 0s 87us/step - loss: 0.5162 - acc: 0.7552\n",
      "Epoch 137/150\n",
      "768/768 [==============================] - 0s 86us/step - loss: 0.4873 - acc: 0.7682\n",
      "Epoch 138/150\n",
      "768/768 [==============================] - 0s 87us/step - loss: 0.5006 - acc: 0.7513\n",
      "Epoch 139/150\n",
      "768/768 [==============================] - 0s 87us/step - loss: 0.4935 - acc: 0.7539\n",
      "Epoch 140/150\n",
      "768/768 [==============================] - 0s 87us/step - loss: 0.4922 - acc: 0.7669\n",
      "Epoch 141/150\n",
      "768/768 [==============================] - 0s 87us/step - loss: 0.4896 - acc: 0.7760\n",
      "Epoch 142/150\n",
      "768/768 [==============================] - 0s 87us/step - loss: 0.4859 - acc: 0.7552\n",
      "Epoch 143/150\n",
      "768/768 [==============================] - 0s 89us/step - loss: 0.4813 - acc: 0.7669\n",
      "Epoch 144/150\n",
      "768/768 [==============================] - 0s 89us/step - loss: 0.4788 - acc: 0.7734\n",
      "Epoch 145/150\n",
      "768/768 [==============================] - 0s 86us/step - loss: 0.5023 - acc: 0.7565\n",
      "Epoch 146/150\n",
      "768/768 [==============================] - 0s 86us/step - loss: 0.4959 - acc: 0.7695\n",
      "Epoch 147/150\n",
      "768/768 [==============================] - 0s 86us/step - loss: 0.4877 - acc: 0.7747\n",
      "Epoch 148/150\n",
      "768/768 [==============================] - 0s 87us/step - loss: 0.4876 - acc: 0.7773\n",
      "Epoch 149/150\n",
      "768/768 [==============================] - 0s 86us/step - loss: 0.4859 - acc: 0.7708\n",
      "Epoch 150/150\n",
      "768/768 [==============================] - 0s 87us/step - loss: 0.4709 - acc: 0.7799\n"
     ]
    },
    {
     "data": {
      "text/plain": [
       "<keras.callbacks.History at 0x16798c18>"
      ]
     },
     "execution_count": 80,
     "metadata": {},
     "output_type": "execute_result"
    }
   ],
   "source": [
    "# fit the keras model on the dataset\n",
    "model.fit(X, y, epochs=150, batch_size=10)"
   ]
  },
  {
   "cell_type": "markdown",
   "metadata": {
    "colab_type": "text",
    "id": "lht2KJ9G_9E6"
   },
   "source": [
    "### Evaluate Keras Model"
   ]
  },
  {
   "cell_type": "code",
   "execution_count": 81,
   "metadata": {
    "colab": {},
    "colab_type": "code",
    "id": "CF1U7427_9E7",
    "outputId": "8e0032e5-5307-4784-da62-6da23f7d6918"
   },
   "outputs": [
    {
     "name": "stdout",
     "output_type": "stream",
     "text": [
      "768/768 [==============================] - 0s 201us/step\n",
      "Accuracy: 77.86\n"
     ]
    }
   ],
   "source": [
    "# evaluate the keras model\n",
    "_, accuracy = model.evaluate(X, y)\n",
    "print('Accuracy: %.2f' % (accuracy*100))"
   ]
  },
  {
   "cell_type": "markdown",
   "metadata": {
    "colab_type": "text",
    "id": "BvuhJPcS_9FA"
   },
   "source": [
    "### Make Predictions"
   ]
  },
  {
   "cell_type": "code",
   "execution_count": 84,
   "metadata": {
    "colab": {},
    "colab_type": "code",
    "id": "7o7ksMfL_9FB"
   },
   "outputs": [],
   "source": [
    "# make class predictions with the model\n",
    "predictions = model.predict_classes(X)"
   ]
  },
  {
   "cell_type": "code",
   "execution_count": 85,
   "metadata": {
    "colab": {},
    "colab_type": "code",
    "id": "BKbmyJRj_9FG",
    "outputId": "463b24a1-ddb4-4edd-a35a-748ec31fe5be"
   },
   "outputs": [
    {
     "name": "stdout",
     "output_type": "stream",
     "text": [
      "[6.0, 148.0, 72.0, 35.0, 0.0, 33.6, 0.627, 50.0] => [1] (expected 1.0)\n",
      "[1.0, 85.0, 66.0, 29.0, 0.0, 26.6, 0.351, 31.0] => [0] (expected 0.0)\n",
      "[8.0, 183.0, 64.0, 0.0, 0.0, 23.3, 0.672, 32.0] => [1] (expected 1.0)\n",
      "[1.0, 89.0, 66.0, 23.0, 94.0, 28.1, 0.167, 21.0] => [0] (expected 0.0)\n",
      "[0.0, 137.0, 40.0, 35.0, 168.0, 43.1, 2.288, 33.0] => [1] (expected 1.0)\n"
     ]
    }
   ],
   "source": [
    "# summarize the first 5 cases\n",
    "for i in range(5):\n",
    "    print('{} => {} (expected {})'.format(X[i].tolist(), predictions[i], y[i]))"
   ]
  },
  {
   "cell_type": "code",
   "execution_count": null,
   "metadata": {},
   "outputs": [],
   "source": []
  }
 ],
 "metadata": {
  "colab": {
   "name": "keras.ipynb",
   "provenance": [],
   "version": "0.3.2"
  },
  "kernelspec": {
   "display_name": "Python 3",
   "language": "python",
   "name": "python3"
  },
  "language_info": {
   "codemirror_mode": {
    "name": "ipython",
    "version": 3
   },
   "file_extension": ".py",
   "mimetype": "text/x-python",
   "name": "python",
   "nbconvert_exporter": "python",
   "pygments_lexer": "ipython3",
   "version": "3.7.3"
  }
 },
 "nbformat": 4,
 "nbformat_minor": 1
}
