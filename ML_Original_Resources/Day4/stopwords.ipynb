{
 "cells": [
  {
   "cell_type": "markdown",
   "metadata": {},
   "source": [
    "### Stop words\n",
    "Useless words (data), are referred to as stop words.\n",
    "\n",
    "Stop Words: A stop word is a commonly used word (such as “the”, “a”, “an”, “in”) that a search engine has been programmed to ignore, both when indexing entries for searching and when retrieving them as the result of a search query."
   ]
  },
  {
   "cell_type": "code",
   "execution_count": 1,
   "metadata": {},
   "outputs": [
    {
     "name": "stderr",
     "output_type": "stream",
     "text": [
      "[nltk_data] Downloading package stopwords to /Users/sr/nltk_data...\n",
      "[nltk_data]   Unzipping corpora/stopwords.zip.\n"
     ]
    },
    {
     "data": {
      "text/plain": [
       "True"
      ]
     },
     "execution_count": 1,
     "metadata": {},
     "output_type": "execute_result"
    }
   ],
   "source": [
    "import nltk\n",
    "nltk.download(\"stopwords\")"
   ]
  },
  {
   "cell_type": "code",
   "execution_count": 2,
   "metadata": {},
   "outputs": [],
   "source": [
    "from nltk.corpus import stopwords\n",
    "from nltk.tokenize import word_tokenize"
   ]
  },
  {
   "cell_type": "code",
   "execution_count": 4,
   "metadata": {},
   "outputs": [],
   "source": [
    "stop_words = stopwords.words('english')"
   ]
  },
  {
   "cell_type": "code",
   "execution_count": 5,
   "metadata": {},
   "outputs": [
    {
     "data": {
      "text/plain": [
       "179"
      ]
     },
     "execution_count": 5,
     "metadata": {},
     "output_type": "execute_result"
    }
   ],
   "source": [
    "len(stop_words)"
   ]
  },
  {
   "cell_type": "code",
   "execution_count": 6,
   "metadata": {},
   "outputs": [
    {
     "data": {
      "text/plain": [
       "['i', 'me', 'my', 'myself', 'we', 'our', 'ours', 'ourselves', 'you', \"you're\"]"
      ]
     },
     "execution_count": 6,
     "metadata": {},
     "output_type": "execute_result"
    }
   ],
   "source": [
    "stop_words[:10]"
   ]
  },
  {
   "cell_type": "code",
   "execution_count": 7,
   "metadata": {},
   "outputs": [],
   "source": [
    "text = \"Python is an interpreted high-level programming language. It is the most popular programming language for machine learning\""
   ]
  },
  {
   "cell_type": "code",
   "execution_count": 8,
   "metadata": {},
   "outputs": [],
   "source": [
    "word_tokens = word_tokenize(text)"
   ]
  },
  {
   "cell_type": "code",
   "execution_count": 9,
   "metadata": {},
   "outputs": [],
   "source": [
    "filtered_sentence = []"
   ]
  },
  {
   "cell_type": "code",
   "execution_count": 10,
   "metadata": {},
   "outputs": [],
   "source": [
    "for word in word_tokens:\n",
    "    if word not in stop_words:\n",
    "        filtered_sentence.append(word)"
   ]
  },
  {
   "cell_type": "code",
   "execution_count": 11,
   "metadata": {},
   "outputs": [
    {
     "name": "stdout",
     "output_type": "stream",
     "text": [
      "['Python', 'is', 'an', 'interpreted', 'high-level', 'programming', 'language', '.', 'It', 'is', 'the', 'most', 'popular', 'programming', 'language', 'for', 'machine', 'learning']\n"
     ]
    }
   ],
   "source": [
    "print(word_tokens)"
   ]
  },
  {
   "cell_type": "code",
   "execution_count": 12,
   "metadata": {},
   "outputs": [
    {
     "name": "stdout",
     "output_type": "stream",
     "text": [
      "['Python', 'interpreted', 'high-level', 'programming', 'language', '.', 'It', 'popular', 'programming', 'language', 'machine', 'learning']\n"
     ]
    }
   ],
   "source": [
    "print(filtered_sentence)"
   ]
  },
  {
   "cell_type": "markdown",
   "metadata": {},
   "source": [
    "### Reading from a file"
   ]
  },
  {
   "cell_type": "code",
   "execution_count": 13,
   "metadata": {},
   "outputs": [],
   "source": [
    "f=open(\"news.txt\",\"r\")\n",
    "words = f.read().lower().split()\n",
    "f.close()"
   ]
  },
  {
   "cell_type": "code",
   "execution_count": 14,
   "metadata": {},
   "outputs": [
    {
     "data": {
      "text/plain": [
       "['overview',\n",
       " 'the',\n",
       " 'american',\n",
       " 'public',\n",
       " 'power',\n",
       " 'association',\n",
       " 'ereliability',\n",
       " 'tracker',\n",
       " 'is',\n",
       " 'an',\n",
       " 'award-winning',\n",
       " 'pyramid',\n",
       " 'web',\n",
       " 'application',\n",
       " 'that',\n",
       " 'helps',\n",
       " 'electric',\n",
       " 'utilities',\n",
       " 'track',\n",
       " 'performance',\n",
       " 'metrics.',\n",
       " 'as',\n",
       " 'part',\n",
       " 'of',\n",
       " 'their',\n",
       " 'subscription',\n",
       " 'benefits,',\n",
       " 'utilities',\n",
       " 'receive',\n",
       " 'a',\n",
       " 'reliability',\n",
       " 'benchmarking',\n",
       " 'report',\n",
       " 'that',\n",
       " 'is',\n",
       " 'custom',\n",
       " 'tailored',\n",
       " 'to',\n",
       " 'each',\n",
       " 'utility',\n",
       " 'using',\n",
       " 'ereliability',\n",
       " 'tracker',\n",
       " 'data.',\n",
       " 'in',\n",
       " 'this',\n",
       " 'case',\n",
       " 'study,',\n",
       " 'we',\n",
       " 'show',\n",
       " 'how',\n",
       " 'the',\n",
       " 'american',\n",
       " 'public',\n",
       " 'power',\n",
       " 'association',\n",
       " 'used',\n",
       " 'python',\n",
       " '+',\n",
       " 'markdown',\n",
       " '+',\n",
       " 'css',\n",
       " '+',\n",
       " 'jupyterlab',\n",
       " '+',\n",
       " 'crosscompute',\n",
       " 'to',\n",
       " 'transform',\n",
       " 'a',\n",
       " 'three',\n",
       " 'to',\n",
       " 'six',\n",
       " 'month',\n",
       " 'labor',\n",
       " 'intensive',\n",
       " 'process',\n",
       " 'into',\n",
       " 'a',\n",
       " 'highly',\n",
       " 'flexible',\n",
       " 'automated',\n",
       " 'pdf',\n",
       " 'report',\n",
       " 'that',\n",
       " 'can',\n",
       " 'leverage',\n",
       " 'the',\n",
       " 'full',\n",
       " 'analytical',\n",
       " 'power',\n",
       " 'of',\n",
       " 'python.',\n",
       " 'the',\n",
       " 'outcome',\n",
       " 'is',\n",
       " 'that',\n",
       " 'over',\n",
       " 'five',\n",
       " 'hundred',\n",
       " 'utilities',\n",
       " 'can',\n",
       " 'now',\n",
       " 'receive',\n",
       " 'valuable',\n",
       " 'reliability',\n",
       " 'metrics',\n",
       " 'more',\n",
       " 'frequently',\n",
       " 'to',\n",
       " 'improve',\n",
       " 'their',\n",
       " 'services.',\n",
       " 'the',\n",
       " 'ereliability',\n",
       " 'tracker',\n",
       " 'team',\n",
       " 'uses',\n",
       " 'the',\n",
       " 'time',\n",
       " 'saved',\n",
       " 'to',\n",
       " 'innovate',\n",
       " 'new',\n",
       " 'analytics',\n",
       " 'that',\n",
       " 'help',\n",
       " 'utilities',\n",
       " 'deliver',\n",
       " 'power',\n",
       " 'to',\n",
       " 'their',\n",
       " 'communities.',\n",
       " 'challenge',\n",
       " 'the',\n",
       " 'reliability',\n",
       " 'benchmarking',\n",
       " 'report',\n",
       " 'was',\n",
       " 'originally',\n",
       " 'developed',\n",
       " 'in',\n",
       " 'microsoft',\n",
       " 'access',\n",
       " 'and',\n",
       " 'had',\n",
       " 'been',\n",
       " 'faithfully',\n",
       " 'and',\n",
       " 'successfully',\n",
       " 'delivered',\n",
       " 'for',\n",
       " 'many',\n",
       " 'years',\n",
       " 'to',\n",
       " 'ereliability',\n",
       " 'tracker',\n",
       " 'subscribers.',\n",
       " 'however,',\n",
       " 'as',\n",
       " 'the',\n",
       " 'number',\n",
       " 'of',\n",
       " 'subscriptions',\n",
       " 'multiplied,',\n",
       " 'the',\n",
       " 'semi-manual',\n",
       " 'click',\n",
       " 'intensive',\n",
       " 'process',\n",
       " 'to',\n",
       " 'generate',\n",
       " 'a',\n",
       " 'custom',\n",
       " 'report',\n",
       " 'for',\n",
       " 'each',\n",
       " 'utility',\n",
       " 'became',\n",
       " 'increasingly',\n",
       " 'arduous.',\n",
       " 'changes',\n",
       " 'in',\n",
       " 'the',\n",
       " 'underlying',\n",
       " 'data',\n",
       " 'could',\n",
       " 'trigger',\n",
       " 'a',\n",
       " 'cascade',\n",
       " 'of',\n",
       " 'tedious',\n",
       " 'updates',\n",
       " 'to',\n",
       " 'the',\n",
       " 'tables',\n",
       " 'and',\n",
       " 'charts',\n",
       " 'in',\n",
       " 'each',\n",
       " \"utility's\",\n",
       " 'report',\n",
       " 'and',\n",
       " 'significantly',\n",
       " 'delay',\n",
       " 'the',\n",
       " 'iterative',\n",
       " 'inter-departmental',\n",
       " 'review',\n",
       " 'process.',\n",
       " 'solution',\n",
       " 'in',\n",
       " '2021,',\n",
       " 'an',\n",
       " 'analyst',\n",
       " 'in',\n",
       " 'the',\n",
       " 'appa',\n",
       " 'office',\n",
       " 'of',\n",
       " 'data',\n",
       " 'analytics',\n",
       " 'decided',\n",
       " 'to',\n",
       " 'recreate',\n",
       " 'the',\n",
       " 'ereliability',\n",
       " 'tracker',\n",
       " 'benchmarking',\n",
       " 'report',\n",
       " 'using',\n",
       " 'python.',\n",
       " 'within',\n",
       " 'the',\n",
       " 'next',\n",
       " 'two',\n",
       " 'months,',\n",
       " 'she',\n",
       " 'was',\n",
       " 'able',\n",
       " 'to',\n",
       " 'automate',\n",
       " 'all',\n",
       " 'ten',\n",
       " 'sections',\n",
       " 'of',\n",
       " 'the',\n",
       " 'report',\n",
       " 'in',\n",
       " 'jupyterlab',\n",
       " 'using',\n",
       " 'the',\n",
       " 'crosscompute',\n",
       " 'report',\n",
       " 'automation',\n",
       " 'framework.',\n",
       " 'she',\n",
       " 'used',\n",
       " 'numpy',\n",
       " 'and',\n",
       " 'pandas',\n",
       " 'to',\n",
       " 'compute',\n",
       " 'the',\n",
       " 'various',\n",
       " 'statistics',\n",
       " 'and',\n",
       " 'matplotlib',\n",
       " 'and',\n",
       " 'seaborn',\n",
       " 'to',\n",
       " 'generate',\n",
       " 'the',\n",
       " 'plots.',\n",
       " 'to',\n",
       " 'style',\n",
       " 'the',\n",
       " 'report,',\n",
       " 'the',\n",
       " 'analyst',\n",
       " 'used',\n",
       " 'standard',\n",
       " 'markdown',\n",
       " '+',\n",
       " 'css.',\n",
       " 'outcome',\n",
       " 'for',\n",
       " 'every',\n",
       " 'change',\n",
       " 'in',\n",
       " 'the',\n",
       " 'underlying',\n",
       " 'dataset',\n",
       " 'or',\n",
       " 'downstream',\n",
       " 'computation,',\n",
       " 'the',\n",
       " 'analyst',\n",
       " 'is',\n",
       " 'now',\n",
       " 'able',\n",
       " 'to',\n",
       " 'regenerate',\n",
       " 'custom',\n",
       " 'pdf',\n",
       " 'reports',\n",
       " 'for',\n",
       " 'all',\n",
       " '500',\n",
       " 'utilities',\n",
       " 'in',\n",
       " 'about',\n",
       " 'an',\n",
       " 'hour,',\n",
       " 'which',\n",
       " 'means',\n",
       " 'she',\n",
       " 'can',\n",
       " 'iterate',\n",
       " 'and',\n",
       " 'innovate',\n",
       " 'faster.',\n",
       " 'subsequent',\n",
       " 'iterations',\n",
       " 'of',\n",
       " 'the',\n",
       " 'report',\n",
       " 'can',\n",
       " 'take',\n",
       " 'advantage',\n",
       " 'of',\n",
       " 'the',\n",
       " 'rich',\n",
       " 'library',\n",
       " 'of',\n",
       " 'free',\n",
       " 'and',\n",
       " 'open',\n",
       " 'source',\n",
       " 'computational',\n",
       " 'and',\n",
       " 'visualization',\n",
       " 'packages',\n",
       " 'available',\n",
       " 'in',\n",
       " 'python.',\n",
       " 'all',\n",
       " 'ten',\n",
       " 'sections',\n",
       " 'of',\n",
       " 'the',\n",
       " 'report',\n",
       " 'are',\n",
       " 'also',\n",
       " 'deployed',\n",
       " 'internally',\n",
       " 'as',\n",
       " 'web-based',\n",
       " 'crosscompute',\n",
       " 'tools',\n",
       " 'so',\n",
       " 'that',\n",
       " 'non-technical',\n",
       " 'users',\n",
       " 'can',\n",
       " 'drag',\n",
       " 'and',\n",
       " 'drop',\n",
       " 'new',\n",
       " 'data',\n",
       " 'and',\n",
       " 'regenerate',\n",
       " 'the',\n",
       " \"report's\",\n",
       " 'tables',\n",
       " 'and',\n",
       " 'charts',\n",
       " 'without',\n",
       " 'touching',\n",
       " 'code.',\n",
       " 'acknowledgments',\n",
       " 'thank',\n",
       " 'you',\n",
       " 'to',\n",
       " 'the',\n",
       " 'american',\n",
       " 'public',\n",
       " 'power',\n",
       " 'association,',\n",
       " 'u.s.',\n",
       " 'department',\n",
       " 'of',\n",
       " 'energy,',\n",
       " 'python',\n",
       " 'software',\n",
       " 'foundation,',\n",
       " 'tampa',\n",
       " 'bay',\n",
       " 'innovation',\n",
       " 'center',\n",
       " 'and',\n",
       " 'crosscompute',\n",
       " 'for',\n",
       " 'making',\n",
       " 'this',\n",
       " 'work',\n",
       " 'possible.']"
      ]
     },
     "execution_count": 14,
     "metadata": {},
     "output_type": "execute_result"
    }
   ],
   "source": [
    "words"
   ]
  },
  {
   "cell_type": "code",
   "execution_count": null,
   "metadata": {},
   "outputs": [],
   "source": [
    "filtered_words = []\n",
    "for word in words:\n",
    "    if word not in stop_words:\n",
    "       filtered_words.append(word)"
   ]
  },
  {
   "cell_type": "code",
   "execution_count": null,
   "metadata": {},
   "outputs": [],
   "source": [
    "len(words)"
   ]
  },
  {
   "cell_type": "code",
   "execution_count": null,
   "metadata": {},
   "outputs": [],
   "source": [
    "len(filtered_words)"
   ]
  },
  {
   "cell_type": "markdown",
   "metadata": {},
   "source": [
    "### Use sets to remove stopwords"
   ]
  },
  {
   "cell_type": "code",
   "execution_count": null,
   "metadata": {},
   "outputs": [],
   "source": [
    "filtered_sentence = set(words) - set(stop_words)"
   ]
  },
  {
   "cell_type": "code",
   "execution_count": null,
   "metadata": {},
   "outputs": [],
   "source": [
    "len(filtered_sentence)"
   ]
  },
  {
   "cell_type": "code",
   "execution_count": null,
   "metadata": {},
   "outputs": [],
   "source": [
    "filtered_sentence"
   ]
  }
 ],
 "metadata": {
  "kernelspec": {
   "display_name": "Python 3",
   "language": "python",
   "name": "python3"
  },
  "language_info": {
   "codemirror_mode": {
    "name": "ipython",
    "version": 3
   },
   "file_extension": ".py",
   "mimetype": "text/x-python",
   "name": "python",
   "nbconvert_exporter": "python",
   "pygments_lexer": "ipython3",
   "version": "3.7.6"
  }
 },
 "nbformat": 4,
 "nbformat_minor": 2
}
