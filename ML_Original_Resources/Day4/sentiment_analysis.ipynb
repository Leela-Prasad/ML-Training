{
 "cells": [
  {
   "cell_type": "markdown",
   "metadata": {},
   "source": [
    "# Sentiment Analysis"
   ]
  },
  {
   "cell_type": "code",
   "execution_count": null,
   "metadata": {},
   "outputs": [],
   "source": [
    "!pip install textblob"
   ]
  },
  {
   "cell_type": "code",
   "execution_count": null,
   "metadata": {},
   "outputs": [],
   "source": [
    "import textblob"
   ]
  },
  {
   "cell_type": "code",
   "execution_count": null,
   "metadata": {},
   "outputs": [],
   "source": [
    "sentences =[\n",
    "\n",
    "\"I think Rahul Gandhi can never become the prime minister of India\",\n",
    "\n",
    "\"Narendra Modi completed 5 years in power successfully\",\n",
    "\n",
    "\"This is the worst government our country had in the last 20 years\",\n",
    "\n",
    "\"Sun rises in the east\",\n",
    "\n",
    "\"Water is a liquid\",\n",
    "\n",
    "\"Baahubali is an extraordinay move. It has breath-taking shots, amazing graphics, wonderful music\",\n",
    "\n",
    "\"It was worst movie ever. Total waste of time and money\",\n",
    "\n",
    "\"Baahubali earned 1700 crore worldwide\"\n",
    "\n",
    "]"
   ]
  },
  {
   "cell_type": "code",
   "execution_count": null,
   "metadata": {},
   "outputs": [],
   "source": [
    "for x in sentences:\n",
    "    print ( x,textblob.TextBlob(x).sentiment)"
   ]
  },
  {
   "cell_type": "code",
   "execution_count": null,
   "metadata": {},
   "outputs": [],
   "source": [
    "for x in sentences:\n",
    "    score = textblob.TextBlob(x).sentiment[0]\n",
    "    if score > 0:\n",
    "        print (x, \"Positive\")\n",
    "    elif score < 0:\n",
    "        print (x, \"Negative\")\n",
    "    else:\n",
    "        print (x, \"Neutral\")"
   ]
  },
  {
   "cell_type": "code",
   "execution_count": null,
   "metadata": {},
   "outputs": [],
   "source": [
    "for x in sentences:\n",
    "    score = textblob.TextBlob(x).sentiment[1]\n",
    "    if score > 0.5:\n",
    "        print (x, \"Subjective\")\n",
    "    else:\n",
    "        print (x, \"Objective\")"
   ]
  },
  {
   "cell_type": "code",
   "execution_count": null,
   "metadata": {},
   "outputs": [],
   "source": [
    "textblob.TextBlob(\"I am very sad\").sentiment[0]"
   ]
  },
  {
   "cell_type": "code",
   "execution_count": null,
   "metadata": {},
   "outputs": [],
   "source": [
    "sentiment\n",
    "positive 50%\n",
    "negative 40%\n",
    "Neutral 10%\n",
    "\n",
    "(4,3,2)"
   ]
  },
  {
   "cell_type": "code",
   "execution_count": null,
   "metadata": {},
   "outputs": [],
   "source": [
    "import matplotlib.pyplot as plt"
   ]
  },
  {
   "cell_type": "code",
   "execution_count": null,
   "metadata": {},
   "outputs": [],
   "source": [
    "plt.pie([50,40,10],labels=[\"positive\",\"negative\",\"neutral\"])"
   ]
  },
  {
   "cell_type": "code",
   "execution_count": null,
   "metadata": {},
   "outputs": [],
   "source": []
  }
 ],
 "metadata": {
  "kernelspec": {
   "display_name": "Python 3",
   "language": "python",
   "name": "python3"
  },
  "language_info": {
   "codemirror_mode": {
    "name": "ipython",
    "version": 3
   },
   "file_extension": ".py",
   "mimetype": "text/x-python",
   "name": "python",
   "nbconvert_exporter": "python",
   "pygments_lexer": "ipython3",
   "version": "3.7.6"
  }
 },
 "nbformat": 4,
 "nbformat_minor": 2
}
