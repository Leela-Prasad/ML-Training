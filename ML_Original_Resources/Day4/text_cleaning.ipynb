{
 "cells": [
  {
   "cell_type": "markdown",
   "metadata": {},
   "source": [
    "### Regular Expressions\n",
    "Replacement patterns"
   ]
  },
  {
   "cell_type": "code",
   "execution_count": 1,
   "metadata": {},
   "outputs": [],
   "source": [
    "import re"
   ]
  },
  {
   "cell_type": "code",
   "execution_count": 2,
   "metadata": {},
   "outputs": [],
   "source": [
    "replacement_patterns = [\n",
    "(r'won\\'t', 'will not'),\n",
    "    \n",
    "(r'can\\'t', 'cannot'),\n",
    "    \n",
    "(r'i\\'m', 'i am'),\n",
    "    \n",
    "(r'ain\\'t', 'is not'),\n",
    "    \n",
    "(r'(\\w+)\\'ll', '\\g<1> will'),\n",
    "    \n",
    "(r'(\\w+)n\\'t', '\\g<1> not'),\n",
    "    \n",
    "(r'(\\w+)\\'ve', '\\g<1> have'),\n",
    "    \n",
    "(r'(\\w+)\\'s', '\\g<1> is'),\n",
    "    \n",
    "(r'(\\w+)\\'re', '\\g<1> are'),\n",
    "    \n",
    "(r'(\\w+)\\'d', '\\g<1> would')\n",
    "\n",
    "]"
   ]
  },
  {
   "cell_type": "code",
   "execution_count": 3,
   "metadata": {},
   "outputs": [],
   "source": [
    "text = \"I should've brought an umbrella. It's too hot. I'd have taken the bus had I known it earlier \""
   ]
  },
  {
   "cell_type": "code",
   "execution_count": 4,
   "metadata": {},
   "outputs": [],
   "source": [
    "for pattern,substitute in replacement_patterns:\n",
    "    text = re.sub(pattern,substitute,text)"
   ]
  },
  {
   "cell_type": "code",
   "execution_count": 5,
   "metadata": {},
   "outputs": [
    {
     "data": {
      "text/plain": [
       "'text'"
      ]
     },
     "execution_count": 5,
     "metadata": {},
     "output_type": "execute_result"
    }
   ],
   "source": [
    "re.sub(\"what to find\",\"what to replace with\",\"text\")"
   ]
  },
  {
   "cell_type": "code",
   "execution_count": 6,
   "metadata": {},
   "outputs": [
    {
     "name": "stdout",
     "output_type": "stream",
     "text": [
      "I should have brought an umbrella. It is too hot. I would have taken the bus had I known it earlier \n"
     ]
    }
   ],
   "source": [
    "print (text)"
   ]
  },
  {
   "cell_type": "code",
   "execution_count": 7,
   "metadata": {},
   "outputs": [],
   "source": [
    "#removing repeating characters.\n",
    "def shorten(word):\n",
    "    result = re.sub(r\"(\\w*)(\\w)\\2(\\w*)\",r\"\\1\\2\\3\",word)\n",
    "    if result != word:\n",
    "        return shorten(result)\n",
    "    else:\n",
    "        return result"
   ]
  },
  {
   "cell_type": "code",
   "execution_count": 8,
   "metadata": {},
   "outputs": [
    {
     "name": "stdout",
     "output_type": "stream",
     "text": [
      "looooooooost lost\n",
      "loooooooove love\n",
      "suuuuuuuuuuuuuper super\n"
     ]
    }
   ],
   "source": [
    "for word in \"looooooooost\",\"loooooooove\",\"suuuuuuuuuuuuuper\":\n",
    "    print(word,shorten(word))"
   ]
  },
  {
   "cell_type": "code",
   "execution_count": null,
   "metadata": {},
   "outputs": [],
   "source": []
  }
 ],
 "metadata": {
  "kernelspec": {
   "display_name": "Python 3",
   "language": "python",
   "name": "python3"
  },
  "language_info": {
   "codemirror_mode": {
    "name": "ipython",
    "version": 3
   },
   "file_extension": ".py",
   "mimetype": "text/x-python",
   "name": "python",
   "nbconvert_exporter": "python",
   "pygments_lexer": "ipython3",
   "version": "3.7.6"
  }
 },
 "nbformat": 4,
 "nbformat_minor": 2
}
