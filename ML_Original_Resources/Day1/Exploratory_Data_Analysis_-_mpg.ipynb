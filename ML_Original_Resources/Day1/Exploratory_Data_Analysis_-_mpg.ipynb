{
 "cells": [
  {
   "cell_type": "code",
   "execution_count": null,
   "id": "2fa537be",
   "metadata": {},
   "outputs": [],
   "source": [
    "import pandas as pd"
   ]
  },
  {
   "cell_type": "code",
   "execution_count": null,
   "id": "8f1400af",
   "metadata": {},
   "outputs": [],
   "source": [
    "df = pd.read_csv(\"mpg.csv\")"
   ]
  },
  {
   "cell_type": "code",
   "execution_count": null,
   "id": "9da169cc",
   "metadata": {},
   "outputs": [],
   "source": [
    "df.head()"
   ]
  },
  {
   "cell_type": "code",
   "execution_count": null,
   "id": "e1451889",
   "metadata": {},
   "outputs": [],
   "source": [
    "df.tail()"
   ]
  },
  {
   "cell_type": "code",
   "execution_count": null,
   "id": "443db59d",
   "metadata": {},
   "outputs": [],
   "source": [
    "df.Origin.value_counts()"
   ]
  },
  {
   "cell_type": "code",
   "execution_count": null,
   "id": "1cd15166",
   "metadata": {},
   "outputs": [],
   "source": [
    "df.plot.scatter(\"Weight\",\"MPG\")"
   ]
  },
  {
   "cell_type": "code",
   "execution_count": null,
   "id": "ca017af9",
   "metadata": {},
   "outputs": [],
   "source": [
    "df.corr().MPG"
   ]
  },
  {
   "cell_type": "code",
   "execution_count": 23,
   "id": "73fbc3d6",
   "metadata": {},
   "outputs": [
    {
     "data": {
      "text/html": [
       "<div>\n",
       "<style scoped>\n",
       "    .dataframe tbody tr th:only-of-type {\n",
       "        vertical-align: middle;\n",
       "    }\n",
       "\n",
       "    .dataframe tbody tr th {\n",
       "        vertical-align: top;\n",
       "    }\n",
       "\n",
       "    .dataframe thead th {\n",
       "        text-align: right;\n",
       "    }\n",
       "</style>\n",
       "<table border=\"1\" class=\"dataframe\">\n",
       "  <thead>\n",
       "    <tr style=\"text-align: right;\">\n",
       "      <th></th>\n",
       "      <th>MPG</th>\n",
       "      <th>Cylinders</th>\n",
       "      <th>Engine Disp</th>\n",
       "      <th>Horsepower</th>\n",
       "      <th>Weight</th>\n",
       "      <th>Accelerate</th>\n",
       "      <th>Year</th>\n",
       "    </tr>\n",
       "    <tr>\n",
       "      <th>Origin</th>\n",
       "      <th></th>\n",
       "      <th></th>\n",
       "      <th></th>\n",
       "      <th></th>\n",
       "      <th></th>\n",
       "      <th></th>\n",
       "      <th></th>\n",
       "    </tr>\n",
       "  </thead>\n",
       "  <tbody>\n",
       "    <tr>\n",
       "      <th>American</th>\n",
       "      <td>39.0</td>\n",
       "      <td>8</td>\n",
       "      <td>455.0</td>\n",
       "      <td>230</td>\n",
       "      <td>5140</td>\n",
       "      <td>22.2</td>\n",
       "      <td>82</td>\n",
       "    </tr>\n",
       "    <tr>\n",
       "      <th>European</th>\n",
       "      <td>44.3</td>\n",
       "      <td>6</td>\n",
       "      <td>183.0</td>\n",
       "      <td>133</td>\n",
       "      <td>3820</td>\n",
       "      <td>24.8</td>\n",
       "      <td>82</td>\n",
       "    </tr>\n",
       "    <tr>\n",
       "      <th>Japanese</th>\n",
       "      <td>46.6</td>\n",
       "      <td>6</td>\n",
       "      <td>168.0</td>\n",
       "      <td>132</td>\n",
       "      <td>2930</td>\n",
       "      <td>21.0</td>\n",
       "      <td>82</td>\n",
       "    </tr>\n",
       "  </tbody>\n",
       "</table>\n",
       "</div>"
      ],
      "text/plain": [
       "           MPG  Cylinders  Engine Disp  Horsepower  Weight  Accelerate  Year\n",
       "Origin                                                                      \n",
       "American  39.0          8        455.0         230    5140        22.2    82\n",
       "European  44.3          6        183.0         133    3820        24.8    82\n",
       "Japanese  46.6          6        168.0         132    2930        21.0    82"
      ]
     },
     "execution_count": 23,
     "metadata": {},
     "output_type": "execute_result"
    }
   ],
   "source": [
    "df.groupby('Origin').max()"
   ]
  },
  {
   "cell_type": "code",
   "execution_count": null,
   "id": "69633a27",
   "metadata": {},
   "outputs": [],
   "source": [
    "df.Cylinders.value_counts()"
   ]
  },
  {
   "cell_type": "code",
   "execution_count": null,
   "id": "7a39782a",
   "metadata": {},
   "outputs": [],
   "source": [
    "df.groupby('Cylinders').mean().MPG"
   ]
  },
  {
   "cell_type": "code",
   "execution_count": null,
   "id": "5f9d3d22",
   "metadata": {},
   "outputs": [],
   "source": [
    "df[df.MPG > 20]"
   ]
  },
  {
   "cell_type": "code",
   "execution_count": null,
   "id": "dcdf787d",
   "metadata": {},
   "outputs": [],
   "source": [
    "df[df.Cylinders == 3]"
   ]
  },
  {
   "cell_type": "code",
   "execution_count": null,
   "id": "8e751a33",
   "metadata": {},
   "outputs": [],
   "source": []
  }
 ],
 "metadata": {
  "kernelspec": {
   "display_name": "Python 3 (ipykernel)",
   "language": "python",
   "name": "python3"
  },
  "language_info": {
   "codemirror_mode": {
    "name": "ipython",
    "version": 3
   },
   "file_extension": ".py",
   "mimetype": "text/x-python",
   "name": "python",
   "nbconvert_exporter": "python",
   "pygments_lexer": "ipython3",
   "version": "3.9.12"
  }
 },
 "nbformat": 4,
 "nbformat_minor": 5
}
