{
 "cells": [
  {
   "cell_type": "code",
   "execution_count": null,
   "id": "2fa537be",
   "metadata": {},
   "outputs": [],
   "source": [
    "import pandas as pd"
   ]
  },
  {
   "cell_type": "code",
   "execution_count": null,
   "id": "8f1400af",
   "metadata": {},
   "outputs": [],
   "source": [
    "df = pd.read_csv(\"loans-raw.csv\")"
   ]
  },
  {
   "cell_type": "code",
   "execution_count": 140,
   "id": "9da169cc",
   "metadata": {},
   "outputs": [
    {
     "data": {
      "text/html": [
       "<div>\n",
       "<style scoped>\n",
       "    .dataframe tbody tr th:only-of-type {\n",
       "        vertical-align: middle;\n",
       "    }\n",
       "\n",
       "    .dataframe tbody tr th {\n",
       "        vertical-align: top;\n",
       "    }\n",
       "\n",
       "    .dataframe thead th {\n",
       "        text-align: right;\n",
       "    }\n",
       "</style>\n",
       "<table border=\"1\" class=\"dataframe\">\n",
       "  <thead>\n",
       "    <tr style=\"text-align: right;\">\n",
       "      <th></th>\n",
       "      <th>Loan_ID</th>\n",
       "      <th>Gender</th>\n",
       "      <th>Married</th>\n",
       "      <th>Dependents</th>\n",
       "      <th>Education</th>\n",
       "      <th>Self_Employed</th>\n",
       "      <th>ApplicantIncome</th>\n",
       "      <th>CoapplicantIncome</th>\n",
       "      <th>LoanAmount</th>\n",
       "      <th>Loan_Amount_Term</th>\n",
       "      <th>Credit_History</th>\n",
       "      <th>Property_Area</th>\n",
       "      <th>Loan_Status</th>\n",
       "      <th>TotalIncome</th>\n",
       "      <th>TotalIncomeINR</th>\n",
       "      <th>Income_Category</th>\n",
       "      <th>Income_group</th>\n",
       "    </tr>\n",
       "  </thead>\n",
       "  <tbody>\n",
       "    <tr>\n",
       "      <th>0</th>\n",
       "      <td>LP001002</td>\n",
       "      <td>Male</td>\n",
       "      <td>No</td>\n",
       "      <td>0</td>\n",
       "      <td>Graduate</td>\n",
       "      <td>No</td>\n",
       "      <td>5849</td>\n",
       "      <td>0.0</td>\n",
       "      <td>146.005042</td>\n",
       "      <td>360.0</td>\n",
       "      <td>1.0</td>\n",
       "      <td>Urban</td>\n",
       "      <td>Y</td>\n",
       "      <td>5849.0</td>\n",
       "      <td>438675.0</td>\n",
       "      <td>medium</td>\n",
       "      <td>middle income</td>\n",
       "    </tr>\n",
       "    <tr>\n",
       "      <th>1</th>\n",
       "      <td>LP001003</td>\n",
       "      <td>Male</td>\n",
       "      <td>Yes</td>\n",
       "      <td>1</td>\n",
       "      <td>Graduate</td>\n",
       "      <td>No</td>\n",
       "      <td>4583</td>\n",
       "      <td>1508.0</td>\n",
       "      <td>128.000000</td>\n",
       "      <td>360.0</td>\n",
       "      <td>1.0</td>\n",
       "      <td>Rural</td>\n",
       "      <td>N</td>\n",
       "      <td>6091.0</td>\n",
       "      <td>456825.0</td>\n",
       "      <td>medium</td>\n",
       "      <td>poor</td>\n",
       "    </tr>\n",
       "    <tr>\n",
       "      <th>2</th>\n",
       "      <td>LP001005</td>\n",
       "      <td>Male</td>\n",
       "      <td>Yes</td>\n",
       "      <td>0</td>\n",
       "      <td>Graduate</td>\n",
       "      <td>Yes</td>\n",
       "      <td>3000</td>\n",
       "      <td>0.0</td>\n",
       "      <td>66.000000</td>\n",
       "      <td>360.0</td>\n",
       "      <td>1.0</td>\n",
       "      <td>Urban</td>\n",
       "      <td>Y</td>\n",
       "      <td>3000.0</td>\n",
       "      <td>225000.0</td>\n",
       "      <td>low</td>\n",
       "      <td>poor</td>\n",
       "    </tr>\n",
       "    <tr>\n",
       "      <th>3</th>\n",
       "      <td>LP001006</td>\n",
       "      <td>Male</td>\n",
       "      <td>Yes</td>\n",
       "      <td>0</td>\n",
       "      <td>Not Graduate</td>\n",
       "      <td>No</td>\n",
       "      <td>2583</td>\n",
       "      <td>2358.0</td>\n",
       "      <td>120.000000</td>\n",
       "      <td>360.0</td>\n",
       "      <td>1.0</td>\n",
       "      <td>Urban</td>\n",
       "      <td>Y</td>\n",
       "      <td>4941.0</td>\n",
       "      <td>370575.0</td>\n",
       "      <td>medium</td>\n",
       "      <td>poor</td>\n",
       "    </tr>\n",
       "    <tr>\n",
       "      <th>4</th>\n",
       "      <td>LP001008</td>\n",
       "      <td>Male</td>\n",
       "      <td>No</td>\n",
       "      <td>0</td>\n",
       "      <td>Graduate</td>\n",
       "      <td>No</td>\n",
       "      <td>6000</td>\n",
       "      <td>0.0</td>\n",
       "      <td>141.000000</td>\n",
       "      <td>360.0</td>\n",
       "      <td>1.0</td>\n",
       "      <td>Urban</td>\n",
       "      <td>Y</td>\n",
       "      <td>6000.0</td>\n",
       "      <td>450000.0</td>\n",
       "      <td>medium</td>\n",
       "      <td>middle income</td>\n",
       "    </tr>\n",
       "  </tbody>\n",
       "</table>\n",
       "</div>"
      ],
      "text/plain": [
       "    Loan_ID Gender Married Dependents     Education Self_Employed  \\\n",
       "0  LP001002   Male      No          0      Graduate            No   \n",
       "1  LP001003   Male     Yes          1      Graduate            No   \n",
       "2  LP001005   Male     Yes          0      Graduate           Yes   \n",
       "3  LP001006   Male     Yes          0  Not Graduate            No   \n",
       "4  LP001008   Male      No          0      Graduate            No   \n",
       "\n",
       "   ApplicantIncome  CoapplicantIncome  LoanAmount  Loan_Amount_Term  \\\n",
       "0             5849                0.0  146.005042             360.0   \n",
       "1             4583             1508.0  128.000000             360.0   \n",
       "2             3000                0.0   66.000000             360.0   \n",
       "3             2583             2358.0  120.000000             360.0   \n",
       "4             6000                0.0  141.000000             360.0   \n",
       "\n",
       "   Credit_History Property_Area Loan_Status  TotalIncome  TotalIncomeINR  \\\n",
       "0             1.0         Urban           Y       5849.0        438675.0   \n",
       "1             1.0         Rural           N       6091.0        456825.0   \n",
       "2             1.0         Urban           Y       3000.0        225000.0   \n",
       "3             1.0         Urban           Y       4941.0        370575.0   \n",
       "4             1.0         Urban           Y       6000.0        450000.0   \n",
       "\n",
       "  Income_Category   Income_group  \n",
       "0          medium  middle income  \n",
       "1          medium           poor  \n",
       "2             low           poor  \n",
       "3          medium           poor  \n",
       "4          medium  middle income  "
      ]
     },
     "execution_count": 140,
     "metadata": {},
     "output_type": "execute_result"
    }
   ],
   "source": [
    "df.head()"
   ]
  },
  {
   "cell_type": "code",
   "execution_count": null,
   "id": "e1451889",
   "metadata": {},
   "outputs": [],
   "source": [
    "df.tail()"
   ]
  },
  {
   "cell_type": "code",
   "execution_count": null,
   "id": "443db59d",
   "metadata": {},
   "outputs": [],
   "source": [
    "df.Property_Area.value_counts()"
   ]
  },
  {
   "cell_type": "code",
   "execution_count": null,
   "id": "19e2c9e3",
   "metadata": {},
   "outputs": [],
   "source": [
    "df.Property_Area.value_counts().plot()"
   ]
  },
  {
   "cell_type": "code",
   "execution_count": null,
   "id": "51fbd6f8",
   "metadata": {},
   "outputs": [],
   "source": [
    "df.Property_Area.value_counts().plot.pie()"
   ]
  },
  {
   "cell_type": "code",
   "execution_count": null,
   "id": "ddb8a037",
   "metadata": {},
   "outputs": [],
   "source": [
    "df.Property_Area.value_counts().plot.bar()"
   ]
  },
  {
   "cell_type": "code",
   "execution_count": null,
   "id": "3a72577d",
   "metadata": {},
   "outputs": [],
   "source": [
    "df.Property_Area.value_counts().plot.barh()"
   ]
  },
  {
   "cell_type": "code",
   "execution_count": null,
   "id": "045eac6c",
   "metadata": {},
   "outputs": [],
   "source": [
    "# Analyze other categorical coloumns"
   ]
  },
  {
   "cell_type": "code",
   "execution_count": null,
   "id": "2d2aef46",
   "metadata": {},
   "outputs": [],
   "source": [
    "df.info()"
   ]
  },
  {
   "cell_type": "code",
   "execution_count": null,
   "id": "8f8f7494",
   "metadata": {
    "scrolled": true
   },
   "outputs": [],
   "source": [
    "df.describe()"
   ]
  },
  {
   "cell_type": "code",
   "execution_count": null,
   "id": "93f52576",
   "metadata": {},
   "outputs": [],
   "source": [
    "df.ApplicantIncome.hist()"
   ]
  },
  {
   "cell_type": "code",
   "execution_count": null,
   "id": "7121a568",
   "metadata": {},
   "outputs": [],
   "source": [
    "import seaborn as sns"
   ]
  },
  {
   "cell_type": "code",
   "execution_count": null,
   "id": "a8e0c2cb",
   "metadata": {},
   "outputs": [],
   "source": [
    "sns.distplot(df.ApplicantIncome)"
   ]
  },
  {
   "cell_type": "code",
   "execution_count": null,
   "id": "e6e71cf5",
   "metadata": {},
   "outputs": [],
   "source": [
    "sns.distplot(df.LoanAmount)"
   ]
  },
  {
   "cell_type": "code",
   "execution_count": null,
   "id": "f8153ce6",
   "metadata": {},
   "outputs": [],
   "source": [
    "df.plot.scatter(\"ApplicantIncome\",\"LoanAmount\")"
   ]
  },
  {
   "cell_type": "code",
   "execution_count": null,
   "id": "fa6e225e",
   "metadata": {},
   "outputs": [],
   "source": [
    "df.plot.scatter(\"ApplicantIncome\",\"CoapplicantIncome\")"
   ]
  },
  {
   "cell_type": "code",
   "execution_count": null,
   "id": "0e60a9a7",
   "metadata": {},
   "outputs": [],
   "source": [
    "df.corr()"
   ]
  },
  {
   "cell_type": "code",
   "execution_count": null,
   "id": "034dc7cd",
   "metadata": {},
   "outputs": [],
   "source": [
    "df.corr().ApplicantIncome"
   ]
  },
  {
   "cell_type": "code",
   "execution_count": null,
   "id": "2ebe37c3",
   "metadata": {},
   "outputs": [],
   "source": [
    "# check for duplicates"
   ]
  },
  {
   "cell_type": "code",
   "execution_count": null,
   "id": "a50d04ee",
   "metadata": {},
   "outputs": [],
   "source": [
    "# count duplicate rows"
   ]
  },
  {
   "cell_type": "code",
   "execution_count": null,
   "id": "789db744",
   "metadata": {},
   "outputs": [],
   "source": [
    "df.duplicated().sum()"
   ]
  },
  {
   "cell_type": "code",
   "execution_count": null,
   "id": "f7742f7e",
   "metadata": {},
   "outputs": [],
   "source": [
    "df[df.duplicated()] # show duplicate rows"
   ]
  },
  {
   "cell_type": "code",
   "execution_count": null,
   "id": "02489f44",
   "metadata": {},
   "outputs": [],
   "source": [
    "# how to remove duplicates"
   ]
  },
  {
   "cell_type": "code",
   "execution_count": null,
   "id": "7445245e",
   "metadata": {},
   "outputs": [],
   "source": [
    "df.drop_duplicates(inplace=True)"
   ]
  },
  {
   "cell_type": "code",
   "execution_count": null,
   "id": "6a3c400c",
   "metadata": {},
   "outputs": [],
   "source": [
    "df.shape"
   ]
  },
  {
   "cell_type": "code",
   "execution_count": null,
   "id": "e43ddfd7",
   "metadata": {},
   "outputs": [],
   "source": [
    "df.duplicated().sum()"
   ]
  },
  {
   "cell_type": "code",
   "execution_count": null,
   "id": "0af789a6",
   "metadata": {},
   "outputs": [],
   "source": [
    "# Normalization"
   ]
  },
  {
   "cell_type": "code",
   "execution_count": null,
   "id": "20cdccbf",
   "metadata": {},
   "outputs": [],
   "source": [
    "df.Property_Area.value_counts()"
   ]
  },
  {
   "cell_type": "code",
   "execution_count": null,
   "id": "8187fb96",
   "metadata": {},
   "outputs": [],
   "source": [
    "df[\"Property_Area\"] = df.Property_Area.apply(str.capitalize)"
   ]
  },
  {
   "cell_type": "code",
   "execution_count": null,
   "id": "4bfc6002",
   "metadata": {},
   "outputs": [],
   "source": [
    "df.Property_Area.value_counts()"
   ]
  },
  {
   "cell_type": "code",
   "execution_count": null,
   "id": "094559e8",
   "metadata": {},
   "outputs": [],
   "source": [
    "df['TotalIncome'] = df.ApplicantIncome + df.CoapplicantIncome"
   ]
  },
  {
   "cell_type": "code",
   "execution_count": null,
   "id": "e8715696",
   "metadata": {},
   "outputs": [],
   "source": [
    "df.head()"
   ]
  },
  {
   "cell_type": "code",
   "execution_count": null,
   "id": "6f8a10d3",
   "metadata": {},
   "outputs": [],
   "source": [
    "df['TotalIncomeINR'] = df.TotalIncome * 75"
   ]
  },
  {
   "cell_type": "code",
   "execution_count": null,
   "id": "e7e72fcd",
   "metadata": {},
   "outputs": [],
   "source": [
    "# Missing data"
   ]
  },
  {
   "cell_type": "code",
   "execution_count": null,
   "id": "02b226f9",
   "metadata": {},
   "outputs": [],
   "source": [
    "# Find what data is missing"
   ]
  },
  {
   "cell_type": "code",
   "execution_count": null,
   "id": "57da6ab9",
   "metadata": {},
   "outputs": [],
   "source": [
    "df.isnull().sum()"
   ]
  },
  {
   "cell_type": "code",
   "execution_count": null,
   "id": "7033344a",
   "metadata": {},
   "outputs": [],
   "source": [
    "# Imputation"
   ]
  },
  {
   "cell_type": "code",
   "execution_count": null,
   "id": "73fdd4aa",
   "metadata": {},
   "outputs": [],
   "source": [
    "df.LoanAmount.mean()"
   ]
  },
  {
   "cell_type": "code",
   "execution_count": null,
   "id": "a963cc50",
   "metadata": {},
   "outputs": [],
   "source": [
    "# Replace all missing values with the mean on that columns"
   ]
  },
  {
   "cell_type": "code",
   "execution_count": null,
   "id": "cf2fdc6a",
   "metadata": {},
   "outputs": [],
   "source": [
    "df.LoanAmount.fillna(df.LoanAmount.mean(), inplace=True)"
   ]
  },
  {
   "cell_type": "code",
   "execution_count": null,
   "id": "c97a3ef3",
   "metadata": {},
   "outputs": [],
   "source": [
    "df.LoanAmount.mean()"
   ]
  },
  {
   "cell_type": "code",
   "execution_count": null,
   "id": "8cb5441f",
   "metadata": {},
   "outputs": [],
   "source": [
    "df.isnull().sum()"
   ]
  },
  {
   "cell_type": "code",
   "execution_count": null,
   "id": "80d0901c",
   "metadata": {},
   "outputs": [],
   "source": [
    "# Discretization"
   ]
  },
  {
   "cell_type": "code",
   "execution_count": null,
   "id": "be5a7b81",
   "metadata": {},
   "outputs": [],
   "source": [
    "df.LoanAmount.min()"
   ]
  },
  {
   "cell_type": "code",
   "execution_count": null,
   "id": "e1780248",
   "metadata": {},
   "outputs": [],
   "source": [
    "df.LoanAmount.max()"
   ]
  },
  {
   "cell_type": "code",
   "execution_count": null,
   "id": "ad73cc76",
   "metadata": {},
   "outputs": [],
   "source": [
    "df.LoanAmount.mean()"
   ]
  },
  {
   "cell_type": "code",
   "execution_count": null,
   "id": "10cfb337",
   "metadata": {},
   "outputs": [],
   "source": [
    "def categorize(income):\n",
    "    if income < 100:\n",
    "        return \"low\"\n",
    "    elif income >=100 and income <=300:\n",
    "        return \"medium\"\n",
    "    else:\n",
    "        return \"high\""
   ]
  },
  {
   "cell_type": "code",
   "execution_count": null,
   "id": "f5d9e947",
   "metadata": {},
   "outputs": [],
   "source": [
    "categorize(150)"
   ]
  },
  {
   "cell_type": "code",
   "execution_count": null,
   "id": "19ae2e33",
   "metadata": {},
   "outputs": [],
   "source": [
    "categorize(99)"
   ]
  },
  {
   "cell_type": "code",
   "execution_count": null,
   "id": "41a8727c",
   "metadata": {},
   "outputs": [],
   "source": [
    "categorize(389)"
   ]
  },
  {
   "cell_type": "code",
   "execution_count": null,
   "id": "cb33fac5",
   "metadata": {},
   "outputs": [],
   "source": [
    "df.LoanAmount.apply(categorize)"
   ]
  },
  {
   "cell_type": "code",
   "execution_count": null,
   "id": "8e3fbf9c",
   "metadata": {},
   "outputs": [],
   "source": [
    "df['Income_Category'] = df.LoanAmount.apply(categorize)"
   ]
  },
  {
   "cell_type": "code",
   "execution_count": null,
   "id": "dabaea51",
   "metadata": {},
   "outputs": [],
   "source": [
    "df.Income_Category.value_counts()"
   ]
  },
  {
   "cell_type": "code",
   "execution_count": null,
   "id": "ab5f19ff",
   "metadata": {},
   "outputs": [],
   "source": [
    "df.groupby('Income_Category').mean()"
   ]
  },
  {
   "cell_type": "code",
   "execution_count": 126,
   "id": "f47604cf",
   "metadata": {},
   "outputs": [],
   "source": [
    "# using cut"
   ]
  },
  {
   "cell_type": "code",
   "execution_count": 151,
   "id": "0cfeb61f",
   "metadata": {},
   "outputs": [],
   "source": [
    "categories = [\"poor\",\"middle income\",\"high\",\"ultra high\"]\n",
    "mybins = [0,5000,11000,15000,85000]"
   ]
  },
  {
   "cell_type": "code",
   "execution_count": 152,
   "id": "d02cf484",
   "metadata": {},
   "outputs": [],
   "source": [
    "df['Income_group'] = pd.cut(x=df.ApplicantIncome, bins=mybins,labels =categories)"
   ]
  },
  {
   "cell_type": "code",
   "execution_count": 139,
   "id": "ae8452ac",
   "metadata": {},
   "outputs": [
    {
     "data": {
      "text/html": [
       "<div>\n",
       "<style scoped>\n",
       "    .dataframe tbody tr th:only-of-type {\n",
       "        vertical-align: middle;\n",
       "    }\n",
       "\n",
       "    .dataframe tbody tr th {\n",
       "        vertical-align: top;\n",
       "    }\n",
       "\n",
       "    .dataframe thead th {\n",
       "        text-align: right;\n",
       "    }\n",
       "</style>\n",
       "<table border=\"1\" class=\"dataframe\">\n",
       "  <thead>\n",
       "    <tr style=\"text-align: right;\">\n",
       "      <th></th>\n",
       "      <th>ApplicantIncome</th>\n",
       "      <th>CoapplicantIncome</th>\n",
       "      <th>LoanAmount</th>\n",
       "      <th>Loan_Amount_Term</th>\n",
       "      <th>Credit_History</th>\n",
       "      <th>TotalIncome</th>\n",
       "      <th>TotalIncomeINR</th>\n",
       "    </tr>\n",
       "  </thead>\n",
       "  <tbody>\n",
       "    <tr>\n",
       "      <th>count</th>\n",
       "      <td>618.000000</td>\n",
       "      <td>618.000000</td>\n",
       "      <td>618.000000</td>\n",
       "      <td>604.000000</td>\n",
       "      <td>567.000000</td>\n",
       "      <td>618.000000</td>\n",
       "      <td>6.180000e+02</td>\n",
       "    </tr>\n",
       "    <tr>\n",
       "      <th>mean</th>\n",
       "      <td>5395.203883</td>\n",
       "      <td>1612.365566</td>\n",
       "      <td>146.005042</td>\n",
       "      <td>341.721854</td>\n",
       "      <td>0.843034</td>\n",
       "      <td>7007.569450</td>\n",
       "      <td>5.255677e+05</td>\n",
       "    </tr>\n",
       "    <tr>\n",
       "      <th>std</th>\n",
       "      <td>6091.654472</td>\n",
       "      <td>2919.032181</td>\n",
       "      <td>84.001630</td>\n",
       "      <td>65.542376</td>\n",
       "      <td>0.364090</td>\n",
       "      <td>6442.254335</td>\n",
       "      <td>4.831691e+05</td>\n",
       "    </tr>\n",
       "    <tr>\n",
       "      <th>min</th>\n",
       "      <td>150.000000</td>\n",
       "      <td>0.000000</td>\n",
       "      <td>9.000000</td>\n",
       "      <td>12.000000</td>\n",
       "      <td>0.000000</td>\n",
       "      <td>1442.000000</td>\n",
       "      <td>1.081500e+05</td>\n",
       "    </tr>\n",
       "    <tr>\n",
       "      <th>25%</th>\n",
       "      <td>2877.500000</td>\n",
       "      <td>0.000000</td>\n",
       "      <td>100.000000</td>\n",
       "      <td>360.000000</td>\n",
       "      <td>1.000000</td>\n",
       "      <td>4161.500000</td>\n",
       "      <td>3.121125e+05</td>\n",
       "    </tr>\n",
       "    <tr>\n",
       "      <th>50%</th>\n",
       "      <td>3812.500000</td>\n",
       "      <td>1128.500000</td>\n",
       "      <td>128.500000</td>\n",
       "      <td>360.000000</td>\n",
       "      <td>1.000000</td>\n",
       "      <td>5407.000000</td>\n",
       "      <td>4.055250e+05</td>\n",
       "    </tr>\n",
       "    <tr>\n",
       "      <th>75%</th>\n",
       "      <td>5795.000000</td>\n",
       "      <td>2281.000000</td>\n",
       "      <td>163.500000</td>\n",
       "      <td>360.000000</td>\n",
       "      <td>1.000000</td>\n",
       "      <td>7474.750000</td>\n",
       "      <td>5.606062e+05</td>\n",
       "    </tr>\n",
       "    <tr>\n",
       "      <th>max</th>\n",
       "      <td>81000.000000</td>\n",
       "      <td>41667.000000</td>\n",
       "      <td>700.000000</td>\n",
       "      <td>480.000000</td>\n",
       "      <td>1.000000</td>\n",
       "      <td>81000.000000</td>\n",
       "      <td>6.075000e+06</td>\n",
       "    </tr>\n",
       "  </tbody>\n",
       "</table>\n",
       "</div>"
      ],
      "text/plain": [
       "       ApplicantIncome  CoapplicantIncome  LoanAmount  Loan_Amount_Term  \\\n",
       "count       618.000000         618.000000  618.000000        604.000000   \n",
       "mean       5395.203883        1612.365566  146.005042        341.721854   \n",
       "std        6091.654472        2919.032181   84.001630         65.542376   \n",
       "min         150.000000           0.000000    9.000000         12.000000   \n",
       "25%        2877.500000           0.000000  100.000000        360.000000   \n",
       "50%        3812.500000        1128.500000  128.500000        360.000000   \n",
       "75%        5795.000000        2281.000000  163.500000        360.000000   \n",
       "max       81000.000000       41667.000000  700.000000        480.000000   \n",
       "\n",
       "       Credit_History   TotalIncome  TotalIncomeINR  \n",
       "count      567.000000    618.000000    6.180000e+02  \n",
       "mean         0.843034   7007.569450    5.255677e+05  \n",
       "std          0.364090   6442.254335    4.831691e+05  \n",
       "min          0.000000   1442.000000    1.081500e+05  \n",
       "25%          1.000000   4161.500000    3.121125e+05  \n",
       "50%          1.000000   5407.000000    4.055250e+05  \n",
       "75%          1.000000   7474.750000    5.606062e+05  \n",
       "max          1.000000  81000.000000    6.075000e+06  "
      ]
     },
     "execution_count": 139,
     "metadata": {},
     "output_type": "execute_result"
    }
   ],
   "source": [
    "df.describe()"
   ]
  },
  {
   "cell_type": "code",
   "execution_count": 136,
   "id": "91bcb21a",
   "metadata": {},
   "outputs": [
    {
     "data": {
      "text/html": [
       "<div>\n",
       "<style scoped>\n",
       "    .dataframe tbody tr th:only-of-type {\n",
       "        vertical-align: middle;\n",
       "    }\n",
       "\n",
       "    .dataframe tbody tr th {\n",
       "        vertical-align: top;\n",
       "    }\n",
       "\n",
       "    .dataframe thead th {\n",
       "        text-align: right;\n",
       "    }\n",
       "</style>\n",
       "<table border=\"1\" class=\"dataframe\">\n",
       "  <thead>\n",
       "    <tr style=\"text-align: right;\">\n",
       "      <th></th>\n",
       "      <th>Loan_ID</th>\n",
       "      <th>Gender</th>\n",
       "      <th>Married</th>\n",
       "      <th>Dependents</th>\n",
       "      <th>Education</th>\n",
       "      <th>Self_Employed</th>\n",
       "      <th>ApplicantIncome</th>\n",
       "      <th>CoapplicantIncome</th>\n",
       "      <th>LoanAmount</th>\n",
       "      <th>Loan_Amount_Term</th>\n",
       "      <th>Credit_History</th>\n",
       "      <th>Property_Area</th>\n",
       "      <th>Loan_Status</th>\n",
       "      <th>TotalIncome</th>\n",
       "      <th>TotalIncomeINR</th>\n",
       "      <th>Income_Category</th>\n",
       "      <th>Income_group</th>\n",
       "    </tr>\n",
       "  </thead>\n",
       "  <tbody>\n",
       "    <tr>\n",
       "      <th>0</th>\n",
       "      <td>LP001002</td>\n",
       "      <td>Male</td>\n",
       "      <td>No</td>\n",
       "      <td>0</td>\n",
       "      <td>Graduate</td>\n",
       "      <td>No</td>\n",
       "      <td>5849</td>\n",
       "      <td>0.0</td>\n",
       "      <td>146.005042</td>\n",
       "      <td>360.0</td>\n",
       "      <td>1.0</td>\n",
       "      <td>Urban</td>\n",
       "      <td>Y</td>\n",
       "      <td>5849.0</td>\n",
       "      <td>438675.0</td>\n",
       "      <td>medium</td>\n",
       "      <td>middle income</td>\n",
       "    </tr>\n",
       "    <tr>\n",
       "      <th>1</th>\n",
       "      <td>LP001003</td>\n",
       "      <td>Male</td>\n",
       "      <td>Yes</td>\n",
       "      <td>1</td>\n",
       "      <td>Graduate</td>\n",
       "      <td>No</td>\n",
       "      <td>4583</td>\n",
       "      <td>1508.0</td>\n",
       "      <td>128.000000</td>\n",
       "      <td>360.0</td>\n",
       "      <td>1.0</td>\n",
       "      <td>Rural</td>\n",
       "      <td>N</td>\n",
       "      <td>6091.0</td>\n",
       "      <td>456825.0</td>\n",
       "      <td>medium</td>\n",
       "      <td>poor</td>\n",
       "    </tr>\n",
       "    <tr>\n",
       "      <th>2</th>\n",
       "      <td>LP001005</td>\n",
       "      <td>Male</td>\n",
       "      <td>Yes</td>\n",
       "      <td>0</td>\n",
       "      <td>Graduate</td>\n",
       "      <td>Yes</td>\n",
       "      <td>3000</td>\n",
       "      <td>0.0</td>\n",
       "      <td>66.000000</td>\n",
       "      <td>360.0</td>\n",
       "      <td>1.0</td>\n",
       "      <td>Urban</td>\n",
       "      <td>Y</td>\n",
       "      <td>3000.0</td>\n",
       "      <td>225000.0</td>\n",
       "      <td>low</td>\n",
       "      <td>poor</td>\n",
       "    </tr>\n",
       "    <tr>\n",
       "      <th>3</th>\n",
       "      <td>LP001006</td>\n",
       "      <td>Male</td>\n",
       "      <td>Yes</td>\n",
       "      <td>0</td>\n",
       "      <td>Not Graduate</td>\n",
       "      <td>No</td>\n",
       "      <td>2583</td>\n",
       "      <td>2358.0</td>\n",
       "      <td>120.000000</td>\n",
       "      <td>360.0</td>\n",
       "      <td>1.0</td>\n",
       "      <td>Urban</td>\n",
       "      <td>Y</td>\n",
       "      <td>4941.0</td>\n",
       "      <td>370575.0</td>\n",
       "      <td>medium</td>\n",
       "      <td>poor</td>\n",
       "    </tr>\n",
       "    <tr>\n",
       "      <th>4</th>\n",
       "      <td>LP001008</td>\n",
       "      <td>Male</td>\n",
       "      <td>No</td>\n",
       "      <td>0</td>\n",
       "      <td>Graduate</td>\n",
       "      <td>No</td>\n",
       "      <td>6000</td>\n",
       "      <td>0.0</td>\n",
       "      <td>141.000000</td>\n",
       "      <td>360.0</td>\n",
       "      <td>1.0</td>\n",
       "      <td>Urban</td>\n",
       "      <td>Y</td>\n",
       "      <td>6000.0</td>\n",
       "      <td>450000.0</td>\n",
       "      <td>medium</td>\n",
       "      <td>middle income</td>\n",
       "    </tr>\n",
       "  </tbody>\n",
       "</table>\n",
       "</div>"
      ],
      "text/plain": [
       "    Loan_ID Gender Married Dependents     Education Self_Employed  \\\n",
       "0  LP001002   Male      No          0      Graduate            No   \n",
       "1  LP001003   Male     Yes          1      Graduate            No   \n",
       "2  LP001005   Male     Yes          0      Graduate           Yes   \n",
       "3  LP001006   Male     Yes          0  Not Graduate            No   \n",
       "4  LP001008   Male      No          0      Graduate            No   \n",
       "\n",
       "   ApplicantIncome  CoapplicantIncome  LoanAmount  Loan_Amount_Term  \\\n",
       "0             5849                0.0  146.005042             360.0   \n",
       "1             4583             1508.0  128.000000             360.0   \n",
       "2             3000                0.0   66.000000             360.0   \n",
       "3             2583             2358.0  120.000000             360.0   \n",
       "4             6000                0.0  141.000000             360.0   \n",
       "\n",
       "   Credit_History Property_Area Loan_Status  TotalIncome  TotalIncomeINR  \\\n",
       "0             1.0         Urban           Y       5849.0        438675.0   \n",
       "1             1.0         Rural           N       6091.0        456825.0   \n",
       "2             1.0         Urban           Y       3000.0        225000.0   \n",
       "3             1.0         Urban           Y       4941.0        370575.0   \n",
       "4             1.0         Urban           Y       6000.0        450000.0   \n",
       "\n",
       "  Income_Category   Income_group  \n",
       "0          medium  middle income  \n",
       "1          medium           poor  \n",
       "2             low           poor  \n",
       "3          medium           poor  \n",
       "4          medium  middle income  "
      ]
     },
     "execution_count": 136,
     "metadata": {},
     "output_type": "execute_result"
    }
   ],
   "source": [
    "df.head()"
   ]
  },
  {
   "cell_type": "code",
   "execution_count": 141,
   "id": "c85c0546",
   "metadata": {},
   "outputs": [],
   "source": [
    "df.to_csv(\"loans-cleaned.csv\",index=False)"
   ]
  },
  {
   "cell_type": "code",
   "execution_count": 143,
   "id": "3172bea0",
   "metadata": {},
   "outputs": [],
   "source": [
    "df.to_excel(\"loans.xlsx\",index=False)"
   ]
  },
  {
   "cell_type": "code",
   "execution_count": null,
   "id": "ab0f8851",
   "metadata": {},
   "outputs": [],
   "source": []
  }
 ],
 "metadata": {
  "kernelspec": {
   "display_name": "Python 3 (ipykernel)",
   "language": "python",
   "name": "python3"
  },
  "language_info": {
   "codemirror_mode": {
    "name": "ipython",
    "version": 3
   },
   "file_extension": ".py",
   "mimetype": "text/x-python",
   "name": "python",
   "nbconvert_exporter": "python",
   "pygments_lexer": "ipython3",
   "version": "3.9.12"
  }
 },
 "nbformat": 4,
 "nbformat_minor": 5
}
