{
 "cells": [
  {
   "cell_type": "markdown",
   "id": "052cd679",
   "metadata": {},
   "source": [
    "# Load the model"
   ]
  },
  {
   "cell_type": "code",
   "execution_count": 2,
   "id": "ff4ea063",
   "metadata": {},
   "outputs": [],
   "source": [
    "import pickle"
   ]
  },
  {
   "cell_type": "code",
   "execution_count": 3,
   "id": "50b7fb20",
   "metadata": {},
   "outputs": [],
   "source": [
    "f=open(\"mymodel.pkl\",\"rb\")\n",
    "model = pickle.load(f)\n",
    "f.close()"
   ]
  },
  {
   "cell_type": "code",
   "execution_count": 4,
   "id": "ccb784c3",
   "metadata": {},
   "outputs": [
    {
     "data": {
      "text/plain": [
       "sklearn.linear_model._base.LinearRegression"
      ]
     },
     "execution_count": 4,
     "metadata": {},
     "output_type": "execute_result"
    }
   ],
   "source": [
    "type(model)"
   ]
  },
  {
   "cell_type": "markdown",
   "id": "899e61c7",
   "metadata": {},
   "source": [
    "# Predict using the loaded model"
   ]
  },
  {
   "cell_type": "code",
   "execution_count": 5,
   "id": "ea4f6245",
   "metadata": {},
   "outputs": [
    {
     "name": "stderr",
     "output_type": "stream",
     "text": [
      "C:\\ProgramData\\Anaconda3\\lib\\site-packages\\sklearn\\base.py:450: UserWarning: X does not have valid feature names, but LinearRegression was fitted with feature names\n",
      "  warnings.warn(\n"
     ]
    },
    {
     "data": {
      "text/plain": [
       "array([481015.87425869])"
      ]
     },
     "execution_count": 5,
     "metadata": {},
     "output_type": "execute_result"
    }
   ],
   "source": [
    "model.predict([[3000,3]])"
   ]
  },
  {
   "cell_type": "code",
   "execution_count": 8,
   "id": "b4339d48",
   "metadata": {},
   "outputs": [],
   "source": [
    "def price_predict():\n",
    "    print(\"Welcome to house price prediction using a saved ml model\")\n",
    "    sft = input(\"Enter the sft : \")\n",
    "    rooms = input(\"Enter the number of rooms : \")\n",
    "    price = model.predict([[int(sft),int(rooms)]])\n",
    "    print(f\"The price of a {rooms} bedroom and {sft} sft house is {round(price[0])}\")"
   ]
  },
  {
   "cell_type": "code",
   "execution_count": 9,
   "id": "971d558b",
   "metadata": {},
   "outputs": [
    {
     "name": "stdout",
     "output_type": "stream",
     "text": [
      "Welcome to house price prediction using a saved ml model\n",
      "Enter the sft2000\n",
      "Enter the number of rooms2\n",
      "The price of a 2 bedroom and 2000 sft house is 350543\n"
     ]
    },
    {
     "name": "stderr",
     "output_type": "stream",
     "text": [
      "C:\\ProgramData\\Anaconda3\\lib\\site-packages\\sklearn\\base.py:450: UserWarning: X does not have valid feature names, but LinearRegression was fitted with feature names\n",
      "  warnings.warn(\n"
     ]
    }
   ],
   "source": [
    "price_predict()"
   ]
  },
  {
   "cell_type": "code",
   "execution_count": null,
   "id": "3a38f986",
   "metadata": {},
   "outputs": [],
   "source": []
  }
 ],
 "metadata": {
  "kernelspec": {
   "display_name": "Python 3 (ipykernel)",
   "language": "python",
   "name": "python3"
  },
  "language_info": {
   "codemirror_mode": {
    "name": "ipython",
    "version": 3
   },
   "file_extension": ".py",
   "mimetype": "text/x-python",
   "name": "python",
   "nbconvert_exporter": "python",
   "pygments_lexer": "ipython3",
   "version": "3.9.12"
  }
 },
 "nbformat": 4,
 "nbformat_minor": 5
}
