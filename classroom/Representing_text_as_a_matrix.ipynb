{
 "cells": [
  {
   "cell_type": "code",
   "execution_count": 3,
   "metadata": {},
   "outputs": [],
   "source": [
    "brides = [\"smart, homely, educated, girl\",\"fair, cultured, family, values\",\"attractive, girl,doctor\" ]\n",
    "grooms = [\"govt employee, non smoker\",\"engineer employee, vegan\",\"doctor, own house, traditinal family\"]"
   ]
  },
  {
   "cell_type": "code",
   "execution_count": 4,
   "metadata": {},
   "outputs": [],
   "source": [
    "corpus = brides + grooms"
   ]
  },
  {
   "cell_type": "code",
   "execution_count": 5,
   "metadata": {},
   "outputs": [
    {
     "data": {
      "text/plain": [
       "['smart, homely, educated, girl',\n",
       " 'fair, cultured, family, values',\n",
       " 'attractive, girl,doctor',\n",
       " 'govt employee, non smoker',\n",
       " 'engineer employee, vegan',\n",
       " 'doctor, own house, traditinal family']"
      ]
     },
     "execution_count": 5,
     "metadata": {},
     "output_type": "execute_result"
    }
   ],
   "source": [
    "corpus"
   ]
  },
  {
   "cell_type": "code",
   "execution_count": 6,
   "metadata": {},
   "outputs": [],
   "source": [
    "corpus = \" \".join(corpus)"
   ]
  },
  {
   "cell_type": "code",
   "execution_count": 7,
   "metadata": {},
   "outputs": [
    {
     "data": {
      "text/plain": [
       "'smart, homely, educated, girl fair, cultured, family, values attractive, girl,doctor govt employee, non smoker engineer employee, vegan doctor, own house, traditinal family'"
      ]
     },
     "execution_count": 7,
     "metadata": {},
     "output_type": "execute_result"
    }
   ],
   "source": [
    "corpus"
   ]
  },
  {
   "cell_type": "code",
   "execution_count": 8,
   "metadata": {},
   "outputs": [],
   "source": [
    "corpus = tuple(set(corpus.replace(',',\" \").split()))"
   ]
  },
  {
   "cell_type": "code",
   "execution_count": 9,
   "metadata": {},
   "outputs": [
    {
     "data": {
      "text/plain": [
       "('vegan',\n",
       " 'cultured',\n",
       " 'doctor',\n",
       " 'fair',\n",
       " 'non',\n",
       " 'educated',\n",
       " 'own',\n",
       " 'family',\n",
       " 'homely',\n",
       " 'attractive',\n",
       " 'smoker',\n",
       " 'engineer',\n",
       " 'values',\n",
       " 'house',\n",
       " 'govt',\n",
       " 'employee',\n",
       " 'smart',\n",
       " 'traditinal',\n",
       " 'girl')"
      ]
     },
     "execution_count": 9,
     "metadata": {},
     "output_type": "execute_result"
    }
   ],
   "source": [
    "corpus"
   ]
  },
  {
   "cell_type": "code",
   "execution_count": 10,
   "metadata": {},
   "outputs": [
    {
     "data": {
      "text/plain": [
       "16"
      ]
     },
     "execution_count": 10,
     "metadata": {},
     "output_type": "execute_result"
    }
   ],
   "source": [
    "corpus.index('smart')"
   ]
  },
  {
   "cell_type": "code",
   "execution_count": 12,
   "metadata": {},
   "outputs": [
    {
     "name": "stdout",
     "output_type": "stream",
     "text": [
      "{'smart': 16, 'homely': 8, 'educated': 5, 'girl': 18}\n",
      "{'fair': 3, 'cultured': 1, 'family': 7, 'values': 12}\n",
      "{'attractive': 9, 'girl': 18, 'doctor': 2}\n"
     ]
    }
   ],
   "source": [
    "for ad in brides:\n",
    "    words = ad.replace(\",\",\" \").split()\n",
    "    ad_dict={}\n",
    "    for word in words:\n",
    "        ad_dict[word]=corpus.index(word)\n",
    "    print(ad_dict)"
   ]
  },
  {
   "cell_type": "code",
   "execution_count": 13,
   "metadata": {},
   "outputs": [
    {
     "name": "stdout",
     "output_type": "stream",
     "text": [
      "{'govt': 14, 'employee': 15, 'non': 4, 'smoker': 10}\n",
      "{'engineer': 11, 'employee': 15, 'vegan': 0}\n",
      "{'doctor': 2, 'own': 6, 'house': 13, 'traditinal': 17, 'family': 7}\n"
     ]
    }
   ],
   "source": [
    "for ad in grooms:\n",
    "    words = ad.replace(\",\",\" \").split()\n",
    "    ad_dict={}\n",
    "    for word in words:\n",
    "        ad_dict[word]=corpus.index(word)\n",
    "    print(ad_dict)"
   ]
  },
  {
   "cell_type": "code",
   "execution_count": 14,
   "metadata": {},
   "outputs": [],
   "source": [
    "dataset = []\n",
    "for ad in grooms:\n",
    "    words = ad.replace(\",\",\" \").split()\n",
    "    tmp={}\n",
    "    for word in corpus:\n",
    "        tmp[word] = int(word in words)\n",
    "    tmp[\"for\"] = \"Groom\"\n",
    "    dataset.append(tmp)\n",
    "    \n",
    "for ad in brides:\n",
    "    words = ad.replace(\",\",\" \").split()\n",
    "    tmp={}\n",
    "    for word in corpus:\n",
    "        tmp[word] = int(word in words)\n",
    "    tmp[\"for\"] = \"Bride\"\n",
    "    dataset.append(tmp)"
   ]
  },
  {
   "cell_type": "code",
   "execution_count": 16,
   "metadata": {
    "scrolled": false
   },
   "outputs": [
    {
     "data": {
      "text/plain": [
       "[{'vegan': 0,\n",
       "  'cultured': 0,\n",
       "  'doctor': 0,\n",
       "  'fair': 0,\n",
       "  'non': 1,\n",
       "  'educated': 0,\n",
       "  'own': 0,\n",
       "  'family': 0,\n",
       "  'homely': 0,\n",
       "  'attractive': 0,\n",
       "  'smoker': 1,\n",
       "  'engineer': 0,\n",
       "  'values': 0,\n",
       "  'house': 0,\n",
       "  'govt': 1,\n",
       "  'employee': 1,\n",
       "  'smart': 0,\n",
       "  'traditinal': 0,\n",
       "  'girl': 0,\n",
       "  'for': 'Groom'},\n",
       " {'vegan': 1,\n",
       "  'cultured': 0,\n",
       "  'doctor': 0,\n",
       "  'fair': 0,\n",
       "  'non': 0,\n",
       "  'educated': 0,\n",
       "  'own': 0,\n",
       "  'family': 0,\n",
       "  'homely': 0,\n",
       "  'attractive': 0,\n",
       "  'smoker': 0,\n",
       "  'engineer': 1,\n",
       "  'values': 0,\n",
       "  'house': 0,\n",
       "  'govt': 0,\n",
       "  'employee': 1,\n",
       "  'smart': 0,\n",
       "  'traditinal': 0,\n",
       "  'girl': 0,\n",
       "  'for': 'Groom'},\n",
       " {'vegan': 0,\n",
       "  'cultured': 0,\n",
       "  'doctor': 1,\n",
       "  'fair': 0,\n",
       "  'non': 0,\n",
       "  'educated': 0,\n",
       "  'own': 1,\n",
       "  'family': 1,\n",
       "  'homely': 0,\n",
       "  'attractive': 0,\n",
       "  'smoker': 0,\n",
       "  'engineer': 0,\n",
       "  'values': 0,\n",
       "  'house': 1,\n",
       "  'govt': 0,\n",
       "  'employee': 0,\n",
       "  'smart': 0,\n",
       "  'traditinal': 1,\n",
       "  'girl': 0,\n",
       "  'for': 'Groom'},\n",
       " {'vegan': 0,\n",
       "  'cultured': 0,\n",
       "  'doctor': 0,\n",
       "  'fair': 0,\n",
       "  'non': 0,\n",
       "  'educated': 1,\n",
       "  'own': 0,\n",
       "  'family': 0,\n",
       "  'homely': 1,\n",
       "  'attractive': 0,\n",
       "  'smoker': 0,\n",
       "  'engineer': 0,\n",
       "  'values': 0,\n",
       "  'house': 0,\n",
       "  'govt': 0,\n",
       "  'employee': 0,\n",
       "  'smart': 1,\n",
       "  'traditinal': 0,\n",
       "  'girl': 1,\n",
       "  'for': 'Bride'},\n",
       " {'vegan': 0,\n",
       "  'cultured': 1,\n",
       "  'doctor': 0,\n",
       "  'fair': 1,\n",
       "  'non': 0,\n",
       "  'educated': 0,\n",
       "  'own': 0,\n",
       "  'family': 1,\n",
       "  'homely': 0,\n",
       "  'attractive': 0,\n",
       "  'smoker': 0,\n",
       "  'engineer': 0,\n",
       "  'values': 1,\n",
       "  'house': 0,\n",
       "  'govt': 0,\n",
       "  'employee': 0,\n",
       "  'smart': 0,\n",
       "  'traditinal': 0,\n",
       "  'girl': 0,\n",
       "  'for': 'Bride'},\n",
       " {'vegan': 0,\n",
       "  'cultured': 0,\n",
       "  'doctor': 1,\n",
       "  'fair': 0,\n",
       "  'non': 0,\n",
       "  'educated': 0,\n",
       "  'own': 0,\n",
       "  'family': 0,\n",
       "  'homely': 0,\n",
       "  'attractive': 1,\n",
       "  'smoker': 0,\n",
       "  'engineer': 0,\n",
       "  'values': 0,\n",
       "  'house': 0,\n",
       "  'govt': 0,\n",
       "  'employee': 0,\n",
       "  'smart': 0,\n",
       "  'traditinal': 0,\n",
       "  'girl': 1,\n",
       "  'for': 'Bride'}]"
      ]
     },
     "execution_count": 16,
     "metadata": {},
     "output_type": "execute_result"
    }
   ],
   "source": [
    "dataset"
   ]
  },
  {
   "cell_type": "code",
   "execution_count": 17,
   "metadata": {},
   "outputs": [],
   "source": [
    "import pandas as pd"
   ]
  },
  {
   "cell_type": "code",
   "execution_count": 29,
   "metadata": {},
   "outputs": [],
   "source": [
    "df = pd.DataFrame(dataset)"
   ]
  },
  {
   "cell_type": "code",
   "execution_count": 19,
   "metadata": {},
   "outputs": [
    {
     "data": {
      "text/html": [
       "<div>\n",
       "<style scoped>\n",
       "    .dataframe tbody tr th:only-of-type {\n",
       "        vertical-align: middle;\n",
       "    }\n",
       "\n",
       "    .dataframe tbody tr th {\n",
       "        vertical-align: top;\n",
       "    }\n",
       "\n",
       "    .dataframe thead th {\n",
       "        text-align: right;\n",
       "    }\n",
       "</style>\n",
       "<table border=\"1\" class=\"dataframe\">\n",
       "  <thead>\n",
       "    <tr style=\"text-align: right;\">\n",
       "      <th></th>\n",
       "      <th>vegan</th>\n",
       "      <th>cultured</th>\n",
       "      <th>doctor</th>\n",
       "      <th>fair</th>\n",
       "      <th>non</th>\n",
       "      <th>educated</th>\n",
       "      <th>own</th>\n",
       "      <th>family</th>\n",
       "      <th>homely</th>\n",
       "      <th>attractive</th>\n",
       "      <th>smoker</th>\n",
       "      <th>engineer</th>\n",
       "      <th>values</th>\n",
       "      <th>house</th>\n",
       "      <th>govt</th>\n",
       "      <th>employee</th>\n",
       "      <th>smart</th>\n",
       "      <th>traditinal</th>\n",
       "      <th>girl</th>\n",
       "      <th>for</th>\n",
       "    </tr>\n",
       "  </thead>\n",
       "  <tbody>\n",
       "    <tr>\n",
       "      <th>1</th>\n",
       "      <td>1</td>\n",
       "      <td>0</td>\n",
       "      <td>0</td>\n",
       "      <td>0</td>\n",
       "      <td>0</td>\n",
       "      <td>0</td>\n",
       "      <td>0</td>\n",
       "      <td>0</td>\n",
       "      <td>0</td>\n",
       "      <td>0</td>\n",
       "      <td>0</td>\n",
       "      <td>1</td>\n",
       "      <td>0</td>\n",
       "      <td>0</td>\n",
       "      <td>0</td>\n",
       "      <td>1</td>\n",
       "      <td>0</td>\n",
       "      <td>0</td>\n",
       "      <td>0</td>\n",
       "      <td>Groom</td>\n",
       "    </tr>\n",
       "    <tr>\n",
       "      <th>2</th>\n",
       "      <td>0</td>\n",
       "      <td>0</td>\n",
       "      <td>1</td>\n",
       "      <td>0</td>\n",
       "      <td>0</td>\n",
       "      <td>0</td>\n",
       "      <td>1</td>\n",
       "      <td>1</td>\n",
       "      <td>0</td>\n",
       "      <td>0</td>\n",
       "      <td>0</td>\n",
       "      <td>0</td>\n",
       "      <td>0</td>\n",
       "      <td>1</td>\n",
       "      <td>0</td>\n",
       "      <td>0</td>\n",
       "      <td>0</td>\n",
       "      <td>1</td>\n",
       "      <td>0</td>\n",
       "      <td>Groom</td>\n",
       "    </tr>\n",
       "    <tr>\n",
       "      <th>3</th>\n",
       "      <td>0</td>\n",
       "      <td>0</td>\n",
       "      <td>0</td>\n",
       "      <td>0</td>\n",
       "      <td>0</td>\n",
       "      <td>1</td>\n",
       "      <td>0</td>\n",
       "      <td>0</td>\n",
       "      <td>1</td>\n",
       "      <td>0</td>\n",
       "      <td>0</td>\n",
       "      <td>0</td>\n",
       "      <td>0</td>\n",
       "      <td>0</td>\n",
       "      <td>0</td>\n",
       "      <td>0</td>\n",
       "      <td>1</td>\n",
       "      <td>0</td>\n",
       "      <td>1</td>\n",
       "      <td>Bride</td>\n",
       "    </tr>\n",
       "    <tr>\n",
       "      <th>4</th>\n",
       "      <td>0</td>\n",
       "      <td>1</td>\n",
       "      <td>0</td>\n",
       "      <td>1</td>\n",
       "      <td>0</td>\n",
       "      <td>0</td>\n",
       "      <td>0</td>\n",
       "      <td>1</td>\n",
       "      <td>0</td>\n",
       "      <td>0</td>\n",
       "      <td>0</td>\n",
       "      <td>0</td>\n",
       "      <td>1</td>\n",
       "      <td>0</td>\n",
       "      <td>0</td>\n",
       "      <td>0</td>\n",
       "      <td>0</td>\n",
       "      <td>0</td>\n",
       "      <td>0</td>\n",
       "      <td>Bride</td>\n",
       "    </tr>\n",
       "    <tr>\n",
       "      <th>5</th>\n",
       "      <td>0</td>\n",
       "      <td>0</td>\n",
       "      <td>1</td>\n",
       "      <td>0</td>\n",
       "      <td>0</td>\n",
       "      <td>0</td>\n",
       "      <td>0</td>\n",
       "      <td>0</td>\n",
       "      <td>0</td>\n",
       "      <td>1</td>\n",
       "      <td>0</td>\n",
       "      <td>0</td>\n",
       "      <td>0</td>\n",
       "      <td>0</td>\n",
       "      <td>0</td>\n",
       "      <td>0</td>\n",
       "      <td>0</td>\n",
       "      <td>0</td>\n",
       "      <td>1</td>\n",
       "      <td>Bride</td>\n",
       "    </tr>\n",
       "  </tbody>\n",
       "</table>\n",
       "</div>"
      ],
      "text/plain": [
       "   vegan  cultured  doctor  fair  non  educated  own  family  homely  \\\n",
       "1      1         0       0     0    0         0    0       0       0   \n",
       "2      0         0       1     0    0         0    1       1       0   \n",
       "3      0         0       0     0    0         1    0       0       1   \n",
       "4      0         1       0     1    0         0    0       1       0   \n",
       "5      0         0       1     0    0         0    0       0       0   \n",
       "\n",
       "   attractive  smoker  engineer  values  house  govt  employee  smart  \\\n",
       "1           0       0         1       0      0     0         1      0   \n",
       "2           0       0         0       0      1     0         0      0   \n",
       "3           0       0         0       0      0     0         0      1   \n",
       "4           0       0         0       1      0     0         0      0   \n",
       "5           1       0         0       0      0     0         0      0   \n",
       "\n",
       "   traditinal  girl    for  \n",
       "1           0     0  Groom  \n",
       "2           1     0  Groom  \n",
       "3           0     1  Bride  \n",
       "4           0     0  Bride  \n",
       "5           0     1  Bride  "
      ]
     },
     "execution_count": 19,
     "metadata": {},
     "output_type": "execute_result"
    }
   ],
   "source": [
    "df.tail()"
   ]
  },
  {
   "cell_type": "code",
   "execution_count": 20,
   "metadata": {},
   "outputs": [
    {
     "data": {
      "text/plain": [
       "(6, 20)"
      ]
     },
     "execution_count": 20,
     "metadata": {},
     "output_type": "execute_result"
    }
   ],
   "source": [
    "df.shape"
   ]
  },
  {
   "cell_type": "code",
   "execution_count": 21,
   "metadata": {},
   "outputs": [],
   "source": [
    "target = df['for']\n",
    "features = df.drop(columns=[\"for\"])"
   ]
  },
  {
   "cell_type": "code",
   "execution_count": 22,
   "metadata": {},
   "outputs": [
    {
     "data": {
      "text/plain": [
       "0    Groom\n",
       "1    Groom\n",
       "2    Groom\n",
       "3    Bride\n",
       "4    Bride\n",
       "Name: for, dtype: object"
      ]
     },
     "execution_count": 22,
     "metadata": {},
     "output_type": "execute_result"
    }
   ],
   "source": [
    "target.head()"
   ]
  },
  {
   "cell_type": "code",
   "execution_count": 23,
   "metadata": {},
   "outputs": [
    {
     "data": {
      "text/html": [
       "<div>\n",
       "<style scoped>\n",
       "    .dataframe tbody tr th:only-of-type {\n",
       "        vertical-align: middle;\n",
       "    }\n",
       "\n",
       "    .dataframe tbody tr th {\n",
       "        vertical-align: top;\n",
       "    }\n",
       "\n",
       "    .dataframe thead th {\n",
       "        text-align: right;\n",
       "    }\n",
       "</style>\n",
       "<table border=\"1\" class=\"dataframe\">\n",
       "  <thead>\n",
       "    <tr style=\"text-align: right;\">\n",
       "      <th></th>\n",
       "      <th>vegan</th>\n",
       "      <th>cultured</th>\n",
       "      <th>doctor</th>\n",
       "      <th>fair</th>\n",
       "      <th>non</th>\n",
       "      <th>educated</th>\n",
       "      <th>own</th>\n",
       "      <th>family</th>\n",
       "      <th>homely</th>\n",
       "      <th>attractive</th>\n",
       "      <th>smoker</th>\n",
       "      <th>engineer</th>\n",
       "      <th>values</th>\n",
       "      <th>house</th>\n",
       "      <th>govt</th>\n",
       "      <th>employee</th>\n",
       "      <th>smart</th>\n",
       "      <th>traditinal</th>\n",
       "      <th>girl</th>\n",
       "    </tr>\n",
       "  </thead>\n",
       "  <tbody>\n",
       "    <tr>\n",
       "      <th>0</th>\n",
       "      <td>0</td>\n",
       "      <td>0</td>\n",
       "      <td>0</td>\n",
       "      <td>0</td>\n",
       "      <td>1</td>\n",
       "      <td>0</td>\n",
       "      <td>0</td>\n",
       "      <td>0</td>\n",
       "      <td>0</td>\n",
       "      <td>0</td>\n",
       "      <td>1</td>\n",
       "      <td>0</td>\n",
       "      <td>0</td>\n",
       "      <td>0</td>\n",
       "      <td>1</td>\n",
       "      <td>1</td>\n",
       "      <td>0</td>\n",
       "      <td>0</td>\n",
       "      <td>0</td>\n",
       "    </tr>\n",
       "    <tr>\n",
       "      <th>1</th>\n",
       "      <td>1</td>\n",
       "      <td>0</td>\n",
       "      <td>0</td>\n",
       "      <td>0</td>\n",
       "      <td>0</td>\n",
       "      <td>0</td>\n",
       "      <td>0</td>\n",
       "      <td>0</td>\n",
       "      <td>0</td>\n",
       "      <td>0</td>\n",
       "      <td>0</td>\n",
       "      <td>1</td>\n",
       "      <td>0</td>\n",
       "      <td>0</td>\n",
       "      <td>0</td>\n",
       "      <td>1</td>\n",
       "      <td>0</td>\n",
       "      <td>0</td>\n",
       "      <td>0</td>\n",
       "    </tr>\n",
       "    <tr>\n",
       "      <th>2</th>\n",
       "      <td>0</td>\n",
       "      <td>0</td>\n",
       "      <td>1</td>\n",
       "      <td>0</td>\n",
       "      <td>0</td>\n",
       "      <td>0</td>\n",
       "      <td>1</td>\n",
       "      <td>1</td>\n",
       "      <td>0</td>\n",
       "      <td>0</td>\n",
       "      <td>0</td>\n",
       "      <td>0</td>\n",
       "      <td>0</td>\n",
       "      <td>1</td>\n",
       "      <td>0</td>\n",
       "      <td>0</td>\n",
       "      <td>0</td>\n",
       "      <td>1</td>\n",
       "      <td>0</td>\n",
       "    </tr>\n",
       "    <tr>\n",
       "      <th>3</th>\n",
       "      <td>0</td>\n",
       "      <td>0</td>\n",
       "      <td>0</td>\n",
       "      <td>0</td>\n",
       "      <td>0</td>\n",
       "      <td>1</td>\n",
       "      <td>0</td>\n",
       "      <td>0</td>\n",
       "      <td>1</td>\n",
       "      <td>0</td>\n",
       "      <td>0</td>\n",
       "      <td>0</td>\n",
       "      <td>0</td>\n",
       "      <td>0</td>\n",
       "      <td>0</td>\n",
       "      <td>0</td>\n",
       "      <td>1</td>\n",
       "      <td>0</td>\n",
       "      <td>1</td>\n",
       "    </tr>\n",
       "    <tr>\n",
       "      <th>4</th>\n",
       "      <td>0</td>\n",
       "      <td>1</td>\n",
       "      <td>0</td>\n",
       "      <td>1</td>\n",
       "      <td>0</td>\n",
       "      <td>0</td>\n",
       "      <td>0</td>\n",
       "      <td>1</td>\n",
       "      <td>0</td>\n",
       "      <td>0</td>\n",
       "      <td>0</td>\n",
       "      <td>0</td>\n",
       "      <td>1</td>\n",
       "      <td>0</td>\n",
       "      <td>0</td>\n",
       "      <td>0</td>\n",
       "      <td>0</td>\n",
       "      <td>0</td>\n",
       "      <td>0</td>\n",
       "    </tr>\n",
       "  </tbody>\n",
       "</table>\n",
       "</div>"
      ],
      "text/plain": [
       "   vegan  cultured  doctor  fair  non  educated  own  family  homely  \\\n",
       "0      0         0       0     0    1         0    0       0       0   \n",
       "1      1         0       0     0    0         0    0       0       0   \n",
       "2      0         0       1     0    0         0    1       1       0   \n",
       "3      0         0       0     0    0         1    0       0       1   \n",
       "4      0         1       0     1    0         0    0       1       0   \n",
       "\n",
       "   attractive  smoker  engineer  values  house  govt  employee  smart  \\\n",
       "0           0       1         0       0      0     1         1      0   \n",
       "1           0       0         1       0      0     0         1      0   \n",
       "2           0       0         0       0      1     0         0      0   \n",
       "3           0       0         0       0      0     0         0      1   \n",
       "4           0       0         0       1      0     0         0      0   \n",
       "\n",
       "   traditinal  girl  \n",
       "0           0     0  \n",
       "1           0     0  \n",
       "2           1     0  \n",
       "3           0     1  \n",
       "4           0     0  "
      ]
     },
     "execution_count": 23,
     "metadata": {},
     "output_type": "execute_result"
    }
   ],
   "source": [
    "features.head()"
   ]
  },
  {
   "cell_type": "code",
   "execution_count": 24,
   "metadata": {},
   "outputs": [],
   "source": [
    "from sklearn.linear_model import LogisticRegression"
   ]
  },
  {
   "cell_type": "code",
   "execution_count": 25,
   "metadata": {},
   "outputs": [],
   "source": [
    "lr = LogisticRegression()"
   ]
  },
  {
   "cell_type": "code",
   "execution_count": 26,
   "metadata": {},
   "outputs": [
    {
     "data": {
      "text/plain": [
       "LogisticRegression()"
      ]
     },
     "execution_count": 26,
     "metadata": {},
     "output_type": "execute_result"
    }
   ],
   "source": [
    "lr.fit(features,target)"
   ]
  },
  {
   "cell_type": "code",
   "execution_count": 27,
   "metadata": {},
   "outputs": [
    {
     "data": {
      "text/plain": [
       "1.0"
      ]
     },
     "execution_count": 27,
     "metadata": {},
     "output_type": "execute_result"
    }
   ],
   "source": [
    "lr.score(features,target)"
   ]
  },
  {
   "cell_type": "code",
   "execution_count": 28,
   "metadata": {},
   "outputs": [
    {
     "data": {
      "text/plain": [
       "array(['Groom', 'Groom', 'Groom', 'Bride', 'Bride', 'Bride'], dtype=object)"
      ]
     },
     "execution_count": 28,
     "metadata": {},
     "output_type": "execute_result"
    }
   ],
   "source": [
    "lr.predict(features)"
   ]
  },
  {
   "cell_type": "code",
   "execution_count": null,
   "metadata": {},
   "outputs": [],
   "source": []
  }
 ],
 "metadata": {
  "kernelspec": {
   "display_name": "Python 3 (ipykernel)",
   "language": "python",
   "name": "python3"
  },
  "language_info": {
   "codemirror_mode": {
    "name": "ipython",
    "version": 3
   },
   "file_extension": ".py",
   "mimetype": "text/x-python",
   "name": "python",
   "nbconvert_exporter": "python",
   "pygments_lexer": "ipython3",
   "version": "3.9.12"
  }
 },
 "nbformat": 4,
 "nbformat_minor": 4
}
