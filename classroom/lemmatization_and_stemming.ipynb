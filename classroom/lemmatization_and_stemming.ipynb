{
 "cells": [
  {
   "cell_type": "markdown",
   "metadata": {},
   "source": [
    "### Lemmatization"
   ]
  },
  {
   "cell_type": "markdown",
   "metadata": {},
   "source": [
    "Lemmatization is the process of grouping together the different inflected forms of a word so they can be analysed as a single item."
   ]
  },
  {
   "cell_type": "code",
   "execution_count": 1,
   "metadata": {},
   "outputs": [],
   "source": [
    "from nltk.stem import WordNetLemmatizer"
   ]
  },
  {
   "cell_type": "code",
   "execution_count": 5,
   "metadata": {},
   "outputs": [],
   "source": [
    "words = [\"walk\",\"walking\",\"walked\",\"walks\",\"study\",\"studies\",\"studying\",\"gone\",\"going\",\"went\",\"believes\"]"
   ]
  },
  {
   "cell_type": "code",
   "execution_count": 6,
   "metadata": {},
   "outputs": [],
   "source": [
    "lemmatiser = WordNetLemmatizer()"
   ]
  },
  {
   "cell_type": "code",
   "execution_count": 8,
   "metadata": {},
   "outputs": [
    {
     "name": "stdout",
     "output_type": "stream",
     "text": [
      "walk ---> walk\n",
      "walking ---> walk\n",
      "walked ---> walk\n",
      "walks ---> walk\n",
      "study ---> study\n",
      "studies ---> study\n",
      "studying ---> study\n",
      "gone ---> go\n",
      "going ---> go\n",
      "went ---> go\n",
      "believes ---> believe\n"
     ]
    }
   ],
   "source": [
    "for word in words:\n",
    "    print(\"{} ---> {}\".format(word,lemmatiser.lemmatize(word,pos=\"v\")))"
   ]
  },
  {
   "cell_type": "markdown",
   "metadata": {},
   "source": [
    "### Stemming\n",
    "Stemming is the process of producing morphological variants of a root/base word.\n",
    "\n",
    "Similar to lemmatization, except that stem might not be the actual word and lemma is an actual language word."
   ]
  },
  {
   "cell_type": "code",
   "execution_count": 9,
   "metadata": {},
   "outputs": [],
   "source": [
    "from nltk.stem import PorterStemmer"
   ]
  },
  {
   "cell_type": "code",
   "execution_count": 10,
   "metadata": {},
   "outputs": [],
   "source": [
    "words = [\"walk\",\"walking\",\"walked\",\"walks\",\"lying\",\"laid\",\"lay\",\"layed\",\"lied\",\"laying\",\"study\",\"studies\",\"studying\",\"gone\",\"went\",\"believes\"]\n"
   ]
  },
  {
   "cell_type": "code",
   "execution_count": 11,
   "metadata": {},
   "outputs": [],
   "source": [
    "ps = PorterStemmer()"
   ]
  },
  {
   "cell_type": "code",
   "execution_count": 12,
   "metadata": {},
   "outputs": [
    {
     "name": "stdout",
     "output_type": "stream",
     "text": [
      "walk ---> walk\n",
      "walking ---> walk\n",
      "walked ---> walk\n",
      "walks ---> walk\n",
      "lying ---> lie\n",
      "laid ---> laid\n",
      "lay ---> lay\n",
      "layed ---> lay\n",
      "lied ---> lie\n",
      "laying ---> lay\n",
      "study ---> studi\n",
      "studies ---> studi\n",
      "studying ---> studi\n",
      "gone ---> gone\n",
      "went ---> went\n",
      "believes ---> believ\n"
     ]
    }
   ],
   "source": [
    "for word in words:\n",
    "    print(\"{} ---> {}\".format(word,ps.stem(word)))"
   ]
  },
  {
   "cell_type": "code",
   "execution_count": 13,
   "metadata": {},
   "outputs": [],
   "source": [
    "words = {'+',\n",
    " '2021,',\n",
    " '500',\n",
    " 'able',\n",
    " 'access',\n",
    " 'acknowledgments',\n",
    " 'advantage',\n",
    " 'also',\n",
    " 'american',\n",
    " 'analyst',\n",
    " 'analytical',\n",
    " 'analytics',\n",
    " 'appa',\n",
    " 'application',\n",
    " 'arduous.',\n",
    " 'association',\n",
    " 'association,',\n",
    " 'automate',\n",
    " 'automated',\n",
    " 'automation',\n",
    " 'available',\n",
    " 'award-winning',\n",
    " 'bay',\n",
    " 'became',\n",
    " 'benchmarking',\n",
    " 'benefits,',\n",
    " 'cascade',\n",
    " 'case',\n",
    " 'center',\n",
    " 'challenge',\n",
    " 'change',\n",
    " 'changes',\n",
    " 'charts',\n",
    " 'click',\n",
    " 'code.',\n",
    " 'communities.',\n",
    " 'computation,',\n",
    " 'computational',\n",
    " 'compute',\n",
    " 'could',\n",
    " 'crosscompute',\n",
    " 'css',\n",
    " 'css.',\n",
    " 'custom',\n",
    " 'data',\n",
    " 'data.',\n",
    " 'dataset',\n",
    " 'decided',\n",
    " 'delay',\n",
    " 'deliver',\n",
    " 'delivered',\n",
    " 'department',\n",
    " 'deployed',\n",
    " 'developed',\n",
    " 'downstream',\n",
    " 'drag',\n",
    " 'drop',\n",
    " 'electric',\n",
    " 'energy,',\n",
    " 'ereliability',\n",
    " 'every',\n",
    " 'faithfully',\n",
    " 'faster.',\n",
    " 'five',\n",
    " 'flexible',\n",
    " 'foundation,',\n",
    " 'framework.',\n",
    " 'free',\n",
    " 'frequently',\n",
    " 'full',\n",
    " 'generate',\n",
    " 'help',\n",
    " 'helps',\n",
    " 'highly',\n",
    " 'hour,',\n",
    " 'however,',\n",
    " 'hundred',\n",
    " 'improve',\n",
    " 'increasingly',\n",
    " 'innovate',\n",
    " 'innovation',\n",
    " 'intensive',\n",
    " 'inter-departmental',\n",
    " 'internally',\n",
    " 'iterate',\n",
    " 'iterations',\n",
    " 'iterative',\n",
    " 'jupyterlab',\n",
    " 'labor',\n",
    " 'leverage',\n",
    " 'library',\n",
    " 'making',\n",
    " 'many',\n",
    " 'markdown',\n",
    " 'matplotlib',\n",
    " 'means',\n",
    " 'metrics',\n",
    " 'metrics.',\n",
    " 'microsoft',\n",
    " 'month',\n",
    " 'months,',\n",
    " 'multiplied,',\n",
    " 'new',\n",
    " 'next',\n",
    " 'non-technical',\n",
    " 'number',\n",
    " 'numpy',\n",
    " 'office',\n",
    " 'open',\n",
    " 'originally',\n",
    " 'outcome',\n",
    " 'overview',\n",
    " 'packages',\n",
    " 'pandas',\n",
    " 'part',\n",
    " 'pdf',\n",
    " 'performance',\n",
    " 'plots.',\n",
    " 'possible.',\n",
    " 'power',\n",
    " 'process',\n",
    " 'process.',\n",
    " 'public',\n",
    " 'pyramid',\n",
    " 'python',\n",
    " 'python.',\n",
    " 'receive',\n",
    " 'recreate',\n",
    " 'regenerate',\n",
    " 'reliability',\n",
    " 'report',\n",
    " \"report's\",\n",
    " 'report,',\n",
    " 'reports',\n",
    " 'review',\n",
    " 'rich',\n",
    " 'saved',\n",
    " 'seaborn',\n",
    " 'sections',\n",
    " 'semi-manual',\n",
    " 'services.',\n",
    " 'show',\n",
    " 'significantly',\n",
    " 'six',\n",
    " 'software',\n",
    " 'solution',\n",
    " 'source',\n",
    " 'standard',\n",
    " 'statistics',\n",
    " 'study,',\n",
    " 'style',\n",
    " 'subscribers.',\n",
    " 'subscription',\n",
    " 'subscriptions',\n",
    " 'subsequent',\n",
    " 'successfully',\n",
    " 'tables',\n",
    " 'tailored',\n",
    " 'take',\n",
    " 'tampa',\n",
    " 'team',\n",
    " 'tedious',\n",
    " 'ten',\n",
    " 'thank',\n",
    " 'three',\n",
    " 'time',\n",
    " 'tools',\n",
    " 'touching',\n",
    " 'track',\n",
    " 'tracker',\n",
    " 'transform',\n",
    " 'trigger',\n",
    " 'two',\n",
    " 'u.s.',\n",
    " 'underlying',\n",
    " 'updates',\n",
    " 'used',\n",
    " 'users',\n",
    " 'uses',\n",
    " 'using',\n",
    " 'utilities',\n",
    " 'utility',\n",
    " \"utility's\",\n",
    " 'valuable',\n",
    " 'various',\n",
    " 'visualization',\n",
    " 'web',\n",
    " 'web-based',\n",
    " 'within',\n",
    " 'without',\n",
    " 'work',\n",
    " 'years'}"
   ]
  },
  {
   "cell_type": "code",
   "execution_count": 14,
   "metadata": {},
   "outputs": [
    {
     "data": {
      "text/plain": [
       "192"
      ]
     },
     "execution_count": 14,
     "metadata": {},
     "output_type": "execute_result"
    }
   ],
   "source": [
    "len(words)"
   ]
  },
  {
   "cell_type": "code",
   "execution_count": 15,
   "metadata": {},
   "outputs": [
    {
     "data": {
      "text/plain": [
       "185"
      ]
     },
     "execution_count": 15,
     "metadata": {},
     "output_type": "execute_result"
    }
   ],
   "source": [
    "len({lemmatiser.lemmatize(word,pos=\"v\") for word in words})"
   ]
  },
  {
   "cell_type": "code",
   "execution_count": 16,
   "metadata": {},
   "outputs": [
    {
     "data": {
      "text/plain": [
       "177"
      ]
     },
     "execution_count": 16,
     "metadata": {},
     "output_type": "execute_result"
    }
   ],
   "source": [
    "len({ps.stem(word) for word in words})"
   ]
  },
  {
   "cell_type": "code",
   "execution_count": null,
   "metadata": {},
   "outputs": [],
   "source": []
  }
 ],
 "metadata": {
  "kernelspec": {
   "display_name": "Python 3 (ipykernel)",
   "language": "python",
   "name": "python3"
  },
  "language_info": {
   "codemirror_mode": {
    "name": "ipython",
    "version": 3
   },
   "file_extension": ".py",
   "mimetype": "text/x-python",
   "name": "python",
   "nbconvert_exporter": "python",
   "pygments_lexer": "ipython3",
   "version": "3.9.12"
  }
 },
 "nbformat": 4,
 "nbformat_minor": 2
}
