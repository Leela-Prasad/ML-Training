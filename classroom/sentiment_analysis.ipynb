{
 "cells": [
  {
   "cell_type": "markdown",
   "metadata": {},
   "source": [
    "# Sentiment Analysis"
   ]
  },
  {
   "cell_type": "code",
   "execution_count": 1,
   "metadata": {},
   "outputs": [
    {
     "name": "stdout",
     "output_type": "stream",
     "text": [
      "Collecting textblob\n",
      "  Downloading textblob-0.17.1-py2.py3-none-any.whl (636 kB)\n",
      "Requirement already satisfied: nltk>=3.1 in c:\\programdata\\anaconda3\\lib\\site-packages (from textblob) (3.7)\n",
      "Requirement already satisfied: regex>=2021.8.3 in c:\\programdata\\anaconda3\\lib\\site-packages (from nltk>=3.1->textblob) (2022.3.15)\n",
      "Requirement already satisfied: joblib in c:\\programdata\\anaconda3\\lib\\site-packages (from nltk>=3.1->textblob) (1.1.0)\n",
      "Requirement already satisfied: click in c:\\programdata\\anaconda3\\lib\\site-packages (from nltk>=3.1->textblob) (8.0.4)\n",
      "Requirement already satisfied: tqdm in c:\\programdata\\anaconda3\\lib\\site-packages (from nltk>=3.1->textblob) (4.64.0)\n",
      "Requirement already satisfied: colorama in c:\\programdata\\anaconda3\\lib\\site-packages (from click->nltk>=3.1->textblob) (0.4.4)\n",
      "Installing collected packages: textblob\n",
      "Successfully installed textblob-0.17.1\n"
     ]
    }
   ],
   "source": [
    "!pip install textblob"
   ]
  },
  {
   "cell_type": "code",
   "execution_count": 4,
   "metadata": {},
   "outputs": [],
   "source": [
    "import textblob"
   ]
  },
  {
   "cell_type": "code",
   "execution_count": 5,
   "metadata": {},
   "outputs": [],
   "source": [
    "sentences =[\n",
    "\n",
    "\"I think Rahul Gandhi can never become the prime minister of India\",\n",
    "\n",
    "\"Narendra Modi completed 5 years in power successfully\",\n",
    "\n",
    "\"This is the worst government our country had in the last 20 years\",\n",
    "\n",
    "\"Sun rises in the east\",\n",
    "\n",
    "\"Water is a liquid\",\n",
    "\n",
    "\"Baahubali is an extraordinay move. It has breath-taking shots, amazing graphics, wonderful music\",\n",
    "\n",
    "\"It was worst movie ever. Total waste of time and money\",\n",
    "\n",
    "\"Baahubali earned 1700 crore worldwide\"\n",
    "\n",
    "]"
   ]
  },
  {
   "cell_type": "code",
   "execution_count": 6,
   "metadata": {},
   "outputs": [
    {
     "name": "stdout",
     "output_type": "stream",
     "text": [
      "I think Rahul Gandhi can never become the prime minister of India Sentiment(polarity=0.0, subjectivity=0.0)\n",
      "Narendra Modi completed 5 years in power successfully Sentiment(polarity=0.75, subjectivity=0.95)\n",
      "This is the worst government our country had in the last 20 years Sentiment(polarity=-0.5, subjectivity=0.5333333333333333)\n",
      "Sun rises in the east Sentiment(polarity=0.0, subjectivity=0.0)\n",
      "Water is a liquid Sentiment(polarity=0.0, subjectivity=0.0)\n",
      "Baahubali is an extraordinay move. It has breath-taking shots, amazing graphics, wonderful music Sentiment(polarity=0.8, subjectivity=0.95)\n",
      "It was worst movie ever. Total waste of time and money Sentiment(polarity=-0.39999999999999997, subjectivity=0.5833333333333334)\n",
      "Baahubali earned 1700 crore worldwide Sentiment(polarity=0.0, subjectivity=0.0)\n"
     ]
    }
   ],
   "source": [
    "for x in sentences:\n",
    "    print ( x,textblob.TextBlob(x).sentiment)"
   ]
  },
  {
   "cell_type": "code",
   "execution_count": 7,
   "metadata": {},
   "outputs": [
    {
     "name": "stdout",
     "output_type": "stream",
     "text": [
      "I think Rahul Gandhi can never become the prime minister of India Neutral\n",
      "Narendra Modi completed 5 years in power successfully Positive\n",
      "This is the worst government our country had in the last 20 years Negative\n",
      "Sun rises in the east Neutral\n",
      "Water is a liquid Neutral\n",
      "Baahubali is an extraordinay move. It has breath-taking shots, amazing graphics, wonderful music Positive\n",
      "It was worst movie ever. Total waste of time and money Negative\n",
      "Baahubali earned 1700 crore worldwide Neutral\n"
     ]
    }
   ],
   "source": [
    "for x in sentences:\n",
    "    score = textblob.TextBlob(x).sentiment[0]\n",
    "    if score > 0:\n",
    "        print (x, \"Positive\")\n",
    "    elif score < 0:\n",
    "        print (x, \"Negative\")\n",
    "    else:\n",
    "        print (x, \"Neutral\")"
   ]
  },
  {
   "cell_type": "code",
   "execution_count": 9,
   "metadata": {},
   "outputs": [
    {
     "name": "stdout",
     "output_type": "stream",
     "text": [
      "I think Rahul Gandhi can never become the prime minister of India Objective\n",
      "Narendra Modi completed 5 years in power successfully Subjective\n",
      "This is the worst government our country had in the last 20 years Subjective\n",
      "Sun rises in the east Objective\n",
      "Water is a liquid Objective\n",
      "Baahubali is an extraordinay move. It has breath-taking shots, amazing graphics, wonderful music Subjective\n",
      "It was worst movie ever. Total waste of time and money Subjective\n",
      "Baahubali earned 1700 crore worldwide Objective\n"
     ]
    }
   ],
   "source": [
    "for x in sentences:\n",
    "    score = textblob.TextBlob(x).sentiment[1]\n",
    "    if score > 0.5:\n",
    "        print (x, \"Subjective\")\n",
    "    else:\n",
    "        print (x, \"Objective\")"
   ]
  },
  {
   "cell_type": "code",
   "execution_count": 10,
   "metadata": {},
   "outputs": [
    {
     "data": {
      "text/plain": [
       "-0.65"
      ]
     },
     "execution_count": 10,
     "metadata": {},
     "output_type": "execute_result"
    }
   ],
   "source": [
    "textblob.TextBlob(\"I am very sad\").sentiment[0]"
   ]
  },
  {
   "cell_type": "code",
   "execution_count": 11,
   "metadata": {},
   "outputs": [
    {
     "ename": "SyntaxError",
     "evalue": "invalid syntax (2823353904.py, line 2)",
     "output_type": "error",
     "traceback": [
      "\u001b[1;36m  Input \u001b[1;32mIn [11]\u001b[1;36m\u001b[0m\n\u001b[1;33m    positive 50%\u001b[0m\n\u001b[1;37m             ^\u001b[0m\n\u001b[1;31mSyntaxError\u001b[0m\u001b[1;31m:\u001b[0m invalid syntax\n"
     ]
    }
   ],
   "source": [
    "sentiment\n",
    "positive 50%\n",
    "negative 40%\n",
    "Neutral 10%\n",
    "\n",
    "(4,3,2)"
   ]
  },
  {
   "cell_type": "code",
   "execution_count": 12,
   "metadata": {},
   "outputs": [],
   "source": [
    "import matplotlib.pyplot as plt"
   ]
  },
  {
   "cell_type": "code",
   "execution_count": 13,
   "metadata": {},
   "outputs": [
    {
     "data": {
      "text/plain": [
       "([<matplotlib.patches.Wedge at 0x22b067e5d00>,\n",
       "  <matplotlib.patches.Wedge at 0x22b067fb220>,\n",
       "  <matplotlib.patches.Wedge at 0x22b067fb5e0>],\n",
       " [Text(6.735557395310444e-17, 1.1, 'positive'),\n",
       "  Text(-0.33991867422268845, -1.0461621742897658, 'negative'),\n",
       "  Text(1.0461621822461364, -0.3399186497354948, 'neutral')])"
      ]
     },
     "execution_count": 13,
     "metadata": {},
     "output_type": "execute_result"
    },
    {
     "data": {
      "image/png": "[encoded data removed]",
      "text/plain": [
       "<Figure size 432x288 with 1 Axes>"
      ]
     },
     "metadata": {},
     "output_type": "display_data"
    }
   ],
   "source": [
    "plt.pie([50,40,10],labels=[\"positive\",\"negative\",\"neutral\"])"
   ]
  },
  {
   "cell_type": "code",
   "execution_count": null,
   "metadata": {},
   "outputs": [],
   "source": []
  }
 ],
 "metadata": {
  "kernelspec": {
   "display_name": "Python 3 (ipykernel)",
   "language": "python",
   "name": "python3"
  },
  "language_info": {
   "codemirror_mode": {
    "name": "ipython",
    "version": 3
   },
   "file_extension": ".py",
   "mimetype": "text/x-python",
   "name": "python",
   "nbconvert_exporter": "python",
   "pygments_lexer": "ipython3",
   "version": "3.9.12"
  }
 },
 "nbformat": 4,
 "nbformat_minor": 2
}
