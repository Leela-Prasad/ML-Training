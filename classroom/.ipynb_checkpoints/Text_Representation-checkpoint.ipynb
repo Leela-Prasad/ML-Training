{
 "cells": [
  {
   "cell_type": "code",
   "execution_count": 1,
   "metadata": {},
   "outputs": [],
   "source": [
    "text = \"\"\"\n",
    "Maharashtra government has reduced the prices of petrol and diesel by Rs 5 per litre and Rs 3 per litre respectively, the state’s chief minister Eknath Shinde said on Thursday, July 13. The decision was taken during the second cabinet meeting of the new government, which was formed last month after former chief minister Uddhav Thackeray resigned. Shinde informed reporters after the cabinet meeting at Mantralaya that the decision to reduce petrol, diesel price in Maharashtra would entail a burden of Rs 6,000 crore on the state exchequer.\n",
    "\n",
    "“Maharashtra government will reduce value added tax (VAT) on petrol and diesel by Rs 5 and Rs 3 per litre respectively,\" the newly sworn-in chief minister said on the day.\n",
    "\n",
    "Following the price reduction, petrol price in Mumbai will come down to Rs 106.35 per litre, as opposed to the Rs 111.35 per litre now. Similarly, diesel price in Mumbai will be cut to Rs 94.28 per litre, down by Rs 3 from the present Rs 97.28 per litre. In Pune, petrol price will be Rs 105.88 per litre, while diesel will be priced at Rs 92.37 for one litre. The price of one litre of petrol in Thane will come down to Rs 106.49 after the new rates are implemented. Diesel price in Thane will be reduced to Rs 94.42 per litre.\n",
    "\"\"\""
   ]
  },
  {
   "cell_type": "code",
   "execution_count": 2,
   "metadata": {},
   "outputs": [
    {
     "data": {
      "text/plain": [
       "1247"
      ]
     },
     "execution_count": 2,
     "metadata": {},
     "output_type": "execute_result"
    }
   ],
   "source": [
    "len(text)"
   ]
  },
  {
   "cell_type": "code",
   "execution_count": 3,
   "metadata": {},
   "outputs": [],
   "source": [
    "# tokenize a sentence"
   ]
  },
  {
   "cell_type": "code",
   "execution_count": 4,
   "metadata": {},
   "outputs": [
    {
     "data": {
      "text/plain": [
       "['Maharashtra',\n",
       " 'government',\n",
       " 'has',\n",
       " 'reduced',\n",
       " 'the',\n",
       " 'prices',\n",
       " 'of',\n",
       " 'petrol',\n",
       " 'and',\n",
       " 'diesel',\n",
       " 'by',\n",
       " 'Rs',\n",
       " '5',\n",
       " 'per',\n",
       " 'litre',\n",
       " 'and',\n",
       " 'Rs',\n",
       " '3',\n",
       " 'per',\n",
       " 'litre',\n",
       " 'respectively,',\n",
       " 'the',\n",
       " 'state’s',\n",
       " 'chief',\n",
       " 'minister',\n",
       " 'Eknath',\n",
       " 'Shinde',\n",
       " 'said',\n",
       " 'on',\n",
       " 'Thursday,',\n",
       " 'July',\n",
       " '13.',\n",
       " 'The',\n",
       " 'decision',\n",
       " 'was',\n",
       " 'taken',\n",
       " 'during',\n",
       " 'the',\n",
       " 'second',\n",
       " 'cabinet',\n",
       " 'meeting',\n",
       " 'of',\n",
       " 'the',\n",
       " 'new',\n",
       " 'government,',\n",
       " 'which',\n",
       " 'was',\n",
       " 'formed',\n",
       " 'last',\n",
       " 'month',\n",
       " 'after',\n",
       " 'former',\n",
       " 'chief',\n",
       " 'minister',\n",
       " 'Uddhav',\n",
       " 'Thackeray',\n",
       " 'resigned.',\n",
       " 'Shinde',\n",
       " 'informed',\n",
       " 'reporters',\n",
       " 'after',\n",
       " 'the',\n",
       " 'cabinet',\n",
       " 'meeting',\n",
       " 'at',\n",
       " 'Mantralaya',\n",
       " 'that',\n",
       " 'the',\n",
       " 'decision',\n",
       " 'to',\n",
       " 'reduce',\n",
       " 'petrol,',\n",
       " 'diesel',\n",
       " 'price',\n",
       " 'in',\n",
       " 'Maharashtra',\n",
       " 'would',\n",
       " 'entail',\n",
       " 'a',\n",
       " 'burden',\n",
       " 'of',\n",
       " 'Rs',\n",
       " '6,000',\n",
       " 'crore',\n",
       " 'on',\n",
       " 'the',\n",
       " 'state',\n",
       " 'exchequer.',\n",
       " '“Maharashtra',\n",
       " 'government',\n",
       " 'will',\n",
       " 'reduce',\n",
       " 'value',\n",
       " 'added',\n",
       " 'tax',\n",
       " '(VAT)',\n",
       " 'on',\n",
       " 'petrol',\n",
       " 'and',\n",
       " 'diesel',\n",
       " 'by',\n",
       " 'Rs',\n",
       " '5',\n",
       " 'and',\n",
       " 'Rs',\n",
       " '3',\n",
       " 'per',\n",
       " 'litre',\n",
       " 'respectively,\"',\n",
       " 'the',\n",
       " 'newly',\n",
       " 'sworn-in',\n",
       " 'chief',\n",
       " 'minister',\n",
       " 'said',\n",
       " 'on',\n",
       " 'the',\n",
       " 'day.',\n",
       " 'Following',\n",
       " 'the',\n",
       " 'price',\n",
       " 'reduction,',\n",
       " 'petrol',\n",
       " 'price',\n",
       " 'in',\n",
       " 'Mumbai',\n",
       " 'will',\n",
       " 'come',\n",
       " 'down',\n",
       " 'to',\n",
       " 'Rs',\n",
       " '106.35',\n",
       " 'per',\n",
       " 'litre,',\n",
       " 'as',\n",
       " 'opposed',\n",
       " 'to',\n",
       " 'the',\n",
       " 'Rs',\n",
       " '111.35',\n",
       " 'per',\n",
       " 'litre',\n",
       " 'now.',\n",
       " 'Similarly,',\n",
       " 'diesel',\n",
       " 'price',\n",
       " 'in',\n",
       " 'Mumbai',\n",
       " 'will',\n",
       " 'be',\n",
       " 'cut',\n",
       " 'to',\n",
       " 'Rs',\n",
       " '94.28',\n",
       " 'per',\n",
       " 'litre,',\n",
       " 'down',\n",
       " 'by',\n",
       " 'Rs',\n",
       " '3',\n",
       " 'from',\n",
       " 'the',\n",
       " 'present',\n",
       " 'Rs',\n",
       " '97.28',\n",
       " 'per',\n",
       " 'litre.',\n",
       " 'In',\n",
       " 'Pune,',\n",
       " 'petrol',\n",
       " 'price',\n",
       " 'will',\n",
       " 'be',\n",
       " 'Rs',\n",
       " '105.88',\n",
       " 'per',\n",
       " 'litre,',\n",
       " 'while',\n",
       " 'diesel',\n",
       " 'will',\n",
       " 'be',\n",
       " 'priced',\n",
       " 'at',\n",
       " 'Rs',\n",
       " '92.37',\n",
       " 'for',\n",
       " 'one',\n",
       " 'litre.',\n",
       " 'The',\n",
       " 'price',\n",
       " 'of',\n",
       " 'one',\n",
       " 'litre',\n",
       " 'of',\n",
       " 'petrol',\n",
       " 'in',\n",
       " 'Thane',\n",
       " 'will',\n",
       " 'come',\n",
       " 'down',\n",
       " 'to',\n",
       " 'Rs',\n",
       " '106.49',\n",
       " 'after',\n",
       " 'the',\n",
       " 'new',\n",
       " 'rates',\n",
       " 'are',\n",
       " 'implemented.',\n",
       " 'Diesel',\n",
       " 'price',\n",
       " 'in',\n",
       " 'Thane',\n",
       " 'will',\n",
       " 'be',\n",
       " 'reduced',\n",
       " 'to',\n",
       " 'Rs',\n",
       " '94.42',\n",
       " 'per',\n",
       " 'litre.']"
      ]
     },
     "execution_count": 4,
     "metadata": {},
     "output_type": "execute_result"
    }
   ],
   "source": [
    "text.split()"
   ]
  },
  {
   "cell_type": "code",
   "execution_count": 5,
   "metadata": {},
   "outputs": [],
   "source": [
    "words = text.split()"
   ]
  },
  {
   "cell_type": "code",
   "execution_count": 6,
   "metadata": {},
   "outputs": [
    {
     "data": {
      "text/plain": [
       "221"
      ]
     },
     "execution_count": 6,
     "metadata": {},
     "output_type": "execute_result"
    }
   ],
   "source": [
    "len(words)"
   ]
  },
  {
   "cell_type": "code",
   "execution_count": 7,
   "metadata": {},
   "outputs": [
    {
     "data": {
      "text/plain": [
       "108"
      ]
     },
     "execution_count": 7,
     "metadata": {},
     "output_type": "execute_result"
    }
   ],
   "source": [
    "len(set(words)) # unique words"
   ]
  },
  {
   "cell_type": "code",
   "execution_count": 8,
   "metadata": {},
   "outputs": [
    {
     "data": {
      "text/plain": [
       "105"
      ]
     },
     "execution_count": 8,
     "metadata": {},
     "output_type": "execute_result"
    }
   ],
   "source": [
    "len(set(text.lower().split())) # number of unique words after lower casing"
   ]
  },
  {
   "cell_type": "code",
   "execution_count": 9,
   "metadata": {},
   "outputs": [],
   "source": [
    "unique_words = set(text.lower().split())"
   ]
  },
  {
   "cell_type": "code",
   "execution_count": 10,
   "metadata": {},
   "outputs": [
    {
     "name": "stdout",
     "output_type": "stream",
     "text": [
      "1 value\n",
      "9 price\n",
      "1 while\n",
      "1 that\n",
      "1 exchequer.\n",
      "2 said\n",
      "1 prices\n",
      "11 litre\n",
      "1 government,\n",
      "1 mantralaya\n",
      "1 has\n",
      "1 reduction,\n",
      "4 reduce\n",
      "1 last\n",
      "1 implemented.\n",
      "1 94.42\n",
      "6 petrol\n",
      "1 second\n",
      "1 month\n",
      "1 newly\n",
      "19 in\n",
      "2 shinde\n",
      "3 down\n",
      "1 taken\n",
      "1 added\n",
      "1 which\n",
      "1 now.\n",
      "9 per\n",
      "2 cabinet\n",
      "1 sworn-in\n",
      "1 informed\n",
      "1 pune,\n",
      "1 “maharashtra\n",
      "1 tax\n",
      "1 following\n",
      "2 state\n",
      "1 97.28\n",
      "3 maharashtra\n",
      "4 and\n",
      "8 at\n",
      "1 thursday,\n",
      "2 was\n",
      "2 mumbai\n",
      "5 5\n",
      "1 106.35\n",
      "2 formed\n",
      "2 thane\n",
      "2 meeting\n",
      "2 decision\n",
      "1 opposed\n",
      "1 july\n",
      "6 diesel\n",
      "1 cut\n",
      "1 thackeray\n",
      "2 come\n",
      "4 be\n",
      "57 a\n",
      "3 chief\n",
      "1 state’s\n",
      "15 the\n",
      "1 105.88\n",
      "1 similarly,\n",
      "1 crore\n",
      "2 respectively,\n",
      "16 rs\n",
      "1 6,000\n",
      "1 former\n",
      "11 on\n",
      "1 13.\n",
      "1 reporters\n",
      "1 are\n",
      "2 one\n",
      "1 rates\n",
      "3 litre,\n",
      "2 reduced\n",
      "1 94.28\n",
      "4 for\n",
      "1 during\n",
      "3 minister\n",
      "6 to\n",
      "1 priced\n",
      "3 government\n",
      "1 burden\n",
      "1 (vat)\n",
      "3 after\n",
      "1 111.35\n",
      "1 resigned.\n",
      "1 would\n",
      "7 will\n",
      "1 respectively,\"\n",
      "3 litre.\n",
      "1 uddhav\n",
      "8 as\n",
      "7 3\n",
      "1 eknath\n",
      "1 entail\n",
      "5 of\n",
      "3 new\n",
      "1 petrol,\n",
      "1 from\n",
      "1 present\n",
      "1 day.\n",
      "1 92.37\n",
      "1 106.49\n",
      "3 by\n"
     ]
    }
   ],
   "source": [
    "for word in unique_words:\n",
    "    print(text.lower().count(word),word)"
   ]
  },
  {
   "cell_type": "code",
   "execution_count": 11,
   "metadata": {},
   "outputs": [],
   "source": [
    "# bag of words\n",
    "data = {}\n",
    "for word in unique_words:\n",
    "    data[word] = text.lower().count(word)"
   ]
  },
  {
   "cell_type": "code",
   "execution_count": 12,
   "metadata": {},
   "outputs": [
    {
     "data": {
      "text/plain": [
       "{'value': 1,\n",
       " 'price': 9,\n",
       " 'while': 1,\n",
       " 'that': 1,\n",
       " 'exchequer.': 1,\n",
       " 'said': 2,\n",
       " 'prices': 1,\n",
       " 'litre': 11,\n",
       " 'government,': 1,\n",
       " 'mantralaya': 1,\n",
       " 'has': 1,\n",
       " 'reduction,': 1,\n",
       " 'reduce': 4,\n",
       " 'last': 1,\n",
       " 'implemented.': 1,\n",
       " '94.42': 1,\n",
       " 'petrol': 6,\n",
       " 'second': 1,\n",
       " 'month': 1,\n",
       " 'newly': 1,\n",
       " 'in': 19,\n",
       " 'shinde': 2,\n",
       " 'down': 3,\n",
       " 'taken': 1,\n",
       " 'added': 1,\n",
       " 'which': 1,\n",
       " 'now.': 1,\n",
       " 'per': 9,\n",
       " 'cabinet': 2,\n",
       " 'sworn-in': 1,\n",
       " 'informed': 1,\n",
       " 'pune,': 1,\n",
       " '“maharashtra': 1,\n",
       " 'tax': 1,\n",
       " 'following': 1,\n",
       " 'state': 2,\n",
       " '97.28': 1,\n",
       " 'maharashtra': 3,\n",
       " 'and': 4,\n",
       " 'at': 8,\n",
       " 'thursday,': 1,\n",
       " 'was': 2,\n",
       " 'mumbai': 2,\n",
       " '5': 5,\n",
       " '106.35': 1,\n",
       " 'formed': 2,\n",
       " 'thane': 2,\n",
       " 'meeting': 2,\n",
       " 'decision': 2,\n",
       " 'opposed': 1,\n",
       " 'july': 1,\n",
       " 'diesel': 6,\n",
       " 'cut': 1,\n",
       " 'thackeray': 1,\n",
       " 'come': 2,\n",
       " 'be': 4,\n",
       " 'a': 57,\n",
       " 'chief': 3,\n",
       " 'state’s': 1,\n",
       " 'the': 15,\n",
       " '105.88': 1,\n",
       " 'similarly,': 1,\n",
       " 'crore': 1,\n",
       " 'respectively,': 2,\n",
       " 'rs': 16,\n",
       " '6,000': 1,\n",
       " 'former': 1,\n",
       " 'on': 11,\n",
       " '13.': 1,\n",
       " 'reporters': 1,\n",
       " 'are': 1,\n",
       " 'one': 2,\n",
       " 'rates': 1,\n",
       " 'litre,': 3,\n",
       " 'reduced': 2,\n",
       " '94.28': 1,\n",
       " 'for': 4,\n",
       " 'during': 1,\n",
       " 'minister': 3,\n",
       " 'to': 6,\n",
       " 'priced': 1,\n",
       " 'government': 3,\n",
       " 'burden': 1,\n",
       " '(vat)': 1,\n",
       " 'after': 3,\n",
       " '111.35': 1,\n",
       " 'resigned.': 1,\n",
       " 'would': 1,\n",
       " 'will': 7,\n",
       " 'respectively,\"': 1,\n",
       " 'litre.': 3,\n",
       " 'uddhav': 1,\n",
       " 'as': 8,\n",
       " '3': 7,\n",
       " 'eknath': 1,\n",
       " 'entail': 1,\n",
       " 'of': 5,\n",
       " 'new': 3,\n",
       " 'petrol,': 1,\n",
       " 'from': 1,\n",
       " 'present': 1,\n",
       " 'day.': 1,\n",
       " '92.37': 1,\n",
       " '106.49': 1,\n",
       " 'by': 3}"
      ]
     },
     "execution_count": 12,
     "metadata": {},
     "output_type": "execute_result"
    }
   ],
   "source": [
    "data"
   ]
  },
  {
   "cell_type": "code",
   "execution_count": 13,
   "metadata": {},
   "outputs": [],
   "source": [
    "text1 = \"hello how are you\"\n",
    "text2 = \"how are you doing\"\n",
    "text3 = \"what are you doing\""
   ]
  },
  {
   "cell_type": "code",
   "execution_count": 14,
   "metadata": {},
   "outputs": [],
   "source": [
    "words = set()"
   ]
  },
  {
   "cell_type": "code",
   "execution_count": 15,
   "metadata": {},
   "outputs": [],
   "source": [
    "for text in text1,text2,text3:\n",
    "    for word in text.split():\n",
    "        words.add(word)"
   ]
  },
  {
   "cell_type": "code",
   "execution_count": 16,
   "metadata": {},
   "outputs": [],
   "source": [
    "words = {word:[] for word in words}"
   ]
  },
  {
   "cell_type": "code",
   "execution_count": 17,
   "metadata": {},
   "outputs": [
    {
     "data": {
      "text/plain": [
       "{'what': [], 'doing': [], 'how': [], 'you': [], 'are': [], 'hello': []}"
      ]
     },
     "execution_count": 17,
     "metadata": {},
     "output_type": "execute_result"
    }
   ],
   "source": [
    "words"
   ]
  },
  {
   "cell_type": "code",
   "execution_count": 18,
   "metadata": {},
   "outputs": [],
   "source": [
    "for word in words:\n",
    "    for text in text1, text2, text3:\n",
    "        words[word].append(int(word in text))"
   ]
  },
  {
   "cell_type": "code",
   "execution_count": 19,
   "metadata": {},
   "outputs": [
    {
     "data": {
      "text/plain": [
       "{'what': [0, 0, 1],\n",
       " 'doing': [0, 1, 1],\n",
       " 'how': [1, 1, 0],\n",
       " 'you': [1, 1, 1],\n",
       " 'are': [1, 1, 1],\n",
       " 'hello': [1, 0, 0]}"
      ]
     },
     "execution_count": 19,
     "metadata": {},
     "output_type": "execute_result"
    }
   ],
   "source": [
    "words"
   ]
  },
  {
   "cell_type": "code",
   "execution_count": 20,
   "metadata": {},
   "outputs": [],
   "source": [
    "import pandas as pd"
   ]
  },
  {
   "cell_type": "code",
   "execution_count": 21,
   "metadata": {},
   "outputs": [],
   "source": [
    "worddf=pd.DataFrame(words)"
   ]
  },
  {
   "cell_type": "code",
   "execution_count": 22,
   "metadata": {},
   "outputs": [
    {
     "data": {
      "text/html": [
       "<div>\n",
       "<style scoped>\n",
       "    .dataframe tbody tr th:only-of-type {\n",
       "        vertical-align: middle;\n",
       "    }\n",
       "\n",
       "    .dataframe tbody tr th {\n",
       "        vertical-align: top;\n",
       "    }\n",
       "\n",
       "    .dataframe thead th {\n",
       "        text-align: right;\n",
       "    }\n",
       "</style>\n",
       "<table border=\"1\" class=\"dataframe\">\n",
       "  <thead>\n",
       "    <tr style=\"text-align: right;\">\n",
       "      <th></th>\n",
       "      <th>what</th>\n",
       "      <th>doing</th>\n",
       "      <th>how</th>\n",
       "      <th>you</th>\n",
       "      <th>are</th>\n",
       "      <th>hello</th>\n",
       "    </tr>\n",
       "  </thead>\n",
       "  <tbody>\n",
       "    <tr>\n",
       "      <th>0</th>\n",
       "      <td>0</td>\n",
       "      <td>0</td>\n",
       "      <td>1</td>\n",
       "      <td>1</td>\n",
       "      <td>1</td>\n",
       "      <td>1</td>\n",
       "    </tr>\n",
       "    <tr>\n",
       "      <th>1</th>\n",
       "      <td>0</td>\n",
       "      <td>1</td>\n",
       "      <td>1</td>\n",
       "      <td>1</td>\n",
       "      <td>1</td>\n",
       "      <td>0</td>\n",
       "    </tr>\n",
       "    <tr>\n",
       "      <th>2</th>\n",
       "      <td>1</td>\n",
       "      <td>1</td>\n",
       "      <td>0</td>\n",
       "      <td>1</td>\n",
       "      <td>1</td>\n",
       "      <td>0</td>\n",
       "    </tr>\n",
       "  </tbody>\n",
       "</table>\n",
       "</div>"
      ],
      "text/plain": [
       "   what  doing  how  you  are  hello\n",
       "0     0      0    1    1    1      1\n",
       "1     0      1    1    1    1      0\n",
       "2     1      1    0    1    1      0"
      ]
     },
     "execution_count": 22,
     "metadata": {},
     "output_type": "execute_result"
    }
   ],
   "source": [
    "worddf.head()"
   ]
  },
  {
   "cell_type": "code",
   "execution_count": null,
   "metadata": {},
   "outputs": [],
   "source": []
  }
 ],
 "metadata": {
  "kernelspec": {
   "display_name": "Python 3 (ipykernel)",
   "language": "python",
   "name": "python3"
  },
  "language_info": {
   "codemirror_mode": {
    "name": "ipython",
    "version": 3
   },
   "file_extension": ".py",
   "mimetype": "text/x-python",
   "name": "python",
   "nbconvert_exporter": "python",
   "pygments_lexer": "ipython3",
   "version": "3.9.12"
  }
 },
 "nbformat": 4,
 "nbformat_minor": 4
}
