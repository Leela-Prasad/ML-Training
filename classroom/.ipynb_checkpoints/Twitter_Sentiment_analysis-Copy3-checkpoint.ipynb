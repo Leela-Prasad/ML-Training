{
 "cells": [
  {
   "cell_type": "code",
   "execution_count": null,
   "metadata": {},
   "outputs": [],
   "source": [
    "!pip install tweeepy\n",
    "!pip install textblob"
   ]
  },
  {
   "cell_type": "code",
   "execution_count": 1,
   "metadata": {},
   "outputs": [
    {
     "name": "stdout",
     "output_type": "stream",
     "text": [
      "['4', '2', '0']\n",
      "['good', 'good']\n",
      "['hi']\n",
      "[]\n",
      "<re.Match object; span=(0, 2), match='hi'>\n",
      "None\n",
      "[]\n",
      "['now']\n",
      " My ATM pin is ****\n",
      " *y *** pin is 3409\n",
      "(15, 19)\n",
      "3409\n"
     ]
    }
   ],
   "source": [
    "import pandas as pd\n",
    "import tweepy\n",
    "import sys \n",
    "import re\n",
    "from nltk.stem import WordNetLemmatizer\n",
    "from nltk.stem import PorterStemmer\n",
    "from nltk.corpus import stopwords\n",
    "from nltk.tokenize import word_tokenize\n",
    "import textblob"
   ]
  },
  {
   "cell_type": "code",
   "execution_count": 2,
   "metadata": {},
   "outputs": [
    {
     "name": "stdout",
     "output_type": "stream",
     "text": [
      "Please Enter The Search Term: Bank of America\n"
     ]
    }
   ],
   "source": [
    "search_term = input(\"Please Enter The Search Term: \")"
   ]
  },
  {
   "cell_type": "code",
   "execution_count": 3,
   "metadata": {},
   "outputs": [],
   "source": [
    "#Authentication of Tweepy \n",
    "\n",
    "twitter_keys = {\n",
    "        'consumer_key':'VZCn6WfELs',\n",
    "        'consumer_secret':'FyoarNgGNyJXj8RczSn',\n",
    "        'access_token_key':'3290363hjqKS5kh2p',\n",
    "        'access_token_secret':'wqHVYvAiqRQ7'\n",
    "    }\n",
    "#Setup access to API\n",
    "auth = tweepy.OAuthHandler(twitter_keys['consumer_key'], twitter_keys['consumer_secret'])\n",
    "auth.set_access_token(twitter_keys['access_token_key'], twitter_keys['access_token_secret'])"
   ]
  },
  {
   "cell_type": "code",
   "execution_count": 4,
   "metadata": {},
   "outputs": [],
   "source": [
    "api = tweepy.API(auth)\n",
    "\n",
    "#public_tweets = api.home_timeline()\n",
    "#for tweet in public_tweets:\n",
    "#    print(tweet.text)"
   ]
  },
  {
   "cell_type": "code",
   "execution_count": 5,
   "metadata": {},
   "outputs": [],
   "source": [
    "#search_term = \"Bank of America\"\n",
    "tweets = api.search(q = search_term, lang=\"en\", count=200,tweet_mode = \"extended\" )"
   ]
  },
  {
   "cell_type": "code",
   "execution_count": 6,
   "metadata": {},
   "outputs": [],
   "source": [
    "tweet_text = [tweet.full_text for tweet in tweets]"
   ]
  },
  {
   "cell_type": "code",
   "execution_count": 7,
   "metadata": {},
   "outputs": [],
   "source": [
    "#replacement patters to normalize text\n",
    "\n",
    "replacement_patterns = [\n",
    "     (r'won\\'t', 'will not'),\n",
    "    \n",
    "(r'can\\'t', 'cannot'),\n",
    "    \n",
    "(r'i\\'m', 'i am'),\n",
    "    \n",
    "(r'ain\\'t', 'is not'),\n",
    "    \n",
    "(r'(\\w+)\\'ll', '\\g<1> will'),\n",
    "    \n",
    "(r'(\\w+)n\\'t', '\\g<1> not'),\n",
    "    \n",
    "(r'(\\w+)\\'ve', '\\g<1> have'),\n",
    "    \n",
    "(r'(\\w+)\\'s', '\\g<1> is'),\n",
    "    \n",
    "(r'(\\w+)\\'re', '\\g<1> are'),\n",
    "    \n",
    "(r'(\\w+)\\'d', '\\g<1> would')\n",
    "\n",
    "]"
   ]
  },
  {
   "cell_type": "code",
   "execution_count": 8,
   "metadata": {},
   "outputs": [],
   "source": [
    "#Normalizing the Text\n",
    "normalized_tweet_text = []\n",
    "#converting into lower case \n",
    "tweet_text = [line.lower() for line in tweet_text]\n",
    "#Using regex to clean the data\n",
    "for tweet in tweet_text:\n",
    "    #Removing rt from the text\n",
    "    tweet = re.sub(r'^rt',\"\", tweet)\n",
    "    tweet = re.sub(r'@\\w*',\"\", tweet)\n",
    "    tweet = re.sub(r':',\"\", tweet)\n",
    "    tweet = re.sub(r'&amp',\"\" , tweet)\n",
    "    tweet = re.sub(r\"http\\S+\", \"\", tweet)\n",
    "    for pattern,substitute in replacement_patterns:\n",
    "        tweet = re.sub(pattern,substitute,tweet)\n",
    "    tweet = re.sub(r'\\W', ' ',tweet)\n",
    "    tweet = re.sub(' +', ' ', tweet)\n",
    "    #print(tweet)\n",
    "    normalized_tweet_text.append(tweet)"
   ]
  },
  {
   "cell_type": "code",
   "execution_count": null,
   "metadata": {},
   "outputs": [],
   "source": []
  },
  {
   "cell_type": "code",
   "execution_count": 9,
   "metadata": {},
   "outputs": [],
   "source": [
    "#Stemming the Text\n",
    "ps = PorterStemmer()\n",
    "stemmed_tweet_text = []\n",
    "for tweet in normalized_tweet_text:\n",
    "    stemmed_tweet_text.append([ps.stem(word) for word in tweet.split(\" \")])\n",
    "#print(stemmed_tweet_text)"
   ]
  },
  {
   "cell_type": "code",
   "execution_count": 10,
   "metadata": {},
   "outputs": [],
   "source": [
    "#Removing Stop Words\n",
    "stop_words = set(stopwords.words('english'))\n",
    "cleaned_tweet_text = []\n",
    "for tweet in stemmed_tweet_text:\n",
    "    filtered_tweet = []\n",
    "    for w in tweet:\n",
    "        if w not in stop_words:\n",
    "            filtered_tweet.append(w)\n",
    "    cleaned_tweet_text.append(filtered_tweet)\n",
    "#print(cleaned_tweet_text)"
   ]
  },
  {
   "cell_type": "code",
   "execution_count": 11,
   "metadata": {},
   "outputs": [],
   "source": [
    "#convert the list into string \n",
    "final_tweet = []\n",
    "for x in cleaned_tweet_text:\n",
    "    stri = \" \".join(x)\n",
    "    #print(stri)\n",
    "    final_tweet.append(stri)\n",
    "#print(final_tweet)"
   ]
  },
  {
   "cell_type": "code",
   "execution_count": 12,
   "metadata": {},
   "outputs": [
    {
     "name": "stdout",
     "output_type": "stream",
     "text": [
      "Total Positive Tweets are:  22.35294117647059 %\n",
      "Total Negative Tweets are:  61.1764705882353 %\n"
     ]
    }
   ],
   "source": [
    "#Getting Sentiment of Text\n",
    "positive = []\n",
    "negative = []\n",
    "#print(len(final_tweet))\n",
    "for x in final_tweet:\n",
    "    #print (x,textblob.TextBlob(x).sentiment.polarity)\n",
    "    if textblob.TextBlob(x).sentiment.polarity > 0:\n",
    "        #print(\"Positive\", x)\n",
    "        positive.append(x)\n",
    "    elif textblob.TextBlob(x).sentiment.polarity < 0:\n",
    "        #print(\"Negative\" , x)\n",
    "        negative.append(x)\n",
    "\n",
    "        \n",
    "        \n",
    "print(\"Total Positive Tweets are: \", (len(positive)/len(final_tweet))*100 , \"%\" )\n",
    "print(\"Total Negative Tweets are: \", (len(negative)/len(final_tweet))*100, \"%\")\n"
   ]
  },
  {
   "cell_type": "code",
   "execution_count": 13,
   "metadata": {},
   "outputs": [
    {
     "data": {
      "text/plain": [
       "['bank of america slashes s&amp;p 500 target, sees stocks falling another 5% by year-end: strategist savita subramanian dropped her target for the s&amp;p 500 to 3,600 from 4,500. https://t.co/uzm29o6buq https://t.co/juh0j41b9d',\n",
       " 'rt @bankbetterguy: bank of america has the balls to say  that the issues that their debit cards have in california are possibly leading to…',\n",
       " 'bank of america slashes s&amp;p 500 target, sees stocks falling another 5% by year-end https://t.co/fg0e0eswdd',\n",
       " \"rt @cnbc: bank of america says u.s. will fall into 'mild recession' this year, unemployment to 4.6% in 2023 https://t.co/drvki8gz39\",\n",
       " 'rt @squawkcnbc: happening now:\\n-bank of america cuts s&amp;p 500 year end target to street low\\n-$tsm beats profit, revenue estimates\\n-$dg share…',\n",
       " \"rt @marshablackburn: biden's reckless policies are destroying our economy.\\n \\nbank of america analysts say that a severe recession will be n…\",\n",
       " 'unboxing bank of america alaska airlines credit card: card art, sign up bonus &amp; welcome letter - https://t.co/notqgaxu28',\n",
       " \"rt @marshablackburn: biden's reckless policies are destroying our economy.\\n \\nbank of america analysts say that a severe recession will be n…\",\n",
       " \"rt @marshablackburn: biden's reckless policies are destroying our economy.\\n \\nbank of america analysts say that a severe recession will be n…\",\n",
       " \"rt @marshablackburn: biden's reckless policies are destroying our economy.\\n \\nbank of america analysts say that a severe recession will be n…\",\n",
       " \"rt @marshablackburn: biden's reckless policies are destroying our economy.\\n \\nbank of america analysts say that a severe recession will be n…\",\n",
       " \"rt @marshablackburn: biden's reckless policies are destroying our economy.\\n \\nbank of america analysts say that a severe recession will be n…\",\n",
       " \"rt @marshablackburn: biden's reckless policies are destroying our economy.\\n \\nbank of america analysts say that a severe recession will be n…\",\n",
       " \"rt @marshablackburn: biden's reckless policies are destroying our economy.\\n \\nbank of america analysts say that a severe recession will be n…\",\n",
       " \"rt @marshablackburn: biden's reckless policies are destroying our economy.\\n \\nbank of america analysts say that a severe recession will be n…\",\n",
       " \"rt @marshablackburn: biden's reckless policies are destroying our economy.\\n \\nbank of america analysts say that a severe recession will be n…\",\n",
       " \"rt @marshablackburn: biden's reckless policies are destroying our economy.\\n \\nbank of america analysts say that a severe recession will be n…\",\n",
       " \"rt @marshablackburn: biden's reckless policies are destroying our economy.\\n \\nbank of america analysts say that a severe recession will be n…\",\n",
       " 'rt @openoutcrier: bank of america cuts s&amp;p 500 price target by 20% to a new street-low - si\\n\\nhttps://t.co/53k1jlnvop',\n",
       " \"rt @marshablackburn: biden's reckless policies are destroying our economy.\\n \\nbank of america analysts say that a severe recession will be n…\",\n",
       " \"rt @marshablackburn: biden's reckless policies are destroying our economy.\\n \\nbank of america analysts say that a severe recession will be n…\",\n",
       " \"rt @marshablackburn: biden's reckless policies are destroying our economy.\\n \\nbank of america analysts say that a severe recession will be n…\",\n",
       " '@marshablackburn why do you lie?  why don’t my fellow tennesseans expect better from their senator? https://t.co/hkchnqyfmg',\n",
       " \"rt @marshablackburn: biden's reckless policies are destroying our economy.\\n \\nbank of america analysts say that a severe recession will be n…\",\n",
       " 'rt @java_jigga: damn they suckin dick at bank of america https://t.co/gwwqp7acnz',\n",
       " \"rt @marshablackburn: biden's reckless policies are destroying our economy.\\n \\nbank of america analysts say that a severe recession will be n…\",\n",
       " \"rt @marshablackburn: biden's reckless policies are destroying our economy.\\n \\nbank of america analysts say that a severe recession will be n…\",\n",
       " \"rt @marshablackburn: biden's reckless policies are destroying our economy.\\n \\nbank of america analysts say that a severe recession will be n…\",\n",
       " \"rt @marshablackburn: biden's reckless policies are destroying our economy.\\n \\nbank of america analysts say that a severe recession will be n…\",\n",
       " \"rt @marshablackburn: biden's reckless policies are destroying our economy.\\n \\nbank of america analysts say that a severe recession will be n…\",\n",
       " 'rt @breitbartnews: bank of america has downgraded its expectations for the economy this year to include a “mild recession.” https://t.co/u2…',\n",
       " \"just in: in light of the increased likelihood of a recession, america's largest bank, jpmorgan chase &amp; co.,  @jpmorgan  reported a decline in second-quarter profit on thursday. #jpmorgan #recession https://t.co/m0o4cyzvty\",\n",
       " 'rt @cnbcpro: bank of america slashes s&amp;p 500 target, sees stocks falling another 5% by year-end https://t.co/iul745vgoz',\n",
       " \"rt @marshablackburn: biden's reckless policies are destroying our economy.\\n \\nbank of america analysts say that a severe recession will be n…\",\n",
       " \"rt @marshablackburn: biden's reckless policies are destroying our economy.\\n \\nbank of america analysts say that a severe recession will be n…\",\n",
       " \"rt @marshablackburn: biden's reckless policies are destroying our economy.\\n \\nbank of america analysts say that a severe recession will be n…\",\n",
       " 'rt @stockswingalert: $spy bank of america cuts s&amp;p 500 price target by 20% to a new street-low.\\n\\nyear end price target of $360.\\U0001fa78',\n",
       " \"rt @marshablackburn: biden's reckless policies are destroying our economy.\\n \\nbank of america analysts say that a severe recession will be n…\",\n",
       " \"rt @marshablackburn: biden's reckless policies are destroying our economy.\\n \\nbank of america analysts say that a severe recession will be n…\",\n",
       " \"rt @marshablackburn: biden's reckless policies are destroying our economy.\\n \\nbank of america analysts say that a severe recession will be n…\",\n",
       " 'rt @magusfirebeard: @moatsad71 its... more noticeable in the game industry than in other tech outside of startups. (startups are usually ab…',\n",
       " \"rt @marshablackburn: biden's reckless policies are destroying our economy.\\n \\nbank of america analysts say that a severe recession will be n…\",\n",
       " \"rt @marshablackburn: biden's reckless policies are destroying our economy.\\n \\nbank of america analysts say that a severe recession will be n…\",\n",
       " 'daily almanac for july 14 at bank of america stadium (https://t.co/jjvp17vmvl) https://t.co/fm2g1fovoc',\n",
       " \"rt @marshablackburn: biden's reckless policies are destroying our economy.\\n \\nbank of america analysts say that a severe recession will be n…\",\n",
       " \"rt @marshablackburn: biden's reckless policies are destroying our economy.\\n \\nbank of america analysts say that a severe recession will be n…\",\n",
       " \"rt @marshablackburn: biden's reckless policies are destroying our economy.\\n \\nbank of america analysts say that a severe recession will be n…\",\n",
       " 'rt @stockswingalert: $spy bank of america cuts s&amp;p 500 price target by 20% to a new street-low.\\n\\nyear end price target of $360.\\U0001fa78',\n",
       " 'boa sees stocks falling by year end #fintwit #premarketmovers #financetwitter https://t.co/g4ykrklyle',\n",
       " \"rt @marshablackburn: biden's reckless policies are destroying our economy.\\n \\nbank of america analysts say that a severe recession will be n…\",\n",
       " 'rt @openoutcrier: bank of america cuts s&amp;p 500 price target by 20% to a new street-low - si\\n\\nhttps://t.co/53k1jlnvop',\n",
       " \"rt @marshablackburn: biden's reckless policies are destroying our economy.\\n \\nbank of america analysts say that a severe recession will be n…\",\n",
       " \"rt @marshablackburn: biden's reckless policies are destroying our economy.\\n \\nbank of america analysts say that a severe recession will be n…\",\n",
       " '- bank of america cuts s&amp;p 500 price target by 20% to a new street-low https://t.co/ga9yqlijrk',\n",
       " 'bank of america cuts s&amp;p 500 price target by 20% to a new street low \\n\\nhttps://t.co/psnqnkuhxx',\n",
       " 'rt @stockswingalert: $spy bank of america cuts s&amp;p 500 price target by 20% to a new street-low.\\n\\nyear end price target of $360.\\U0001fa78',\n",
       " 'bank of america cuts s&amp;p 500 price target by 20% to a new street-low - si\\n\\nhttps://t.co/53k1jlnvop',\n",
       " \"rt @marshablackburn: biden's reckless policies are destroying our economy.\\n \\nbank of america analysts say that a severe recession will be n…\",\n",
       " '@nytopinion how can fraud be stopped!!! when bank of america does not work with law enforcement to catch the criminal. executive team doesn’t care to help!!! @bofa_help @bankofamerica @bofa_news',\n",
       " 'rt @stockswingalert: $spy bank of america cuts s&amp;p 500 price target by 20% to a new street-low.\\n\\nyear end price target of $360.\\U0001fa78',\n",
       " \"rt @marshablackburn: biden's reckless policies are destroying our economy.\\n \\nbank of america analysts say that a severe recession will be n…\",\n",
       " 'rt @stockswingalert: $spy bank of america cuts s&amp;p 500 price target by 20% to a new street-low.\\n\\nyear end price target of $360.\\U0001fa78',\n",
       " 'rt @stockswingalert: $spy bank of america cuts s&amp;p 500 price target by 20% to a new street-low.\\n\\nyear end price target of $360.\\U0001fa78',\n",
       " '$spy bank of america cuts s&amp;p 500 price target by 20% to a new street-low.\\n\\nyear end price target of $360.\\U0001fa78',\n",
       " \"rt @marshablackburn: biden's reckless policies are destroying our economy.\\n \\nbank of america analysts say that a severe recession will be n…\",\n",
       " 'lifestyle forecasts for bank of america stadium (https://t.co/jjvp17ebxb) https://t.co/9jjzngwwpo',\n",
       " \"rt @marshablackburn: biden's reckless policies are destroying our economy.\\n \\nbank of america analysts say that a severe recession will be n…\",\n",
       " \"rt @marshablackburn: biden's reckless policies are destroying our economy.\\n \\nbank of america analysts say that a severe recession will be n…\",\n",
       " \"rt @marshablackburn: biden's reckless policies are destroying our economy.\\n \\nbank of america analysts say that a severe recession will be n…\",\n",
       " 'rt @epochtimes: an analysis of @bankofamerica’s aggregated credit and debit card spending growth per household has shown a slowdown in such…',\n",
       " \"doc’s just in - jpmorgan chase &amp; co reported a bigger-than-expected 28% fall in second-quarter profit on thursday as america's largest bank set aside more money to cover potential losses in the face of growing risks of a recession.\",\n",
       " \"rt @marshablackburn: biden's reckless policies are destroying our economy.\\n \\nbank of america analysts say that a severe recession will be n…\",\n",
       " \"rt @marshablackburn: biden's reckless policies are destroying our economy.\\n \\nbank of america analysts say that a severe recession will be n…\",\n",
       " 'rt @cnbcpro: bank of america slashes s&amp;p 500 target, sees stocks falling another 5% by year-end https://t.co/iul745vgoz',\n",
       " 'bank of america cuts s&amp;p 500 price target by 20% to a new street-low https://t.co/b3nl4gzqhq https://t.co/xe8dbtnvjm',\n",
       " \"rt @marshablackburn: biden's reckless policies are destroying our economy.\\n \\nbank of america analysts say that a severe recession will be n…\",\n",
       " \"rt @marshablackburn: biden's reckless policies are destroying our economy.\\n \\nbank of america analysts say that a severe recession will be n…\",\n",
       " \"rt @marshablackburn: biden's reckless policies are destroying our economy.\\n \\nbank of america analysts say that a severe recession will be n…\",\n",
       " \"rt @bnnbreaking: just in: in light of the increased likelihood of a recession, america's largest bank, jpmorgan chase &amp; co., @jpmorgan repo…\",\n",
       " \"rt @marshablackburn: biden's reckless policies are destroying our economy.\\n \\nbank of america analysts say that a severe recession will be n…\",\n",
       " \"rt @marshablackburn: biden's reckless policies are destroying our economy.\\n \\nbank of america analysts say that a severe recession will be n…\",\n",
       " \"rt @marshablackburn: biden's reckless policies are destroying our economy.\\n \\nbank of america analysts say that a severe recession will be n…\",\n",
       " \"rt @marshablackburn: biden's reckless policies are destroying our economy.\\n \\nbank of america analysts say that a severe recession will be n…\",\n",
       " \"rt @marshablackburn: biden's reckless policies are destroying our economy.\\n \\nbank of america analysts say that a severe recession will be n…\",\n",
       " 'rt @street_insider: bank of america cuts s&amp;p 500 price target by 20% to a new street-low $spy https://t.co/4cwqpboh5e https://t.co/svgayl8b…']"
      ]
     },
     "execution_count": 13,
     "metadata": {},
     "output_type": "execute_result"
    }
   ],
   "source": [
    "tweet_text"
   ]
  },
  {
   "cell_type": "code",
   "execution_count": 14,
   "metadata": {},
   "outputs": [
    {
     "data": {
      "text/plain": [
       "[' biden reckless polici destroy economi bank america analyst say sever recess n ',\n",
       " ' biden reckless polici destroy economi bank america analyst say sever recess n ',\n",
       " ' biden reckless polici destroy economi bank america analyst say sever recess n ',\n",
       " ' biden reckless polici destroy economi bank america analyst say sever recess n ',\n",
       " ' biden reckless polici destroy economi bank america analyst say sever recess n ',\n",
       " ' biden reckless polici destroy economi bank america analyst say sever recess n ',\n",
       " ' biden reckless polici destroy economi bank america analyst say sever recess n ',\n",
       " ' biden reckless polici destroy economi bank america analyst say sever recess n ',\n",
       " ' biden reckless polici destroy economi bank america analyst say sever recess n ',\n",
       " ' biden reckless polici destroy economi bank america analyst say sever recess n ',\n",
       " ' biden reckless polici destroy economi bank america analyst say sever recess n ',\n",
       " ' biden reckless polici destroy economi bank america analyst say sever recess n ',\n",
       " ' biden reckless polici destroy economi bank america analyst say sever recess n ',\n",
       " ' biden reckless polici destroy economi bank america analyst say sever recess n ',\n",
       " ' biden reckless polici destroy economi bank america analyst say sever recess n ',\n",
       " ' biden reckless polici destroy economi bank america analyst say sever recess n ',\n",
       " ' biden reckless polici destroy economi bank america analyst say sever recess n ',\n",
       " ' biden reckless polici destroy economi bank america analyst say sever recess n ',\n",
       " ' biden reckless polici destroy economi bank america analyst say sever recess n ',\n",
       " ' biden reckless polici destroy economi bank america analyst say sever recess n ',\n",
       " ' biden reckless polici destroy economi bank america analyst say sever recess n ',\n",
       " ' biden reckless polici destroy economi bank america analyst say sever recess n ',\n",
       " ' biden reckless polici destroy economi bank america analyst say sever recess n ',\n",
       " ' biden reckless polici destroy economi bank america analyst say sever recess n ',\n",
       " ' biden reckless polici destroy economi bank america analyst say sever recess n ',\n",
       " ' biden reckless polici destroy economi bank america analyst say sever recess n ',\n",
       " ' biden reckless polici destroy economi bank america analyst say sever recess n ',\n",
       " ' notic game industri tech outsid startup startup usual ab ',\n",
       " ' biden reckless polici destroy economi bank america analyst say sever recess n ',\n",
       " ' biden reckless polici destroy economi bank america analyst say sever recess n ',\n",
       " ' biden reckless polici destroy economi bank america analyst say sever recess n ',\n",
       " ' biden reckless polici destroy economi bank america analyst say sever recess n ',\n",
       " ' biden reckless polici destroy economi bank america analyst say sever recess n ',\n",
       " ' biden reckless polici destroy economi bank america analyst say sever recess n ',\n",
       " ' biden reckless polici destroy economi bank america analyst say sever recess n ',\n",
       " ' biden reckless polici destroy economi bank america analyst say sever recess n ',\n",
       " ' biden reckless polici destroy economi bank america analyst say sever recess n ',\n",
       " ' biden reckless polici destroy economi bank america analyst say sever recess n ',\n",
       " ' biden reckless polici destroy economi bank america analyst say sever recess n ',\n",
       " ' biden reckless polici destroy economi bank america analyst say sever recess n ',\n",
       " ' biden reckless polici destroy economi bank america analyst say sever recess n ',\n",
       " ' biden reckless polici destroy economi bank america analyst say sever recess n ',\n",
       " ' biden reckless polici destroy economi bank america analyst say sever recess n ',\n",
       " ' biden reckless polici destroy economi bank america analyst say sever recess n ',\n",
       " ' biden reckless polici destroy economi bank america analyst say sever recess n ',\n",
       " ' biden reckless polici destroy economi bank america analyst say sever recess n ',\n",
       " ' biden reckless polici destroy economi bank america analyst say sever recess n ',\n",
       " ' biden reckless polici destroy economi bank america analyst say sever recess n ',\n",
       " ' biden reckless polici destroy economi bank america analyst say sever recess n ',\n",
       " ' biden reckless polici destroy economi bank america analyst say sever recess n ',\n",
       " ' biden reckless polici destroy economi bank america analyst say sever recess n ',\n",
       " ' biden reckless polici destroy economi bank america analyst say sever recess n ']"
      ]
     },
     "execution_count": 14,
     "metadata": {},
     "output_type": "execute_result"
    }
   ],
   "source": [
    "negative"
   ]
  },
  {
   "cell_type": "code",
   "execution_count": null,
   "metadata": {},
   "outputs": [],
   "source": []
  }
 ],
 "metadata": {
  "kernelspec": {
   "display_name": "Python 3 (ipykernel)",
   "language": "python",
   "name": "python3"
  },
  "language_info": {
   "codemirror_mode": {
    "name": "ipython",
    "version": 3
   },
   "file_extension": ".py",
   "mimetype": "text/x-python",
   "name": "python",
   "nbconvert_exporter": "python",
   "pygments_lexer": "ipython3",
   "version": "3.7.6"
  }
 },
 "nbformat": 4,
 "nbformat_minor": 2
}
