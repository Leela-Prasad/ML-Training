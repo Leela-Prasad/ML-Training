{
 "cells": [
  {
   "cell_type": "code",
   "execution_count": 3,
   "metadata": {},
   "outputs": [],
   "source": [
    "brides = [\"smart, homely, educated, girl\",\"fair, cultured, family, values\",\"attractive, girl,doctor\" ]\n",
    "grooms = [\"govt employee, non smoker\",\"engineer employee, vegan\",\"doctor, own house, traditinal family\"]"
   ]
  },
  {
   "cell_type": "code",
   "execution_count": 4,
   "metadata": {},
   "outputs": [],
   "source": [
    "corpus = brides + grooms"
   ]
  },
  {
   "cell_type": "code",
   "execution_count": 5,
   "metadata": {},
   "outputs": [
    {
     "data": {
      "text/plain": [
       "['smart, homely, educated, girl',\n",
       " 'fair, cultured, family, values',\n",
       " 'attractive, girl,doctor',\n",
       " 'govt employee, non smoker',\n",
       " 'engineer employee, vegan',\n",
       " 'doctor, own house, traditinal family']"
      ]
     },
     "execution_count": 5,
     "metadata": {},
     "output_type": "execute_result"
    }
   ],
   "source": [
    "corpus"
   ]
  },
  {
   "cell_type": "code",
   "execution_count": 6,
   "metadata": {},
   "outputs": [],
   "source": [
    "corpus = \" \".join(corpus)"
   ]
  },
  {
   "cell_type": "code",
   "execution_count": 7,
   "metadata": {},
   "outputs": [
    {
     "data": {
      "text/plain": [
       "'smart, homely, educated, girl fair, cultured, family, values attractive, girl,doctor govt employee, non smoker engineer employee, vegan doctor, own house, traditinal family'"
      ]
     },
     "execution_count": 7,
     "metadata": {},
     "output_type": "execute_result"
    }
   ],
   "source": [
    "corpus"
   ]
  },
  {
   "cell_type": "code",
   "execution_count": 8,
   "metadata": {},
   "outputs": [],
   "source": [
    "corpus = tuple(set(corpus.replace(',',\" \").split()))"
   ]
  },
  {
   "cell_type": "code",
   "execution_count": 9,
   "metadata": {},
   "outputs": [
    {
     "data": {
      "text/plain": [
       "('vegan',\n",
       " 'cultured',\n",
       " 'doctor',\n",
       " 'fair',\n",
       " 'non',\n",
       " 'educated',\n",
       " 'own',\n",
       " 'family',\n",
       " 'homely',\n",
       " 'attractive',\n",
       " 'smoker',\n",
       " 'engineer',\n",
       " 'values',\n",
       " 'house',\n",
       " 'govt',\n",
       " 'employee',\n",
       " 'smart',\n",
       " 'traditinal',\n",
       " 'girl')"
      ]
     },
     "execution_count": 9,
     "metadata": {},
     "output_type": "execute_result"
    }
   ],
   "source": [
    "corpus"
   ]
  },
  {
   "cell_type": "code",
   "execution_count": 10,
   "metadata": {},
   "outputs": [
    {
     "data": {
      "text/plain": [
       "16"
      ]
     },
     "execution_count": 10,
     "metadata": {},
     "output_type": "execute_result"
    }
   ],
   "source": [
    "corpus.index('smart')"
   ]
  },
  {
   "cell_type": "code",
   "execution_count": 12,
   "metadata": {},
   "outputs": [
    {
     "name": "stdout",
     "output_type": "stream",
     "text": [
      "{'smart': 16, 'homely': 8, 'educated': 5, 'girl': 18}\n",
      "{'fair': 3, 'cultured': 1, 'family': 7, 'values': 12}\n",
      "{'attractive': 9, 'girl': 18, 'doctor': 2}\n"
     ]
    }
   ],
   "source": [
    "for ad in brides:\n",
    "    words = ad.replace(\",\",\" \").split()\n",
    "    ad_dict={}\n",
    "    for word in words:\n",
    "        ad_dict[word]=corpus.index(word)\n",
    "    print(ad_dict)"
   ]
  },
  {
   "cell_type": "code",
   "execution_count": 13,
   "metadata": {},
   "outputs": [
    {
     "name": "stdout",
     "output_type": "stream",
     "text": [
      "{'govt': 14, 'employee': 15, 'non': 4, 'smoker': 10}\n",
      "{'engineer': 11, 'employee': 15, 'vegan': 0}\n",
      "{'doctor': 2, 'own': 6, 'house': 13, 'traditinal': 17, 'family': 7}\n"
     ]
    }
   ],
   "source": [
    "for ad in grooms:\n",
    "    words = ad.replace(\",\",\" \").split()\n",
    "    ad_dict={}\n",
    "    for word in words:\n",
    "        ad_dict[word]=corpus.index(word)\n",
    "    print(ad_dict)"
   ]
  },
  {
   "cell_type": "code",
   "execution_count": 14,
   "metadata": {},
   "outputs": [],
   "source": [
    "dataset = []\n",
    "for ad in grooms:\n",
    "    words = ad.replace(\",\",\" \").split()\n",
    "    tmp={}\n",
    "    for word in corpus:\n",
    "        tmp[word] = int(word in words)\n",
    "    tmp[\"for\"] = \"Groom\"\n",
    "    dataset.append(tmp)\n",
    "    \n",
    "for ad in brides:\n",
    "    words = ad.replace(\",\",\" \").split()\n",
    "    tmp={}\n",
    "    for word in corpus:\n",
    "        tmp[word] = int(word in words)\n",
    "    tmp[\"for\"] = \"Bride\"\n",
    "    dataset.append(tmp)"
   ]
  },
  {
   "cell_type": "code",
   "execution_count": 15,
   "metadata": {},
   "outputs": [
    {
     "data": {
      "text/plain": [
       "[{'vegan': 0,\n",
       "  'cultured': 0,\n",
       "  'doctor': 0,\n",
       "  'fair': 0,\n",
       "  'non': 1,\n",
       "  'educated': 0,\n",
       "  'own': 0,\n",
       "  'family': 0,\n",
       "  'homely': 0,\n",
       "  'attractive': 0,\n",
       "  'smoker': 1,\n",
       "  'engineer': 0,\n",
       "  'values': 0,\n",
       "  'house': 0,\n",
       "  'govt': 1,\n",
       "  'employee': 1,\n",
       "  'smart': 0,\n",
       "  'traditinal': 0,\n",
       "  'girl': 0,\n",
       "  'for': 'Groom'},\n",
       " {'vegan': 1,\n",
       "  'cultured': 0,\n",
       "  'doctor': 0,\n",
       "  'fair': 0,\n",
       "  'non': 0,\n",
       "  'educated': 0,\n",
       "  'own': 0,\n",
       "  'family': 0,\n",
       "  'homely': 0,\n",
       "  'attractive': 0,\n",
       "  'smoker': 0,\n",
       "  'engineer': 1,\n",
       "  'values': 0,\n",
       "  'house': 0,\n",
       "  'govt': 0,\n",
       "  'employee': 1,\n",
       "  'smart': 0,\n",
       "  'traditinal': 0,\n",
       "  'girl': 0,\n",
       "  'for': 'Groom'},\n",
       " {'vegan': 0,\n",
       "  'cultured': 0,\n",
       "  'doctor': 1,\n",
       "  'fair': 0,\n",
       "  'non': 0,\n",
       "  'educated': 0,\n",
       "  'own': 1,\n",
       "  'family': 1,\n",
       "  'homely': 0,\n",
       "  'attractive': 0,\n",
       "  'smoker': 0,\n",
       "  'engineer': 0,\n",
       "  'values': 0,\n",
       "  'house': 1,\n",
       "  'govt': 0,\n",
       "  'employee': 0,\n",
       "  'smart': 0,\n",
       "  'traditinal': 1,\n",
       "  'girl': 0,\n",
       "  'for': 'Groom'},\n",
       " {'vegan': 0,\n",
       "  'cultured': 0,\n",
       "  'doctor': 0,\n",
       "  'fair': 0,\n",
       "  'non': 0,\n",
       "  'educated': 1,\n",
       "  'own': 0,\n",
       "  'family': 0,\n",
       "  'homely': 1,\n",
       "  'attractive': 0,\n",
       "  'smoker': 0,\n",
       "  'engineer': 0,\n",
       "  'values': 0,\n",
       "  'house': 0,\n",
       "  'govt': 0,\n",
       "  'employee': 0,\n",
       "  'smart': 1,\n",
       "  'traditinal': 0,\n",
       "  'girl': 1,\n",
       "  'for': 'Bride'},\n",
       " {'vegan': 0,\n",
       "  'cultured': 1,\n",
       "  'doctor': 0,\n",
       "  'fair': 1,\n",
       "  'non': 0,\n",
       "  'educated': 0,\n",
       "  'own': 0,\n",
       "  'family': 1,\n",
       "  'homely': 0,\n",
       "  'attractive': 0,\n",
       "  'smoker': 0,\n",
       "  'engineer': 0,\n",
       "  'values': 1,\n",
       "  'house': 0,\n",
       "  'govt': 0,\n",
       "  'employee': 0,\n",
       "  'smart': 0,\n",
       "  'traditinal': 0,\n",
       "  'girl': 0,\n",
       "  'for': 'Bride'},\n",
       " {'vegan': 0,\n",
       "  'cultured': 0,\n",
       "  'doctor': 1,\n",
       "  'fair': 0,\n",
       "  'non': 0,\n",
       "  'educated': 0,\n",
       "  'own': 0,\n",
       "  'family': 0,\n",
       "  'homely': 0,\n",
       "  'attractive': 1,\n",
       "  'smoker': 0,\n",
       "  'engineer': 0,\n",
       "  'values': 0,\n",
       "  'house': 0,\n",
       "  'govt': 0,\n",
       "  'employee': 0,\n",
       "  'smart': 0,\n",
       "  'traditinal': 0,\n",
       "  'girl': 1,\n",
       "  'for': 'Bride'}]"
      ]
     },
     "execution_count": 15,
     "metadata": {},
     "output_type": "execute_result"
    }
   ],
   "source": [
    "dataset"
   ]
  },
  {
   "cell_type": "code",
   "execution_count": null,
   "metadata": {},
   "outputs": [],
   "source": [
    "import pandas as pd"
   ]
  },
  {
   "cell_type": "code",
   "execution_count": null,
   "metadata": {},
   "outputs": [],
   "source": [
    "df = pd.DataFrame(dataset)"
   ]
  },
  {
   "cell_type": "code",
   "execution_count": null,
   "metadata": {},
   "outputs": [],
   "source": [
    "df.tail()"
   ]
  },
  {
   "cell_type": "code",
   "execution_count": null,
   "metadata": {},
   "outputs": [],
   "source": [
    "df.shape"
   ]
  },
  {
   "cell_type": "code",
   "execution_count": null,
   "metadata": {},
   "outputs": [],
   "source": [
    "target = df['for']\n",
    "features = df.drop(columns=[\"for\"])"
   ]
  },
  {
   "cell_type": "code",
   "execution_count": null,
   "metadata": {},
   "outputs": [],
   "source": [
    "target.head()"
   ]
  },
  {
   "cell_type": "code",
   "execution_count": null,
   "metadata": {},
   "outputs": [],
   "source": [
    "features.head()"
   ]
  },
  {
   "cell_type": "code",
   "execution_count": null,
   "metadata": {},
   "outputs": [],
   "source": [
    "from sklearn.linear_model import LogisticRegression"
   ]
  },
  {
   "cell_type": "code",
   "execution_count": null,
   "metadata": {},
   "outputs": [],
   "source": [
    "lr = LogisticRegression()"
   ]
  },
  {
   "cell_type": "code",
   "execution_count": null,
   "metadata": {},
   "outputs": [],
   "source": [
    "lr.fit(features,target)"
   ]
  },
  {
   "cell_type": "code",
   "execution_count": null,
   "metadata": {},
   "outputs": [],
   "source": [
    "lr.score(features,target)"
   ]
  },
  {
   "cell_type": "code",
   "execution_count": null,
   "metadata": {},
   "outputs": [],
   "source": [
    "lr.predict(features)"
   ]
  }
 ],
 "metadata": {
  "kernelspec": {
   "display_name": "Python 3 (ipykernel)",
   "language": "python",
   "name": "python3"
  },
  "language_info": {
   "codemirror_mode": {
    "name": "ipython",
    "version": 3
   },
   "file_extension": ".py",
   "mimetype": "text/x-python",
   "name": "python",
   "nbconvert_exporter": "python",
   "pygments_lexer": "ipython3",
   "version": "3.9.12"
  }
 },
 "nbformat": 4,
 "nbformat_minor": 4
}
