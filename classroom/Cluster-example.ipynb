{
 "cells": [
  {
   "cell_type": "code",
   "execution_count": null,
   "id": "4dc92eb7",
   "metadata": {},
   "outputs": [],
   "source": [
    "data = [20,22,34,1,5,7,87,67,90,34,1,9,10]"
   ]
  },
  {
   "cell_type": "code",
   "execution_count": null,
   "id": "bce6804b",
   "metadata": {},
   "outputs": [],
   "source": [
    "[20,22,34,1][5,7,87,67][90,34,1,9,10]"
   ]
  },
  {
   "cell_type": "code",
   "execution_count": null,
   "id": "b69432f5",
   "metadata": {},
   "outputs": [],
   "source": [
    "19, 41, 29"
   ]
  },
  {
   "cell_type": "code",
   "execution_count": null,
   "id": "aa055138",
   "metadata": {},
   "outputs": [],
   "source": [
    "[20,22,1,5,7,1,9,10][34,87,67,90][34]"
   ]
  },
  {
   "cell_type": "code",
   "execution_count": null,
   "id": "4e8e6432",
   "metadata": {},
   "outputs": [],
   "source": [
    "9, 69, 34"
   ]
  },
  {
   "cell_type": "code",
   "execution_count": null,
   "id": "9942f861",
   "metadata": {},
   "outputs": [],
   "source": [
    "[20,1,2,7,1,9,10 ][87,67,90][22,34,34]"
   ]
  },
  {
   "cell_type": "code",
   "execution_count": null,
   "id": "347b84e4",
   "metadata": {},
   "outputs": [],
   "source": [
    "7, 81, 30"
   ]
  },
  {
   "cell_type": "code",
   "execution_count": null,
   "id": "64d8fcf8",
   "metadata": {},
   "outputs": [],
   "source": [
    "[1,2,7,1,9,10][87,67,90][20,22,34,34]"
   ]
  },
  {
   "cell_type": "code",
   "execution_count": null,
   "id": "b35e0611",
   "metadata": {},
   "outputs": [],
   "source": [
    "5, 81, 27"
   ]
  },
  {
   "cell_type": "code",
   "execution_count": null,
   "id": "e4d7fb82",
   "metadata": {},
   "outputs": [],
   "source": [
    "[1,2,7,1,9,10][][]"
   ]
  }
 ],
 "metadata": {
  "kernelspec": {
   "display_name": "Python 3 (ipykernel)",
   "language": "python",
   "name": "python3"
  },
  "language_info": {
   "codemirror_mode": {
    "name": "ipython",
    "version": 3
   },
   "file_extension": ".py",
   "mimetype": "text/x-python",
   "name": "python",
   "nbconvert_exporter": "python",
   "pygments_lexer": "ipython3",
   "version": "3.9.12"
  }
 },
 "nbformat": 4,
 "nbformat_minor": 5
}
