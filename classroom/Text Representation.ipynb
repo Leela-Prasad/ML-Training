{
 "cells": [
  {
   "cell_type": "code",
   "execution_count": 3,
   "id": "d383e91f",
   "metadata": {},
   "outputs": [],
   "source": [
    "text = '''\n",
    "The Maharashtra government has reduced the prices of petrol and diesel by Rs 5 per litre and Rs 3 per litre respectively, the state’s chief minister Eknath Shinde said on Thursday, July 13. The decision was taken during the second cabinet meeting of the new government, which was formed last month after former chief minister Uddhav Thackeray resigned. Shinde informed reporters after the cabinet meeting at Mantralaya that the decision to reduce petrol, diesel price in Maharashtra would entail a burden of Rs 6,000 crore on the state exchequer.\n",
    "\n",
    "“Maharashtra government will reduce value added tax (VAT) on petrol and diesel by Rs 5 and Rs 3 per litre respectively,\" the newly sworn-in chief minister said on the day.\n",
    "\n",
    "Following the price reduction, petrol price in Mumbai will come down to Rs 106.35 per litre, as opposed to the Rs 111.35 per litre now. Similarly, diesel price in Mumbai will be cut to Rs 94.28 per litre, down by Rs 3 from the present Rs 97.28 per litre. In Pune, petrol price will be Rs 105.88 per litre, while diesel will be priced at Rs 92.37 for one litre. The price of one litre of petrol in Thane will come down to Rs 106.49 after the new rates are implemented. Diesel price in Thane will be reduced to Rs 94.42 per litre.\n",
    "'''"
   ]
  },
  {
   "cell_type": "code",
   "execution_count": 4,
   "id": "71733149",
   "metadata": {},
   "outputs": [
    {
     "data": {
      "text/plain": [
       "1251"
      ]
     },
     "execution_count": 4,
     "metadata": {},
     "output_type": "execute_result"
    }
   ],
   "source": [
    "len(text)"
   ]
  },
  {
   "cell_type": "code",
   "execution_count": 5,
   "id": "6e842d26",
   "metadata": {},
   "outputs": [],
   "source": [
    "words = text.split()"
   ]
  },
  {
   "cell_type": "code",
   "execution_count": 6,
   "id": "888fd1d7",
   "metadata": {},
   "outputs": [
    {
     "data": {
      "text/plain": [
       "222"
      ]
     },
     "execution_count": 6,
     "metadata": {},
     "output_type": "execute_result"
    }
   ],
   "source": [
    "len(words)"
   ]
  },
  {
   "cell_type": "code",
   "execution_count": 8,
   "id": "04dfcf99",
   "metadata": {},
   "outputs": [
    {
     "data": {
      "text/plain": [
       "108"
      ]
     },
     "execution_count": 8,
     "metadata": {},
     "output_type": "execute_result"
    }
   ],
   "source": [
    "len(set(words))"
   ]
  },
  {
   "cell_type": "code",
   "execution_count": 9,
   "id": "d1177c0c",
   "metadata": {},
   "outputs": [
    {
     "data": {
      "text/plain": [
       "105"
      ]
     },
     "execution_count": 9,
     "metadata": {},
     "output_type": "execute_result"
    }
   ],
   "source": [
    "len(set(text.lower().split()))"
   ]
  },
  {
   "cell_type": "code",
   "execution_count": 10,
   "id": "dc26acd0",
   "metadata": {},
   "outputs": [],
   "source": [
    "unique_words = set(text.lower().split())"
   ]
  },
  {
   "cell_type": "code",
   "execution_count": 11,
   "id": "47cefdf2",
   "metadata": {},
   "outputs": [
    {
     "name": "stdout",
     "output_type": "stream",
     "text": [
      "1 entail\n",
      "4 reduce\n",
      "1 tax\n",
      "6 to\n",
      "1 6,000\n",
      "1 petrol,\n",
      "1 94.42\n",
      "4 for\n",
      "19 in\n",
      "4 and\n",
      "1 reduction,\n",
      "7 will\n",
      "8 at\n",
      "2 cabinet\n",
      "3 maharashtra\n",
      "1 while\n",
      "11 on\n",
      "1 government,\n",
      "1 rates\n",
      "1 similarly,\n",
      "3 litre,\n",
      "1 (vat)\n",
      "1 opposed\n",
      "5 5\n",
      "9 price\n",
      "1 last\n",
      "16 rs\n",
      "1 respectively,\"\n",
      "2 meeting\n",
      "1 newly\n",
      "1 during\n",
      "1 former\n",
      "1 july\n",
      "1 prices\n",
      "1 sworn-in\n",
      "3 by\n",
      "1 burden\n",
      "1 uddhav\n",
      "3 chief\n",
      "1 thackeray\n",
      "3 minister\n",
      "2 formed\n",
      "2 decision\n",
      "1 now.\n",
      "1 resigned.\n",
      "1 which\n",
      "2 mumbai\n",
      "1 day.\n",
      "1 that\n",
      "8 as\n",
      "2 one\n",
      "1 “maharashtra\n",
      "11 litre\n",
      "2 reduced\n",
      "2 shinde\n",
      "1 from\n",
      "3 down\n",
      "5 of\n",
      "1 month\n",
      "57 a\n",
      "1 111.35\n",
      "4 be\n",
      "1 92.37\n",
      "1 priced\n",
      "2 come\n",
      "2 said\n",
      "1 reporters\n",
      "1 taken\n",
      "2 thane\n",
      "6 petrol\n",
      "1 present\n",
      "2 state\n",
      "3 government\n",
      "1 97.28\n",
      "3 litre.\n",
      "1 second\n",
      "1 13.\n",
      "3 new\n",
      "1 state’s\n",
      "1 crore\n",
      "1 would\n",
      "1 following\n",
      "1 105.88\n",
      "1 are\n",
      "1 eknath\n",
      "16 the\n",
      "1 implemented.\n",
      "1 106.49\n",
      "1 added\n",
      "1 pune,\n",
      "1 mantralaya\n",
      "2 respectively,\n",
      "1 cut\n",
      "3 after\n",
      "1 informed\n",
      "6 diesel\n",
      "1 94.28\n",
      "1 value\n",
      "1 exchequer.\n",
      "7 3\n",
      "1 has\n",
      "2 was\n",
      "9 per\n",
      "1 106.35\n",
      "1 thursday,\n"
     ]
    }
   ],
   "source": [
    "for word in unique_words:\n",
    "    print(text.lower().count(word), word)"
   ]
  },
  {
   "cell_type": "code",
   "execution_count": 12,
   "id": "ed4c6784",
   "metadata": {},
   "outputs": [],
   "source": [
    "data = {}\n",
    "for word in unique_words:\n",
    "    data[word] = text.lower().count(word)"
   ]
  },
  {
   "cell_type": "code",
   "execution_count": 13,
   "id": "3fe6e6bf",
   "metadata": {},
   "outputs": [
    {
     "data": {
      "text/plain": [
       "{'entail': 1,\n",
       " 'reduce': 4,\n",
       " 'tax': 1,\n",
       " 'to': 6,\n",
       " '6,000': 1,\n",
       " 'petrol,': 1,\n",
       " '94.42': 1,\n",
       " 'for': 4,\n",
       " 'in': 19,\n",
       " 'and': 4,\n",
       " 'reduction,': 1,\n",
       " 'will': 7,\n",
       " 'at': 8,\n",
       " 'cabinet': 2,\n",
       " 'maharashtra': 3,\n",
       " 'while': 1,\n",
       " 'on': 11,\n",
       " 'government,': 1,\n",
       " 'rates': 1,\n",
       " 'similarly,': 1,\n",
       " 'litre,': 3,\n",
       " '(vat)': 1,\n",
       " 'opposed': 1,\n",
       " '5': 5,\n",
       " 'price': 9,\n",
       " 'last': 1,\n",
       " 'rs': 16,\n",
       " 'respectively,\"': 1,\n",
       " 'meeting': 2,\n",
       " 'newly': 1,\n",
       " 'during': 1,\n",
       " 'former': 1,\n",
       " 'july': 1,\n",
       " 'prices': 1,\n",
       " 'sworn-in': 1,\n",
       " 'by': 3,\n",
       " 'burden': 1,\n",
       " 'uddhav': 1,\n",
       " 'chief': 3,\n",
       " 'thackeray': 1,\n",
       " 'minister': 3,\n",
       " 'formed': 2,\n",
       " 'decision': 2,\n",
       " 'now.': 1,\n",
       " 'resigned.': 1,\n",
       " 'which': 1,\n",
       " 'mumbai': 2,\n",
       " 'day.': 1,\n",
       " 'that': 1,\n",
       " 'as': 8,\n",
       " 'one': 2,\n",
       " '“maharashtra': 1,\n",
       " 'litre': 11,\n",
       " 'reduced': 2,\n",
       " 'shinde': 2,\n",
       " 'from': 1,\n",
       " 'down': 3,\n",
       " 'of': 5,\n",
       " 'month': 1,\n",
       " 'a': 57,\n",
       " '111.35': 1,\n",
       " 'be': 4,\n",
       " '92.37': 1,\n",
       " 'priced': 1,\n",
       " 'come': 2,\n",
       " 'said': 2,\n",
       " 'reporters': 1,\n",
       " 'taken': 1,\n",
       " 'thane': 2,\n",
       " 'petrol': 6,\n",
       " 'present': 1,\n",
       " 'state': 2,\n",
       " 'government': 3,\n",
       " '97.28': 1,\n",
       " 'litre.': 3,\n",
       " 'second': 1,\n",
       " '13.': 1,\n",
       " 'new': 3,\n",
       " 'state’s': 1,\n",
       " 'crore': 1,\n",
       " 'would': 1,\n",
       " 'following': 1,\n",
       " '105.88': 1,\n",
       " 'are': 1,\n",
       " 'eknath': 1,\n",
       " 'the': 16,\n",
       " 'implemented.': 1,\n",
       " '106.49': 1,\n",
       " 'added': 1,\n",
       " 'pune,': 1,\n",
       " 'mantralaya': 1,\n",
       " 'respectively,': 2,\n",
       " 'cut': 1,\n",
       " 'after': 3,\n",
       " 'informed': 1,\n",
       " 'diesel': 6,\n",
       " '94.28': 1,\n",
       " 'value': 1,\n",
       " 'exchequer.': 1,\n",
       " '3': 7,\n",
       " 'has': 1,\n",
       " 'was': 2,\n",
       " 'per': 9,\n",
       " '106.35': 1,\n",
       " 'thursday,': 1}"
      ]
     },
     "execution_count": 13,
     "metadata": {},
     "output_type": "execute_result"
    }
   ],
   "source": [
    "data"
   ]
  },
  {
   "cell_type": "code",
   "execution_count": null,
   "id": "26f17da7",
   "metadata": {},
   "outputs": [],
   "source": [
    "text1 = \"hello how are you\"\n",
    "text2 = \"\""
   ]
  }
 ],
 "metadata": {
  "kernelspec": {
   "display_name": "Python 3 (ipykernel)",
   "language": "python",
   "name": "python3"
  },
  "language_info": {
   "codemirror_mode": {
    "name": "ipython",
    "version": 3
   },
   "file_extension": ".py",
   "mimetype": "text/x-python",
   "name": "python",
   "nbconvert_exporter": "python",
   "pygments_lexer": "ipython3",
   "version": "3.9.12"
  }
 },
 "nbformat": 4,
 "nbformat_minor": 5
}
