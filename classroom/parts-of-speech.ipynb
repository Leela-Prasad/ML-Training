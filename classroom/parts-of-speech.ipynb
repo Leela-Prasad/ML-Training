{
 "cells": [
  {
   "cell_type": "markdown",
   "metadata": {},
   "source": [
    "### Parts of Speech Tagging"
   ]
  },
  {
   "cell_type": "markdown",
   "metadata": {},
   "source": [
    "Assigns parts of speech to each word (and other token), such as noun, verb, adjective, etc."
   ]
  },
  {
   "cell_type": "code",
   "execution_count": 13,
   "metadata": {},
   "outputs": [
    {
     "name": "stderr",
     "output_type": "stream",
     "text": [
      "[nltk_data] Downloading package averaged_perceptron_tagger to\n",
      "[nltk_data]     C:\\Users\\Administrator\\AppData\\Roaming\\nltk_data...\n",
      "[nltk_data]   Package averaged_perceptron_tagger is already up-to-\n",
      "[nltk_data]       date!\n",
      "[nltk_data] Downloading package universal_tagset to\n",
      "[nltk_data]     C:\\Users\\Administrator\\AppData\\Roaming\\nltk_data...\n",
      "[nltk_data]   Unzipping taggers\\universal_tagset.zip.\n"
     ]
    },
    {
     "data": {
      "text/plain": [
       "True"
      ]
     },
     "execution_count": 13,
     "metadata": {},
     "output_type": "execute_result"
    }
   ],
   "source": [
    "from nltk.tokenize import word_tokenize\n",
    "from nltk.tag import pos_tag\n",
    "import nltk\n",
    "nltk.download('averaged_perceptron_tagger')\n",
    "nltk.download('universal_tagset')"
   ]
  },
  {
   "cell_type": "code",
   "execution_count": 8,
   "metadata": {},
   "outputs": [],
   "source": [
    "posmap = {'PRP$': 'possessive pronoun\\tmy, his, hers', 'VBG': 'verb, gerund/present participle\\ttaking', 'FW': 'foreign word', 'VBN': 'verb, past participle\\ttaken', 'VBP': 'verb, sing. present, non-3d\\ttake', 'WDT': 'wh-determiner\\twhich', 'JJ': \"adjective\\t'big'\", 'WP': 'wh-pronoun\\twho, what', 'VBZ': 'verb, 3rd person sing. present\\ttakes', 'DT': 'determiner', 'RP': 'particle\\tgive up', 'NN': \"noun, singular 'desk'\", 'VBD': 'verb, past tense\\ttook', 'POS': \"possessive ending\\tparent's\", 'TO': \"to\\tgo 'to' the store.\", 'PRP': 'personal pronoun\\tI, he, she', 'RB': 'adverb\\tvery, silently,', 'NNS': \"noun plural\\t'desks'\", 'NNP': \"proper noun, singular\\t'Harrison'\", 'VB': 'verb, base form\\ttake', 'WRB': 'wh-abverb\\twhere, when', 'CC': 'coordinating conjunction', 'LS': 'list marker\\t1)', 'PDT': \"predeterminer\\t'all the kids'\", 'RBS': 'adverb, superlative\\tbest', 'RBR': 'adverb, comparative\\tbetter', 'CD': 'cardinal digit', 'EX': 'existential there (like \"there is\" ... think of it like \"there exists\")', 'IN': 'preposition/subordinating conjunction', 'WP$': 'possessive wh-pronoun\\twhose', 'MD': 'modal\\tcould, will', 'NNPS': \"proper noun, plural\\t'Americans'\", 'JJS': \"adjective, superlative\\t'biggest'\", 'JJR': \"adjective, comparative\\t'bigger'\", 'UH': 'interjection\\terrrrrrrrm'}"
   ]
  },
  {
   "cell_type": "code",
   "execution_count": 9,
   "metadata": {},
   "outputs": [],
   "source": [
    "text = \"Look. Pretty, isn't it? Perfectly balanced, as all things should be.\"\n",
    "text1 = \"The hardest choices require the strongest wills.\"\n",
    "text2 = \"Stark, you have my respect. I hope the people of Earth will remember you.\"\n",
    "text3 = \"Ok google, how do I google for a word. How are you guru?\""
   ]
  },
  {
   "cell_type": "code",
   "execution_count": 10,
   "metadata": {},
   "outputs": [],
   "source": [
    "words = word_tokenize(text3)"
   ]
  },
  {
   "cell_type": "code",
   "execution_count": 11,
   "metadata": {},
   "outputs": [
    {
     "name": "stdout",
     "output_type": "stream",
     "text": [
      "Ok  --->, NNP (proper noun, singular\t'Harrison')\n",
      "google  --->, NN (noun, singular 'desk')\n",
      ",  --->, , (None)\n",
      "how  --->, WRB (wh-abverb\twhere, when)\n",
      "do  --->, VBP (verb, sing. present, non-3d\ttake)\n",
      "I  --->, PRP (personal pronoun\tI, he, she)\n",
      "google  --->, VB (verb, base form\ttake)\n",
      "for  --->, IN (preposition/subordinating conjunction)\n",
      "a  --->, DT (determiner)\n",
      "word  --->, NN (noun, singular 'desk')\n",
      ".  --->, . (None)\n",
      "How  --->, WRB (wh-abverb\twhere, when)\n",
      "are  --->, VBP (verb, sing. present, non-3d\ttake)\n",
      "you  --->, PRP (personal pronoun\tI, he, she)\n",
      "guru  --->, FW (foreign word)\n",
      "?  --->, . (None)\n"
     ]
    }
   ],
   "source": [
    "for word,tag in pos_tag(words):\n",
    "    print (\"{}  --->, {} ({})\".format(word, tag , posmap.get(tag)))"
   ]
  },
  {
   "cell_type": "code",
   "execution_count": 14,
   "metadata": {},
   "outputs": [
    {
     "name": "stdout",
     "output_type": "stream",
     "text": [
      "Ok  --->, NOUN \n",
      "google  --->, NOUN \n",
      ",  --->, . \n",
      "how  --->, ADV \n",
      "do  --->, VERB \n",
      "I  --->, PRON \n",
      "google  --->, VERB \n",
      "for  --->, ADP \n",
      "a  --->, DET \n",
      "word  --->, NOUN \n",
      ".  --->, . \n",
      "How  --->, ADV \n",
      "are  --->, VERB \n",
      "you  --->, PRON \n",
      "guru  --->, X \n",
      "?  --->, . \n"
     ]
    }
   ],
   "source": [
    "for word,tag in pos_tag(words,tagset='universal'):\n",
    "    print (\"{}  --->, {} \".format(word, tag ))"
   ]
  },
  {
   "cell_type": "code",
   "execution_count": null,
   "metadata": {},
   "outputs": [],
   "source": []
  },
  {
   "cell_type": "code",
   "execution_count": null,
   "metadata": {},
   "outputs": [],
   "source": []
  }
 ],
 "metadata": {
  "kernelspec": {
   "display_name": "Python 3 (ipykernel)",
   "language": "python",
   "name": "python3"
  },
  "language_info": {
   "codemirror_mode": {
    "name": "ipython",
    "version": 3
   },
   "file_extension": ".py",
   "mimetype": "text/x-python",
   "name": "python",
   "nbconvert_exporter": "python",
   "pygments_lexer": "ipython3",
   "version": "3.9.12"
  }
 },
 "nbformat": 4,
 "nbformat_minor": 2
}
